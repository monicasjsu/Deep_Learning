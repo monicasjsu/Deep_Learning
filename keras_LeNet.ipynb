{
  "nbformat": 4,
  "nbformat_minor": 0,
  "metadata": {
    "colab": {
      "name": "keras_LeNet.ipynb",
      "provenance": [],
      "collapsed_sections": [],
      "mount_file_id": "1m_Ulh_7cVBaXFIV0yAQqVyWYmIv-_3Yw",
      "authorship_tag": "ABX9TyNtdS/egzNiQg74+GyQmsz3",
      "include_colab_link": true
    },
    "kernelspec": {
      "name": "python3",
      "display_name": "Python 3"
    },
    "accelerator": "GPU"
  },
  "cells": [
    {
      "cell_type": "markdown",
      "metadata": {
        "id": "view-in-github",
        "colab_type": "text"
      },
      "source": [
        "<a href=\"https://colab.research.google.com/github/monicasjsu/deep_learning/blob/master/keras_LeNet.ipynb\" target=\"_parent\"><img src=\"https://colab.research.google.com/assets/colab-badge.svg\" alt=\"Open In Colab\"/></a>"
      ]
    },
    {
      "cell_type": "markdown",
      "metadata": {
        "id": "ff5e3L9lqXiu",
        "colab_type": "text"
      },
      "source": [
        " **use KERAS and from scratch (not using existing architecture shipped models) write basic LeNet (mnist)**"
      ]
    },
    {
      "cell_type": "code",
      "metadata": {
        "id": "sslMtSMiwrYz",
        "colab_type": "code",
        "outputId": "6a7c3a1d-7ed6-4700-d209-a978d6448735",
        "colab": {
          "base_uri": "https://localhost:8080/",
          "height": 34
        }
      },
      "source": [
        "# LeNet for MNIST using Keras and TensorFlow\n",
        "\n",
        "from keras.layers.convolutional import Convolution2D\n",
        "from keras.layers.convolutional import MaxPooling2D\n",
        "from keras.layers.core import Activation\n",
        "from keras.layers.core import Flatten\n",
        "from keras.layers.core import Dense\n",
        "from keras.models import Sequential\n",
        "from keras.optimizers import SGD\n",
        "from keras.utils import np_utils\n",
        "from sklearn.model_selection import train_test_split\n",
        "from sklearn import datasets\n",
        "import numpy as np\n",
        "from keras.datasets import mnist\n",
        "import matplotlib. pyplot as plt\n",
        "from keras.preprocessing.image import ImageDataGenerator\n"
      ],
      "execution_count": 0,
      "outputs": [
        {
          "output_type": "stream",
          "text": [
            "Using TensorFlow backend.\n"
          ],
          "name": "stderr"
        }
      ]
    },
    {
      "cell_type": "markdown",
      "metadata": {
        "id": "Qj-6kywEyaxU",
        "colab_type": "text"
      },
      "source": [
        "Download the MNIST dataset from keras"
      ]
    },
    {
      "cell_type": "code",
      "metadata": {
        "id": "radL5zU3pukF",
        "colab_type": "code",
        "colab": {}
      },
      "source": [
        "# Download the MNIST dataset\n",
        "\n",
        "(X_train, y_train), (X_test, y_test) = mnist.load_data()"
      ],
      "execution_count": 0,
      "outputs": []
    },
    {
      "cell_type": "markdown",
      "metadata": {
        "id": "a2yCU3pvyScy",
        "colab_type": "text"
      },
      "source": [
        "Make sure images are loaded by plotting at least 1 digit."
      ]
    },
    {
      "cell_type": "code",
      "metadata": {
        "id": "sdOp9P7iyQ1_",
        "colab_type": "code",
        "outputId": "856d9701-34ae-4a05-cb0d-c5940990ec03",
        "colab": {
          "base_uri": "https://localhost:8080/",
          "height": 265
        }
      },
      "source": [
        "plt.imshow(X_train[0], cmap=plt.get_cmap('gray'))\n",
        "plt.show()"
      ],
      "execution_count": 0,
      "outputs": [
        {
          "output_type": "display_data",
          "data": {
            "image/png": "[encoded data removed]",
            "text/plain": [
              "<Figure size 432x288 with 1 Axes>"
            ]
          },
          "metadata": {
            "tags": [],
            "needs_background": "light"
          }
        }
      ]
    },
    {
      "cell_type": "code",
      "metadata": {
        "id": "Vd_Wu41ywZFK",
        "colab_type": "code",
        "outputId": "1753f3f9-6d45-47a2-d114-a5401494ea4e",
        "colab": {
          "base_uri": "https://localhost:8080/",
          "height": 34
        }
      },
      "source": [
        "X_train.shape"
      ],
      "execution_count": 0,
      "outputs": [
        {
          "output_type": "execute_result",
          "data": {
            "text/plain": [
              "(60000, 28, 28)"
            ]
          },
          "metadata": {
            "tags": []
          },
          "execution_count": 4
        }
      ]
    },
    {
      "cell_type": "code",
      "metadata": {
        "id": "DB7di5yXwcZ1",
        "colab_type": "code",
        "outputId": "5a17e619-53b7-4ea7-a9e7-f265e7ad76cc",
        "colab": {
          "base_uri": "https://localhost:8080/",
          "height": 34
        }
      },
      "source": [
        "X_test.shape"
      ],
      "execution_count": 0,
      "outputs": [
        {
          "output_type": "execute_result",
          "data": {
            "text/plain": [
              "(10000, 28, 28)"
            ]
          },
          "metadata": {
            "tags": []
          },
          "execution_count": 5
        }
      ]
    },
    {
      "cell_type": "code",
      "metadata": {
        "id": "qp9cSbioqeqz",
        "colab_type": "code",
        "colab": {}
      },
      "source": [
        "# Reshape the data to a (70000, 28, 28) tensor\n",
        "X_train = X_train.reshape(X_train.shape[0], 28, 28)\n",
        "X_test = X_test.reshape(X_test.shape[0], 28, 28)\n"
      ],
      "execution_count": 0,
      "outputs": []
    },
    {
      "cell_type": "code",
      "metadata": {
        "id": "VCNXBZ4uysMn",
        "colab_type": "code",
        "colab": {}
      },
      "source": [
        "# # Reshape the data to a (70000, 28, 28, 1) tensord\n",
        "X_train = X_train[:, :, :, np.newaxis]\n",
        "X_test = X_test[:, :, :, np.newaxis]"
      ],
      "execution_count": 0,
      "outputs": []
    },
    {
      "cell_type": "markdown",
      "metadata": {
        "id": "RaHRNSMzy8Ym",
        "colab_type": "text"
      },
      "source": [
        "Normalize the values in each pixel to have the value of each pixel in the range of 0 to 1."
      ]
    },
    {
      "cell_type": "code",
      "metadata": {
        "id": "U1GWpjqdy5ZV",
        "colab_type": "code",
        "colab": {}
      },
      "source": [
        "# Scale values from range of [0-255] to [0-1]\n",
        "X_train = X_train / 255.0\n",
        "X_test = X_test / 255.0"
      ],
      "execution_count": 0,
      "outputs": []
    },
    {
      "cell_type": "code",
      "metadata": {
        "id": "klpN0QZYkfMq",
        "colab_type": "code",
        "colab": {}
      },
      "source": [
        "# Tranform training labels to one-hot encoding\n",
        "train_labels = np_utils.to_categorical(y_train, 10)"
      ],
      "execution_count": 0,
      "outputs": []
    },
    {
      "cell_type": "code",
      "metadata": {
        "id": "ecWrqNgzqq7b",
        "colab_type": "code",
        "colab": {}
      },
      "source": [
        "# Tranform test labels to one-hot encoding\n",
        "test_labels = np_utils.to_categorical(y_test, 10)\n"
      ],
      "execution_count": 0,
      "outputs": []
    },
    {
      "cell_type": "code",
      "metadata": {
        "id": "TU8tGJKW4Q7p",
        "colab_type": "code",
        "colab": {}
      },
      "source": [
        "# Create a sequential model\n",
        "model = Sequential()\n",
        "\n",
        "# Add the first convolution layer\n",
        "model.add(Convolution2D(\n",
        "    filters = 20,\n",
        "    kernel_size = (5, 5),\n",
        "    padding = \"same\",\n",
        "    input_shape = (28, 28, 1)))\n",
        "\n",
        "# Add a ReLU activation function\n",
        "model.add(Activation(\n",
        "    activation = \"relu\"))\n",
        "\n",
        "# Add a pooling layer\n",
        "model.add(MaxPooling2D(\n",
        "    pool_size = (2, 2),\n",
        "    strides =  (2, 2)))\n",
        "\n",
        "# Add the second convolution layer\n",
        "model.add(Convolution2D(\n",
        "    filters = 50,\n",
        "    kernel_size = (5, 5),\n",
        "    padding = \"same\"))\n",
        "\n",
        "# Add a ReLU activation function\n",
        "model.add(Activation(\n",
        "    activation = \"relu\"))\n",
        "\n",
        "# Add a second pooling layer\n",
        "model.add(MaxPooling2D(\n",
        "    pool_size = (2, 2),\n",
        "    strides = (2, 2)))\n",
        "\n",
        "# Flatten the network\n",
        "model.add(Flatten())\n",
        "\n",
        "# Add a fully-connected hidden layer\n",
        "model.add(Dense(500))\n",
        "\n",
        "# Add a ReLU activation function\n",
        "model.add(Activation(\n",
        "    activation = \"relu\"))\n",
        "\n",
        "# Add a fully-connected output layer\n",
        "model.add(Dense(10))\n",
        "\n",
        "# Add a softmax activation function\n",
        "model.add(Activation(\"softmax\"))"
      ],
      "execution_count": 0,
      "outputs": []
    },
    {
      "cell_type": "code",
      "metadata": {
        "id": "VLiF4fZM4gz-",
        "colab_type": "code",
        "outputId": "626e75fe-4d0e-44e1-86d6-fc36650c92ce",
        "colab": {
          "base_uri": "https://localhost:8080/",
          "height": 527
        }
      },
      "source": [
        "model.summary()"
      ],
      "execution_count": 0,
      "outputs": [
        {
          "output_type": "stream",
          "text": [
            "Model: \"sequential_1\"\n",
            "_________________________________________________________________\n",
            "Layer (type)                 Output Shape              Param #   \n",
            "=================================================================\n",
            "conv2d_1 (Conv2D)            (None, 28, 28, 20)        520       \n",
            "_________________________________________________________________\n",
            "activation_1 (Activation)    (None, 28, 28, 20)        0         \n",
            "_________________________________________________________________\n",
            "max_pooling2d_1 (MaxPooling2 (None, 14, 14, 20)        0         \n",
            "_________________________________________________________________\n",
            "conv2d_2 (Conv2D)            (None, 14, 14, 50)        25050     \n",
            "_________________________________________________________________\n",
            "activation_2 (Activation)    (None, 14, 14, 50)        0         \n",
            "_________________________________________________________________\n",
            "max_pooling2d_2 (MaxPooling2 (None, 7, 7, 50)          0         \n",
            "_________________________________________________________________\n",
            "flatten_1 (Flatten)          (None, 2450)              0         \n",
            "_________________________________________________________________\n",
            "dense_1 (Dense)              (None, 500)               1225500   \n",
            "_________________________________________________________________\n",
            "activation_3 (Activation)    (None, 500)               0         \n",
            "_________________________________________________________________\n",
            "dense_2 (Dense)              (None, 10)                5010      \n",
            "_________________________________________________________________\n",
            "activation_4 (Activation)    (None, 10)                0         \n",
            "=================================================================\n",
            "Total params: 1,256,080\n",
            "Trainable params: 1,256,080\n",
            "Non-trainable params: 0\n",
            "_________________________________________________________________\n"
          ],
          "name": "stdout"
        }
      ]
    },
    {
      "cell_type": "code",
      "metadata": {
        "id": "Z2QUC2xjq5K8",
        "colab_type": "code",
        "colab": {}
      },
      "source": [
        "# Compile the network\n",
        "model.compile(\n",
        "    loss = \"categorical_crossentropy\",\n",
        "    optimizer = SGD(lr = 0.01),\n",
        "    metrics = [\"accuracy\"])"
      ],
      "execution_count": 0,
      "outputs": []
    },
    {
      "cell_type": "code",
      "metadata": {
        "id": "GW2JEqnpq_k-",
        "colab_type": "code",
        "colab": {}
      },
      "source": [
        "# image_gen = ImageDataGenerator(rotation_range=30, width_shift_range=0.1,\n",
        "# \theight_shift_range=0.1, shear_range=0.2, zoom_range=0.2,\n",
        "# \thorizontal_flip=True, fill_mode=\"nearest\")"
      ],
      "execution_count": 0,
      "outputs": []
    },
    {
      "cell_type": "code",
      "metadata": {
        "id": "h1PtzWTDlMd3",
        "colab_type": "code",
        "outputId": "645a2e7e-55b8-4dd6-abad-9bf2f8ac14bb",
        "colab": {
          "base_uri": "https://localhost:8080/",
          "height": 768
        }
      },
      "source": [
        "# Train the model \n",
        "# model.fit_generator(\n",
        "#     train_generator,\n",
        "#     steps_per_epoch=200,epochs=5,verbose=1)\n",
        "\n",
        "model.fit(\n",
        "    X_train, \n",
        "    train_labels, \n",
        "    batch_size = 128, \n",
        "    nb_epoch = 20,\n",
        "\t  verbose = 1)"
      ],
      "execution_count": 0,
      "outputs": [
        {
          "output_type": "stream",
          "text": [
            "/usr/local/lib/python3.6/dist-packages/ipykernel_launcher.py:7: UserWarning: The `nb_epoch` argument in `fit` has been renamed `epochs`.\n",
            "  import sys\n"
          ],
          "name": "stderr"
        },
        {
          "output_type": "stream",
          "text": [
            "Epoch 1/20\n",
            "60000/60000 [==============================] - 9s 158us/step - loss: 0.9624 - accuracy: 0.7485\n",
            "Epoch 2/20\n",
            "60000/60000 [==============================] - 3s 43us/step - loss: 0.2518 - accuracy: 0.9248\n",
            "Epoch 3/20\n",
            "60000/60000 [==============================] - 3s 42us/step - loss: 0.1783 - accuracy: 0.9476\n",
            "Epoch 4/20\n",
            "60000/60000 [==============================] - 3s 42us/step - loss: 0.1397 - accuracy: 0.9579\n",
            "Epoch 5/20\n",
            "60000/60000 [==============================] - 3s 42us/step - loss: 0.1150 - accuracy: 0.9659\n",
            "Epoch 6/20\n",
            "60000/60000 [==============================] - 3s 43us/step - loss: 0.0989 - accuracy: 0.9705\n",
            "Epoch 7/20\n",
            "60000/60000 [==============================] - 3s 43us/step - loss: 0.0880 - accuracy: 0.9732\n",
            "Epoch 8/20\n",
            "60000/60000 [==============================] - 3s 43us/step - loss: 0.0782 - accuracy: 0.9763\n",
            "Epoch 9/20\n",
            "60000/60000 [==============================] - 3s 42us/step - loss: 0.0715 - accuracy: 0.9785\n",
            "Epoch 10/20\n",
            "60000/60000 [==============================] - 3s 43us/step - loss: 0.0662 - accuracy: 0.9800\n",
            "Epoch 11/20\n",
            "60000/60000 [==============================] - 3s 43us/step - loss: 0.0606 - accuracy: 0.9820\n",
            "Epoch 12/20\n",
            "60000/60000 [==============================] - 3s 43us/step - loss: 0.0571 - accuracy: 0.9827\n",
            "Epoch 13/20\n",
            "60000/60000 [==============================] - 3s 42us/step - loss: 0.0541 - accuracy: 0.9837\n",
            "Epoch 14/20\n",
            "60000/60000 [==============================] - 3s 44us/step - loss: 0.0510 - accuracy: 0.9847\n",
            "Epoch 15/20\n",
            "60000/60000 [==============================] - 3s 42us/step - loss: 0.0486 - accuracy: 0.9852\n",
            "Epoch 16/20\n",
            "60000/60000 [==============================] - 3s 44us/step - loss: 0.0462 - accuracy: 0.9858\n",
            "Epoch 17/20\n",
            "60000/60000 [==============================] - 3s 43us/step - loss: 0.0434 - accuracy: 0.9870\n",
            "Epoch 18/20\n",
            "60000/60000 [==============================] - 3s 44us/step - loss: 0.0417 - accuracy: 0.9876\n",
            "Epoch 19/20\n",
            "60000/60000 [==============================] - 3s 43us/step - loss: 0.0403 - accuracy: 0.9877\n",
            "Epoch 20/20\n",
            "60000/60000 [==============================] - 3s 43us/step - loss: 0.0384 - accuracy: 0.9885\n"
          ],
          "name": "stdout"
        },
        {
          "output_type": "execute_result",
          "data": {
            "text/plain": [
              "<keras.callbacks.callbacks.History at 0x7f7e284e9c50>"
            ]
          },
          "metadata": {
            "tags": []
          },
          "execution_count": 16
        }
      ]
    },
    {
      "cell_type": "code",
      "metadata": {
        "id": "ron-9WT42L9G",
        "colab_type": "code",
        "outputId": "46a73554-d2b7-4593-be26-6ad8c14229ab",
        "colab": {
          "base_uri": "https://localhost:8080/",
          "height": 34
        }
      },
      "source": [
        "(loss, accuracy) = model.evaluate(X_test, test_labels)"
      ],
      "execution_count": 0,
      "outputs": [
        {
          "output_type": "stream",
          "text": [
            "10000/10000 [==============================] - 1s 81us/step\n"
          ],
          "name": "stdout"
        }
      ]
    },
    {
      "cell_type": "code",
      "metadata": {
        "id": "SMMvNS642hTh",
        "colab_type": "code",
        "outputId": "4fbfbc5f-22b6-4956-ffe1-b397485dcffc",
        "colab": {
          "base_uri": "https://localhost:8080/",
          "height": 34
        }
      },
      "source": [
        "print(accuracy)"
      ],
      "execution_count": 0,
      "outputs": [
        {
          "output_type": "stream",
          "text": [
            "0.9839000105857849\n"
          ],
          "name": "stdout"
        }
      ]
    }
  ]
}