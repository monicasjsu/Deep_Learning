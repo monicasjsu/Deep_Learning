{
  "nbformat": 4,
  "nbformat_minor": 0,
  "metadata": {
    "colab": {
      "name": "5_image_dog.ipynb",
      "provenance": []
    },
    "kernelspec": {
      "name": "python3",
      "display_name": "Python 3"
    }
  },
  "cells": [
    {
      "cell_type": "code",
      "metadata": {
        "id": "8oGnXcw0dSRq",
        "colab_type": "code",
        "colab": {}
      },
      "source": [
        "import numpy as np\n",
        "import torch\n",
        "import imageio\n",
        "import os"
      ],
      "execution_count": 0,
      "outputs": []
    },
    {
      "cell_type": "markdown",
      "metadata": {
        "id": "S7AH6UwofxNf",
        "colab_type": "text"
      },
      "source": [
        "Loading a PNG image with the imageio module"
      ]
    },
    {
      "cell_type": "code",
      "metadata": {
        "id": "QMt9kNYrePL9",
        "colab_type": "code",
        "colab": {
          "base_uri": "https://localhost:8080/",
          "height": 34
        },
        "outputId": "f1b554ae-b8f7-4a8d-f878-0396bd7f2486"
      },
      "source": [
        "img_arr = imageio.imread('drive/My Drive/data/p1ch4/image-dog/bobby.jpg')\n",
        "img_arr.shape"
      ],
      "execution_count": 2,
      "outputs": [
        {
          "output_type": "execute_result",
          "data": {
            "text/plain": [
              "(720, 1280, 3)"
            ]
          },
          "metadata": {
            "tags": []
          },
          "execution_count": 2
        }
      ]
    },
    {
      "cell_type": "code",
      "metadata": {
        "id": "bxzoQf6reUb0",
        "colab_type": "code",
        "colab": {}
      },
      "source": [
        "img = torch.from_numpy(img_arr)\n",
        "out = torch.transpose(img, 0, 2)"
      ],
      "execution_count": 0,
      "outputs": []
    },
    {
      "cell_type": "code",
      "metadata": {
        "id": "W6HGpyPHeXj6",
        "colab_type": "code",
        "colab": {}
      },
      "source": [
        "batch_size = 100\n",
        "batch = torch.zeros(100, 3, 256, 256, dtype=torch.uint8)"
      ],
      "execution_count": 0,
      "outputs": []
    },
    {
      "cell_type": "markdown",
      "metadata": {
        "id": "UIP3JXUIflVj",
        "colab_type": "text"
      },
      "source": [
        "Load all png images from an input directory and store\n",
        "them in the tensor"
      ]
    },
    {
      "cell_type": "code",
      "metadata": {
        "id": "Ci1OxmhWefbq",
        "colab_type": "code",
        "colab": {}
      },
      "source": [
        "data_dir = 'drive/My Drive/data/p1ch4/image-cats/'\n",
        "filenames = [name for name in os.listdir(data_dir) if os.path.splitext(name)\n",
        "== '.png']\n",
        "for i, filename in enumerate(filenames):\n",
        " img_arr = imageio.imread(filename)\n",
        " batch[i] = torch.transpose(torch.from_numpy(img_arr), 0, 2)"
      ],
      "execution_count": 0,
      "outputs": []
    },
    {
      "cell_type": "markdown",
      "metadata": {
        "id": "sSxcATq9fhDZ",
        "colab_type": "text"
      },
      "source": [
        "Divide the values of pixels by 255"
      ]
    },
    {
      "cell_type": "code",
      "metadata": {
        "id": "jJ3S5fzafQqf",
        "colab_type": "code",
        "colab": {}
      },
      "source": [
        "batch = batch.float()\n",
        "batch /= 255.0"
      ],
      "execution_count": 0,
      "outputs": []
    },
    {
      "cell_type": "markdown",
      "metadata": {
        "id": "9DvODegzfbgS",
        "colab_type": "text"
      },
      "source": [
        "Computing mean and standard deviation of the input data and\n",
        "scale it so that the output has zero mean and unit standard deviation across each\n",
        "channel"
      ]
    },
    {
      "cell_type": "code",
      "metadata": {
        "id": "wLRxH_NtfVSX",
        "colab_type": "code",
        "colab": {}
      },
      "source": [
        "n_channels = batch.shape[1]\n",
        "for c in range(n_channels):\n",
        " mean = torch.mean(batch[:, c])\n",
        " std = torch.std(batch[:, c])\n",
        " batch[:, c] = (batch[:, c] - mean) / std"
      ],
      "execution_count": 0,
      "outputs": []
    }
  ]
}