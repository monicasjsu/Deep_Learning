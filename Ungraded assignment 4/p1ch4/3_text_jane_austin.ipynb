{
  "nbformat": 4,
  "nbformat_minor": 0,
  "metadata": {
    "colab": {
      "name": "3_text_jane_austin.ipynb",
      "provenance": [],
      "mount_file_id": "1k8FtZAW_TWRliL1FQE8smdXC5_PQjQdO",
      "authorship_tag": "ABX9TyOaajyyifCCdQ7qkDukxcI8",
      "include_colab_link": true
    },
    "kernelspec": {
      "name": "python3",
      "display_name": "Python 3"
    }
  },
  "cells": [
    {
      "cell_type": "markdown",
      "metadata": {
        "id": "view-in-github",
        "colab_type": "text"
      },
      "source": [
        "<a href=\"https://colab.research.google.com/github/monicasjsu/deep_learning/blob/master/3_text_jane_austin.ipynb\" target=\"_parent\"><img src=\"https://colab.research.google.com/assets/colab-badge.svg\" alt=\"Open In Colab\"/></a>"
      ]
    },
    {
      "cell_type": "code",
      "metadata": {
        "id": "tt76X9BCZ2u7",
        "colab_type": "code",
        "colab": {}
      },
      "source": [
        "import torch"
      ],
      "execution_count": 0,
      "outputs": []
    },
    {
      "cell_type": "code",
      "metadata": {
        "id": "UJyQbvuzYnKJ",
        "colab_type": "code",
        "colab": {}
      },
      "source": [
        "with open('drive/My Drive/data/p1ch4/jane-austin/1342-0.txt', encoding='utf8') as f:\n",
        " text = f.read()"
      ],
      "execution_count": 0,
      "outputs": []
    },
    {
      "cell_type": "markdown",
      "metadata": {
        "id": "UYXhEfldZtwJ",
        "colab_type": "text"
      },
      "source": [
        "Splitting the text into a list of lines and pick an arbitrary line to focus on"
      ]
    },
    {
      "cell_type": "code",
      "metadata": {
        "id": "x16wA-hmZqgP",
        "colab_type": "code",
        "colab": {
          "base_uri": "https://localhost:8080/",
          "height": 34
        },
        "outputId": "d6cd8394-fa16-4ad4-ba99-2031fa692efb"
      },
      "source": [
        "lines = text.split('\\n')\n",
        "line = lines[339]\n",
        "line"
      ],
      "execution_count": 3,
      "outputs": [
        {
          "output_type": "execute_result",
          "data": {
            "text/plain": [
              "'      “Impossible, Mr. Bennet, impossible, when I am not acquainted'"
            ]
          },
          "metadata": {
            "tags": []
          },
          "execution_count": 3
        }
      ]
    },
    {
      "cell_type": "code",
      "metadata": {
        "id": "44AS5vRyZ09B",
        "colab_type": "code",
        "colab": {
          "base_uri": "https://localhost:8080/",
          "height": 34
        },
        "outputId": "9655701a-33b6-4c71-a4cb-be6fb2dea292"
      },
      "source": [
        "letter_tensor = torch.zeros(len(line), 128)\n",
        "letter_tensor.shape"
      ],
      "execution_count": 4,
      "outputs": [
        {
          "output_type": "execute_result",
          "data": {
            "text/plain": [
              "torch.Size([67, 128])"
            ]
          },
          "metadata": {
            "tags": []
          },
          "execution_count": 4
        }
      ]
    },
    {
      "cell_type": "code",
      "metadata": {
        "id": "sbjDvT1RcRZF",
        "colab_type": "code",
        "colab": {}
      },
      "source": [
        "for i, letter in enumerate(line.lower().strip()):\n",
        " letter_index = ord(letter) if ord(letter) < 128 else 0\n",
        " letter_tensor[i][letter_index] = 1"
      ],
      "execution_count": 0,
      "outputs": []
    },
    {
      "cell_type": "markdown",
      "metadata": {
        "id": "djRIN7cBcbQM",
        "colab_type": "text"
      },
      "source": [
        "Define clean_words, which takes text and returns it lowercase and stripped of punctuation and call it on  “Impossible, Mr. Bennet” line"
      ]
    },
    {
      "cell_type": "code",
      "metadata": {
        "id": "RaZe7H2HcZkG",
        "colab_type": "code",
        "colab": {
          "base_uri": "https://localhost:8080/",
          "height": 187
        },
        "outputId": "13ce32bd-a9ef-40dc-8dc3-4dcd94323d8b"
      },
      "source": [
        "def clean_words(input_str):\n",
        " punctuation = '.,;:\"!?”“_-'\n",
        " word_list = input_str.lower().replace('\\n',' ').split()\n",
        " word_list = [word.strip(punctuation) for word in word_list]\n",
        " return word_list\n",
        "words_in_line = clean_words(line)\n",
        "line, words_in_line"
      ],
      "execution_count": 6,
      "outputs": [
        {
          "output_type": "execute_result",
          "data": {
            "text/plain": [
              "('      “Impossible, Mr. Bennet, impossible, when I am not acquainted',\n",
              " ['impossible',\n",
              "  'mr',\n",
              "  'bennet',\n",
              "  'impossible',\n",
              "  'when',\n",
              "  'i',\n",
              "  'am',\n",
              "  'not',\n",
              "  'acquainted'])"
            ]
          },
          "metadata": {
            "tags": []
          },
          "execution_count": 6
        }
      ]
    },
    {
      "cell_type": "markdown",
      "metadata": {
        "id": "tXB8V5HwcwX7",
        "colab_type": "text"
      },
      "source": [
        " build a mapping of words to indexes in the encoding"
      ]
    },
    {
      "cell_type": "code",
      "metadata": {
        "id": "oDHbLt5nct_2",
        "colab_type": "code",
        "colab": {
          "base_uri": "https://localhost:8080/",
          "height": 34
        },
        "outputId": "d7441bf3-6c10-4bbd-fe38-e7c7ef8a2884"
      },
      "source": [
        "word_list = sorted(set(clean_words(text)))\n",
        "word2index_dict = {word: i for (i, word) in enumerate(word_list)}\n",
        "len(word2index_dict), word2index_dict['impossible']"
      ],
      "execution_count": 7,
      "outputs": [
        {
          "output_type": "execute_result",
          "data": {
            "text/plain": [
              "(7278, 3383)"
            ]
          },
          "metadata": {
            "tags": []
          },
          "execution_count": 7
        }
      ]
    },
    {
      "cell_type": "markdown",
      "metadata": {
        "id": "ErnwYJ0ndBXD",
        "colab_type": "text"
      },
      "source": [
        "Creating an empty vector,\n",
        "and assign the one-hot encoded values of the word in the sentence"
      ]
    },
    {
      "cell_type": "code",
      "metadata": {
        "id": "yK8CS-Iwc4F8",
        "colab_type": "code",
        "colab": {
          "base_uri": "https://localhost:8080/",
          "height": 187
        },
        "outputId": "9d1b6e45-245d-426e-a1c3-6b3538096747"
      },
      "source": [
        "word_tensor = torch.zeros(len(words_in_line), len(word2index_dict))\n",
        "for i, word in enumerate(words_in_line):\n",
        " word_index = word2index_dict[word]\n",
        " word_tensor[i][word_index] = 1\n",
        " print('{:2} {:4} {}'.format(i, word_index, word))\n",
        "print(word_tensor.shape)"
      ],
      "execution_count": 8,
      "outputs": [
        {
          "output_type": "stream",
          "text": [
            " 0 3383 impossible\n",
            " 1 4298 mr\n",
            " 2  796 bennet\n",
            " 3 3383 impossible\n",
            " 4 7071 when\n",
            " 5 3304 i\n",
            " 6  397 am\n",
            " 7 4425 not\n",
            " 8  220 acquainted\n",
            "torch.Size([9, 7278])\n"
          ],
          "name": "stdout"
        }
      ]
    }
  ]
}