{
  "nbformat": 4,
  "nbformat_minor": 0,
  "metadata": {
    "colab": {
      "name": "2_time_series_bikes.ipynb",
      "provenance": [],
      "toc_visible": true
    },
    "kernelspec": {
      "name": "python3",
      "display_name": "Python 3"
    }
  },
  "cells": [
    {
      "cell_type": "code",
      "metadata": {
        "id": "ZGvI7odj9XJ0",
        "colab_type": "code",
        "colab": {}
      },
      "source": [
        "import numpy as np\n",
        "import torch\n",
        "torch.set_printoptions(edgeitems=2, threshold=50)"
      ],
      "execution_count": 0,
      "outputs": []
    },
    {
      "cell_type": "code",
      "metadata": {
        "id": "m9IqcerpRPif",
        "colab_type": "code",
        "outputId": "6011b8af-8398-42a1-c5b2-42ad2f72b094",
        "colab": {
          "base_uri": "https://localhost:8080/",
          "height": 102
        }
      },
      "source": [
        "bikes_numpy = np.loadtxt(\"drive/My Drive/data/p1ch4/bike-sharing-data set/hour-fixed.csv\",\n",
        " dtype=np.float32,\n",
        " delimiter=\",\",\n",
        " skiprows=1,\n",
        " converters={1: lambda x: float(x[8:10])})\n",
        "bikes = torch.from_numpy(bikes_numpy)\n",
        "bikes"
      ],
      "execution_count": 2,
      "outputs": [
        {
          "output_type": "execute_result",
          "data": {
            "text/plain": [
              "tensor([[1.0000e+00, 1.0000e+00,  ..., 1.3000e+01, 1.6000e+01],\n",
              "        [2.0000e+00, 1.0000e+00,  ..., 3.2000e+01, 4.0000e+01],\n",
              "        ...,\n",
              "        [1.7378e+04, 3.1000e+01,  ..., 4.8000e+01, 6.1000e+01],\n",
              "        [1.7379e+04, 3.1000e+01,  ..., 3.7000e+01, 4.9000e+01]])"
            ]
          },
          "metadata": {
            "tags": []
          },
          "execution_count": 2
        }
      ]
    },
    {
      "cell_type": "markdown",
      "metadata": {
        "id": "NtanBPxRRxx4",
        "colab_type": "text"
      },
      "source": [
        " Trying to look at the shape and strides of the bikes tensor"
      ]
    },
    {
      "cell_type": "code",
      "metadata": {
        "id": "xu719JOiRrWe",
        "colab_type": "code",
        "outputId": "f739f655-dd2d-4cb6-a947-fd968be51245",
        "colab": {
          "base_uri": "https://localhost:8080/",
          "height": 34
        }
      },
      "source": [
        "bikes.shape, bikes.stride()"
      ],
      "execution_count": 3,
      "outputs": [
        {
          "output_type": "execute_result",
          "data": {
            "text/plain": [
              "(torch.Size([17520, 17]), (17, 1))"
            ]
          },
          "metadata": {
            "tags": []
          },
          "execution_count": 3
        }
      ]
    },
    {
      "cell_type": "markdown",
      "metadata": {
        "id": "mIRDsXhcWL3k",
        "colab_type": "text"
      },
      "source": [
        "Reshaping the data to have three axes (day, hour,\n",
        "and then your 17 columns)"
      ]
    },
    {
      "cell_type": "code",
      "metadata": {
        "id": "UuyYLaRvR3oL",
        "colab_type": "code",
        "outputId": "4be46856-7743-4aca-a06b-50836c3290d3",
        "colab": {
          "base_uri": "https://localhost:8080/",
          "height": 34
        }
      },
      "source": [
        "daily_bikes = bikes.view(-1, 24, bikes.shape[1])\n",
        "daily_bikes.shape, daily_bikes.stride()"
      ],
      "execution_count": 4,
      "outputs": [
        {
          "output_type": "execute_result",
          "data": {
            "text/plain": [
              "(torch.Size([730, 24, 17]), (408, 17, 1))"
            ]
          },
          "metadata": {
            "tags": []
          },
          "execution_count": 4
        }
      ]
    },
    {
      "cell_type": "markdown",
      "metadata": {
        "id": "ggXPVMKGWad0",
        "colab_type": "text"
      },
      "source": [
        "Transposing the tensor"
      ]
    },
    {
      "cell_type": "code",
      "metadata": {
        "id": "IxIyjBAaWOlD",
        "colab_type": "code",
        "colab": {
          "base_uri": "https://localhost:8080/",
          "height": 34
        },
        "outputId": "ad923f67-0ef3-4cb3-939f-285e46b73776"
      },
      "source": [
        "daily_bikes = daily_bikes.transpose(1, 2)\n",
        "daily_bikes.shape, daily_bikes.stride()"
      ],
      "execution_count": 5,
      "outputs": [
        {
          "output_type": "execute_result",
          "data": {
            "text/plain": [
              "(torch.Size([730, 17, 24]), (408, 1, 17))"
            ]
          },
          "metadata": {
            "tags": []
          },
          "execution_count": 5
        }
      ]
    },
    {
      "cell_type": "code",
      "metadata": {
        "id": "TLLqNj60WhIi",
        "colab_type": "code",
        "colab": {
          "base_uri": "https://localhost:8080/",
          "height": 34
        },
        "outputId": "0a87dbfb-1c2e-4924-bb3f-91684808cb80"
      },
      "source": [
        "first_day = bikes[:24].long()\n",
        "weather_onehot = torch.zeros(first_day.shape[0], 4)\n",
        "first_day[:,9]"
      ],
      "execution_count": 6,
      "outputs": [
        {
          "output_type": "execute_result",
          "data": {
            "text/plain": [
              "tensor([1, 1, 1, 1, 1, 2, 1, 1, 1, 1, 1, 1, 1, 2, 2, 2, 2, 2, 3, 3, 2, 2, 2, 2])"
            ]
          },
          "metadata": {
            "tags": []
          },
          "execution_count": 6
        }
      ]
    },
    {
      "cell_type": "code",
      "metadata": {
        "id": "HLd2s9xWWuEk",
        "colab_type": "code",
        "colab": {
          "base_uri": "https://localhost:8080/",
          "height": 102
        },
        "outputId": "eebaa376-d8fc-4c14-c88c-3a688f297714"
      },
      "source": [
        "weather_onehot.scatter_(\n",
        " dim=1,\n",
        " index=first_day[:,9].unsqueeze(1) - 1,\n",
        " value=1.0)"
      ],
      "execution_count": 7,
      "outputs": [
        {
          "output_type": "execute_result",
          "data": {
            "text/plain": [
              "tensor([[1., 0., 0., 0.],\n",
              "        [1., 0., 0., 0.],\n",
              "        ...,\n",
              "        [0., 1., 0., 0.],\n",
              "        [0., 1., 0., 0.]])"
            ]
          },
          "metadata": {
            "tags": []
          },
          "execution_count": 7
        }
      ]
    },
    {
      "cell_type": "markdown",
      "metadata": {
        "id": "vA2kjk4lXLZ3",
        "colab_type": "text"
      },
      "source": [
        "Concatenating the matrix to original data set, using the cat function."
      ]
    },
    {
      "cell_type": "code",
      "metadata": {
        "id": "tWLuqhuDXG1K",
        "colab_type": "code",
        "colab": {
          "base_uri": "https://localhost:8080/",
          "height": 68
        },
        "outputId": "9bcd0f2c-4749-4d6a-8c41-9a8fafdde560"
      },
      "source": [
        "torch.cat((bikes[:24], weather_onehot), 1)[:1]"
      ],
      "execution_count": 8,
      "outputs": [
        {
          "output_type": "execute_result",
          "data": {
            "text/plain": [
              "tensor([[ 1.0000,  1.0000,  1.0000,  0.0000,  1.0000,  0.0000,  0.0000,  6.0000,\n",
              "          0.0000,  1.0000,  0.2400,  0.2879,  0.8100,  0.0000,  3.0000, 13.0000,\n",
              "         16.0000,  1.0000,  0.0000,  0.0000,  0.0000]])"
            ]
          },
          "metadata": {
            "tags": []
          },
          "execution_count": 8
        }
      ]
    },
    {
      "cell_type": "code",
      "metadata": {
        "id": "dnwa2lXcXUO0",
        "colab_type": "code",
        "colab": {
          "base_uri": "https://localhost:8080/",
          "height": 34
        },
        "outputId": "b590a154-b40e-4b4d-ae6d-748dbf2c602b"
      },
      "source": [
        "daily_weather_onehot = torch.zeros(daily_bikes.shape[0], 4,\n",
        "daily_bikes.shape[2])\n",
        "daily_weather_onehot.shape"
      ],
      "execution_count": 9,
      "outputs": [
        {
          "output_type": "execute_result",
          "data": {
            "text/plain": [
              "torch.Size([730, 4, 24])"
            ]
          },
          "metadata": {
            "tags": []
          },
          "execution_count": 9
        }
      ]
    },
    {
      "cell_type": "markdown",
      "metadata": {
        "id": "5uHJNuKZXqWe",
        "colab_type": "text"
      },
      "source": [
        "Scattering the one-hot encoding into the tensor in the C dimension"
      ]
    },
    {
      "cell_type": "code",
      "metadata": {
        "id": "NSy2xxOQXatT",
        "colab_type": "code",
        "colab": {
          "base_uri": "https://localhost:8080/",
          "height": 34
        },
        "outputId": "69cfba41-3d33-427c-eb86-f2ef817a2494"
      },
      "source": [
        "daily_weather_onehot.scatter_(1, daily_bikes[:,9,:].long().unsqueeze(1) - 1,\n",
        "1.0)\n",
        "daily_weather_onehot.shape"
      ],
      "execution_count": 10,
      "outputs": [
        {
          "output_type": "execute_result",
          "data": {
            "text/plain": [
              "torch.Size([730, 4, 24])"
            ]
          },
          "metadata": {
            "tags": []
          },
          "execution_count": 10
        }
      ]
    },
    {
      "cell_type": "markdown",
      "metadata": {
        "id": "zkFQbwgfX0if",
        "colab_type": "text"
      },
      "source": [
        "Concatenating along the C dimension"
      ]
    },
    {
      "cell_type": "code",
      "metadata": {
        "id": "Be9WAGTyXxqu",
        "colab_type": "code",
        "colab": {}
      },
      "source": [
        "daily_bikes = torch.cat((daily_bikes, daily_weather_onehot), dim=1)"
      ],
      "execution_count": 0,
      "outputs": []
    },
    {
      "cell_type": "markdown",
      "metadata": {
        "id": "ab9WTUE1X9KP",
        "colab_type": "text"
      },
      "source": [
        "Transform the variable so\n",
        "that it runs from 0.0 to 1.0"
      ]
    },
    {
      "cell_type": "code",
      "metadata": {
        "id": "6bsvlnBjX4VM",
        "colab_type": "code",
        "colab": {}
      },
      "source": [
        "daily_bikes[:, 9, :] = (daily_bikes[:, 9, :] - 1.0) / 3.0"
      ],
      "execution_count": 0,
      "outputs": []
    },
    {
      "cell_type": "markdown",
      "metadata": {
        "id": "LkEW0-tqYM6E",
        "colab_type": "text"
      },
      "source": [
        "Rescaling variables to map their range to\n",
        "[0.0, 1.0]"
      ]
    },
    {
      "cell_type": "code",
      "metadata": {
        "id": "APfeQeyTYC0d",
        "colab_type": "code",
        "colab": {}
      },
      "source": [
        "temp = daily_bikes[:, 10, :]\n",
        "temp_min = torch.min(temp)\n",
        "temp_max = torch.max(temp)\n",
        "daily_bikes[:, 10, :] = (daily_bikes[:, 10, :] - temp_min) / (temp_max -\n",
        "temp_min)"
      ],
      "execution_count": 0,
      "outputs": []
    },
    {
      "cell_type": "markdown",
      "metadata": {
        "id": "xRpWBIcLYTwL",
        "colab_type": "text"
      },
      "source": [
        "Subtract the mean and divide by the standard deviation"
      ]
    },
    {
      "cell_type": "code",
      "metadata": {
        "id": "PGe4cNsIYYg0",
        "colab_type": "code",
        "colab": {}
      },
      "source": [
        "temp = daily_bikes[:, 10, :]\n",
        "daily_bikes[:, 10, :] = (daily_bikes[:, 10, :] - torch.mean(temp)) / torch.std(temp)"
      ],
      "execution_count": 0,
      "outputs": []
    }
  ]
}