{
  "nbformat": 4,
  "nbformat_minor": 0,
  "metadata": {
    "colab": {
      "name": "1_parameter_estimation.ipynb",
      "provenance": [],
      "mount_file_id": "1rTlWrIxoUzMQZynxk5xAW8xA63iiFhWN",
      "authorship_tag": "ABX9TyOGhYqp91XmuR+ncjXs+xRl",
      "include_colab_link": true
    },
    "kernelspec": {
      "name": "python3",
      "display_name": "Python 3"
    }
  },
  "cells": [
    {
      "cell_type": "markdown",
      "metadata": {
        "id": "view-in-github",
        "colab_type": "text"
      },
      "source": [
        "<a href=\"https://colab.research.google.com/github/monicasjsu/deep_learning/blob/master/1_parameter_estimation.ipynb\" target=\"_parent\"><img src=\"https://colab.research.google.com/assets/colab-badge.svg\" alt=\"Open In Colab\"/></a>"
      ]
    },
    {
      "cell_type": "code",
      "metadata": {
        "id": "G6tF1A-SmShu",
        "colab_type": "code",
        "colab": {}
      },
      "source": [
        "import torch"
      ],
      "execution_count": 0,
      "outputs": []
    },
    {
      "cell_type": "markdown",
      "metadata": {
        "id": "7emDKl4cmZoY",
        "colab_type": "text"
      },
      "source": [
        "t_c are temperatures in Celsius, and t_u are the unknown units"
      ]
    },
    {
      "cell_type": "code",
      "metadata": {
        "id": "Ip4LlYXCl-V-",
        "colab_type": "code",
        "colab": {}
      },
      "source": [
        "t_c = [0.5, 14.0, 15.0, 28.0, 11.0, 8.0, 3.0, -4.0, 6.0, 13.0, 21.0]\n",
        "t_u = [35.7, 55.9, 58.2, 81.9, 56.3, 48.9, 33.9, 21.8, 48.4, 60.4, 68.4]\n",
        "t_c = torch.tensor(t_c)\n",
        "t_u = torch.tensor(t_u)"
      ],
      "execution_count": 0,
      "outputs": []
    },
    {
      "cell_type": "markdown",
      "metadata": {
        "id": "RTuMCNzkmtQl",
        "colab_type": "text"
      },
      "source": [
        "Write out the model as a Python function in which you’re expecting t_u, w, and b to be the input tensor, weight parameter, and\n",
        "bias parameter, respectively."
      ]
    },
    {
      "cell_type": "code",
      "metadata": {
        "id": "UP_dvS6dmeSi",
        "colab_type": "code",
        "colab": {}
      },
      "source": [
        "def model(t_u, w, b):\n",
        " return w * t_u + b"
      ],
      "execution_count": 0,
      "outputs": []
    },
    {
      "cell_type": "markdown",
      "metadata": {
        "id": "BHBv3MImnClT",
        "colab_type": "text"
      },
      "source": [
        "Defining the loss"
      ]
    },
    {
      "cell_type": "code",
      "metadata": {
        "id": "VH1jkzTtm0fI",
        "colab_type": "code",
        "colab": {}
      },
      "source": [
        "def loss_fn(t_p, t_c):\n",
        " squared_diffs = (t_p - t_c)**2\n",
        " return squared_diffs.mean()"
      ],
      "execution_count": 0,
      "outputs": []
    },
    {
      "cell_type": "markdown",
      "metadata": {
        "id": "_V8V_RganH0Q",
        "colab_type": "text"
      },
      "source": [
        "Initializing the parameters and invoke the model"
      ]
    },
    {
      "cell_type": "code",
      "metadata": {
        "id": "ettLy6G7nL-m",
        "colab_type": "code",
        "colab": {
          "base_uri": "https://localhost:8080/",
          "height": 51
        },
        "outputId": "959a0ece-acca-41fb-8ffc-727d9c435257"
      },
      "source": [
        "w = torch.ones(1)\n",
        "b = torch.zeros(1)\n",
        "t_p = model(t_u, w, b)\n",
        "t_p"
      ],
      "execution_count": 5,
      "outputs": [
        {
          "output_type": "execute_result",
          "data": {
            "text/plain": [
              "tensor([35.7000, 55.9000, 58.2000, 81.9000, 56.3000, 48.9000, 33.9000, 21.8000,\n",
              "        48.4000, 60.4000, 68.4000])"
            ]
          },
          "metadata": {
            "tags": []
          },
          "execution_count": 5
        }
      ]
    },
    {
      "cell_type": "markdown",
      "metadata": {
        "id": "mHr5RTxWnPn6",
        "colab_type": "text"
      },
      "source": [
        "Checking the value of the loss"
      ]
    },
    {
      "cell_type": "code",
      "metadata": {
        "id": "XePsv5HOnRTt",
        "colab_type": "code",
        "colab": {
          "base_uri": "https://localhost:8080/",
          "height": 34
        },
        "outputId": "bb15eb27-0548-4027-d1dc-854d1cf322c6"
      },
      "source": [
        "loss = loss_fn(t_p, t_c)\n",
        "loss"
      ],
      "execution_count": 6,
      "outputs": [
        {
          "output_type": "execute_result",
          "data": {
            "text/plain": [
              "tensor(1763.8846)"
            ]
          },
          "metadata": {
            "tags": []
          },
          "execution_count": 6
        }
      ]
    },
    {
      "cell_type": "markdown",
      "metadata": {
        "id": "YMk_gbZ8nZrR",
        "colab_type": "text"
      },
      "source": [
        "Applying a small change to w and b to see how much the\n",
        "loss is changing in that neighborhood"
      ]
    },
    {
      "cell_type": "code",
      "metadata": {
        "id": "anIr0yjpnVVu",
        "colab_type": "code",
        "colab": {}
      },
      "source": [
        "delta = 0.1\n",
        "loss_rate_of_change_w = \\\n",
        " (loss_fn(model(t_u, w + delta, b), t_c) -\n",
        " loss_fn(model(t_u, w - delta, b), t_c)) / (2.0 * delta)"
      ],
      "execution_count": 0,
      "outputs": []
    },
    {
      "cell_type": "markdown",
      "metadata": {
        "id": "mVyh6xBrnsY7",
        "colab_type": "text"
      },
      "source": [
        "Applying a change to w that’s proportional to the rate of\n",
        "change of the loss and scale the rate of change by a typically small factor"
      ]
    },
    {
      "cell_type": "code",
      "metadata": {
        "id": "XBzdFgland3z",
        "colab_type": "code",
        "colab": {}
      },
      "source": [
        "learning_rate = 1e-2\n",
        "w = w - learning_rate * loss_rate_of_change_w"
      ],
      "execution_count": 0,
      "outputs": []
    },
    {
      "cell_type": "markdown",
      "metadata": {
        "id": "wazEPl0Jn4gZ",
        "colab_type": "text"
      },
      "source": [
        "Trying the same with b "
      ]
    },
    {
      "cell_type": "code",
      "metadata": {
        "id": "rV5mowmZn3Jz",
        "colab_type": "code",
        "colab": {}
      },
      "source": [
        "loss_rate_of_change_b = \\\n",
        " (loss_fn(model(t_u, w, b + delta), t_c) -\n",
        " loss_fn(model(t_u, w, b - delta), t_c)) / (2.0 * delta)\n",
        "b = b - learning_rate * loss_rate_of_change_b"
      ],
      "execution_count": 0,
      "outputs": []
    },
    {
      "cell_type": "markdown",
      "metadata": {
        "id": "4BzRH-L2oKA_",
        "colab_type": "text"
      },
      "source": [
        " Recalling the expression for the loss"
      ]
    },
    {
      "cell_type": "code",
      "metadata": {
        "id": "64JArKlJoEmm",
        "colab_type": "code",
        "colab": {}
      },
      "source": [
        "def loss_fn(t_p, t_c):\n",
        " squared_diffs = (t_p - t_c)**2\n",
        " return squared_diffs.mean()"
      ],
      "execution_count": 0,
      "outputs": []
    },
    {
      "cell_type": "code",
      "metadata": {
        "id": "snb6SvVjoLUe",
        "colab_type": "code",
        "colab": {}
      },
      "source": [
        "def dloss_fn(t_p, t_c):\n",
        " dsq_diffs = 2 * (t_p - t_c)\n",
        " return dsq_diffs"
      ],
      "execution_count": 0,
      "outputs": []
    },
    {
      "cell_type": "code",
      "metadata": {
        "id": "i7OHUnojoQOm",
        "colab_type": "code",
        "colab": {}
      },
      "source": [
        "# def model(t_u, w, b):\n",
        "#  return w * t_u + b"
      ],
      "execution_count": 0,
      "outputs": []
    },
    {
      "cell_type": "markdown",
      "metadata": {
        "id": "gnFuEspAoWyh",
        "colab_type": "text"
      },
      "source": [
        "Getting the derivatives"
      ]
    },
    {
      "cell_type": "code",
      "metadata": {
        "id": "rngl-Xs3oTDH",
        "colab_type": "code",
        "colab": {}
      },
      "source": [
        "def dmodel_dw(t_u, w, b):\n",
        " return t_u"
      ],
      "execution_count": 0,
      "outputs": []
    },
    {
      "cell_type": "code",
      "metadata": {
        "id": "t2e3oKstoWBf",
        "colab_type": "code",
        "colab": {}
      },
      "source": [
        "def dmodel_db(t_u, w, b):\n",
        " return 1.0"
      ],
      "execution_count": 0,
      "outputs": []
    },
    {
      "cell_type": "markdown",
      "metadata": {
        "id": "DcOS8F-Job2q",
        "colab_type": "text"
      },
      "source": [
        "Putting all this together, the function that returns the gradient of the loss with respect\n",
        "to w and b is"
      ]
    },
    {
      "cell_type": "code",
      "metadata": {
        "id": "ScFG3t-doeUZ",
        "colab_type": "code",
        "colab": {}
      },
      "source": [
        "def grad_fn(t_u, t_c, t_p, w, b):\n",
        " dloss_dw = dloss_fn(t_p, t_c) * dmodel_dw(t_u, w, b)\n",
        " dloss_db = dloss_fn(t_p, t_c) * dmodel_db(t_u, w, b)\n",
        " return torch.stack([dloss_dw.mean(), dloss_db.mean()])"
      ],
      "execution_count": 0,
      "outputs": []
    },
    {
      "cell_type": "markdown",
      "metadata": {
        "id": "SQNO5TCVo5QB",
        "colab_type": "text"
      },
      "source": [
        " Complete training loop using epochs"
      ]
    },
    {
      "cell_type": "code",
      "metadata": {
        "id": "OR-53xFiohyH",
        "colab_type": "code",
        "colab": {}
      },
      "source": [
        "def training_loop(n_epochs, learning_rate, params, t_u, t_c):\n",
        " for epoch in range(1, n_epochs + 1):\n",
        "   w, b = params\n",
        "   t_p = model(t_u, w, b)\n",
        "   loss = loss_fn(t_p, t_c)\n",
        "   grad = grad_fn(t_u, t_c, t_p, w, b)\n",
        "   params = params - learning_rate * grad\n",
        "   print('Epoch %d, Loss %f' % (epoch, float(loss)))\n",
        " return params"
      ],
      "execution_count": 0,
      "outputs": []
    },
    {
      "cell_type": "markdown",
      "metadata": {
        "id": "6lHv7r6fpD9s",
        "colab_type": "text"
      },
      "source": [
        "Invoking the training loop"
      ]
    },
    {
      "cell_type": "code",
      "metadata": {
        "id": "fUyPi2UFp9DV",
        "colab_type": "code",
        "colab": {}
      },
      "source": [
        "def training_loop(n_epochs, learning_rate, params, t_u, t_c, print_params=True):\n",
        "    for epoch in range(1, n_epochs + 1):\n",
        "        w, b = params\n",
        "\n",
        "        t_p = model(t_u, w, b)  # <1>\n",
        "        loss = loss_fn(t_p, t_c)\n",
        "        grad = grad_fn(t_u, t_c, t_p, w, b)  # <2>\n",
        "\n",
        "        params = params - learning_rate * grad\n",
        "\n",
        "        if epoch in {1, 2, 3, 10, 11, 99, 100, 4000, 5000}:  # <3>\n",
        "            print('Epoch %d, Loss %f' % (epoch, float(loss)))\n",
        "            if print_params:\n",
        "                print('    Params:', params)\n",
        "                print('    Grad:  ', grad)\n",
        "        if epoch in {4, 12, 101}:\n",
        "            print('...')\n",
        "\n",
        "        if not torch.isfinite(loss).all():\n",
        "            break  # <3>\n",
        "            \n",
        "    return params"
      ],
      "execution_count": 0,
      "outputs": []
    },
    {
      "cell_type": "code",
      "metadata": {
        "id": "olAkoqHAo4hZ",
        "colab_type": "code",
        "colab": {
          "base_uri": "https://localhost:8080/",
          "height": 306
        },
        "outputId": "cfe57f43-f93a-4a9f-822c-085c68f7095e"
      },
      "source": [
        "training_loop(\n",
        " n_epochs = 100,\n",
        " learning_rate = 1e-2,\n",
        " params = torch.tensor([1.0, 0.0]),\n",
        " t_u = t_u,\n",
        " t_c = t_c)"
      ],
      "execution_count": 18,
      "outputs": [
        {
          "output_type": "stream",
          "text": [
            "Epoch 1, Loss 1763.884644\n",
            "    Params: tensor([-44.1730,  -0.8260])\n",
            "    Grad:   tensor([4517.2964,   82.6000])\n",
            "Epoch 2, Loss 5802484.500000\n",
            "    Params: tensor([2568.4011,   45.1637])\n",
            "    Grad:   tensor([-261257.4062,   -4598.9707])\n",
            "Epoch 3, Loss 19408031744.000000\n",
            "    Params: tensor([-148527.7344,   -2616.3933])\n",
            "    Grad:   tensor([15109615.0000,   266155.7188])\n",
            "...\n",
            "Epoch 10, Loss 90901075478458130961171361977860096.000000\n",
            "    Params: tensor([3.2144e+17, 5.6621e+15])\n",
            "    Grad:   tensor([-3.2700e+19, -5.7600e+17])\n",
            "Epoch 11, Loss inf\n",
            "    Params: tensor([-1.8590e+19, -3.2746e+17])\n",
            "    Grad:   tensor([1.8912e+21, 3.3313e+19])\n"
          ],
          "name": "stdout"
        },
        {
          "output_type": "execute_result",
          "data": {
            "text/plain": [
              "tensor([-1.8590e+19, -3.2746e+17])"
            ]
          },
          "metadata": {
            "tags": []
          },
          "execution_count": 18
        }
      ]
    },
    {
      "cell_type": "code",
      "metadata": {
        "id": "-EB4dcImpMvi",
        "colab_type": "code",
        "colab": {
          "base_uri": "https://localhost:8080/",
          "height": 425
        },
        "outputId": "67ea8f60-4e79-4145-c497-5e541114026d"
      },
      "source": [
        "training_loop(\n",
        " n_epochs = 100,\n",
        " learning_rate = 1e-4,\n",
        " params = torch.tensor([1.0, 0.0]),\n",
        " t_u = t_u,\n",
        " t_c = t_c)"
      ],
      "execution_count": 19,
      "outputs": [
        {
          "output_type": "stream",
          "text": [
            "Epoch 1, Loss 1763.884644\n",
            "    Params: tensor([ 0.5483, -0.0083])\n",
            "    Grad:   tensor([4517.2964,   82.6000])\n",
            "Epoch 2, Loss 323.090546\n",
            "    Params: tensor([ 0.3623, -0.0118])\n",
            "    Grad:   tensor([1859.5493,   35.7843])\n",
            "Epoch 3, Loss 78.929634\n",
            "    Params: tensor([ 0.2858, -0.0135])\n",
            "    Grad:   tensor([765.4666,  16.5122])\n",
            "...\n",
            "Epoch 10, Loss 29.105242\n",
            "    Params: tensor([ 0.2324, -0.0166])\n",
            "    Grad:   tensor([1.4803, 3.0544])\n",
            "Epoch 11, Loss 29.104168\n",
            "    Params: tensor([ 0.2323, -0.0169])\n",
            "    Grad:   tensor([0.5780, 3.0384])\n",
            "...\n",
            "Epoch 99, Loss 29.023582\n",
            "    Params: tensor([ 0.2327, -0.0435])\n",
            "    Grad:   tensor([-0.0533,  3.0226])\n",
            "Epoch 100, Loss 29.022669\n",
            "    Params: tensor([ 0.2327, -0.0438])\n",
            "    Grad:   tensor([-0.0532,  3.0226])\n"
          ],
          "name": "stdout"
        },
        {
          "output_type": "execute_result",
          "data": {
            "text/plain": [
              "tensor([ 0.2327, -0.0438])"
            ]
          },
          "metadata": {
            "tags": []
          },
          "execution_count": 19
        }
      ]
    },
    {
      "cell_type": "code",
      "metadata": {
        "id": "tq9tqQkOqLEd",
        "colab_type": "code",
        "colab": {}
      },
      "source": [
        "t_un = 0.1 * t_u"
      ],
      "execution_count": 0,
      "outputs": []
    },
    {
      "cell_type": "markdown",
      "metadata": {
        "id": "KMyx-9aEqU5u",
        "colab_type": "text"
      },
      "source": [
        "Running the training loop on the normalized input"
      ]
    },
    {
      "cell_type": "code",
      "metadata": {
        "id": "lr38SWaVqPg2",
        "colab_type": "code",
        "colab": {
          "base_uri": "https://localhost:8080/",
          "height": 425
        },
        "outputId": "24c22110-9ef8-42d1-e274-29f4b3c5da28"
      },
      "source": [
        "training_loop(\n",
        " n_epochs = 100,\n",
        " learning_rate = 1e-2,\n",
        " params = torch.tensor([1.0, 0.0]),\n",
        " t_u = t_un,\n",
        " t_c = t_c)"
      ],
      "execution_count": 21,
      "outputs": [
        {
          "output_type": "stream",
          "text": [
            "Epoch 1, Loss 80.364342\n",
            "    Params: tensor([1.7761, 0.1064])\n",
            "    Grad:   tensor([-77.6140, -10.6400])\n",
            "Epoch 2, Loss 37.574917\n",
            "    Params: tensor([2.0848, 0.1303])\n",
            "    Grad:   tensor([-30.8623,  -2.3864])\n",
            "Epoch 3, Loss 30.871077\n",
            "    Params: tensor([2.2094, 0.1217])\n",
            "    Grad:   tensor([-12.4631,   0.8587])\n",
            "...\n",
            "Epoch 10, Loss 29.030487\n",
            "    Params: tensor([ 2.3232, -0.0710])\n",
            "    Grad:   tensor([-0.5355,  2.9295])\n",
            "Epoch 11, Loss 28.941875\n",
            "    Params: tensor([ 2.3284, -0.1003])\n",
            "    Grad:   tensor([-0.5240,  2.9264])\n",
            "...\n",
            "Epoch 99, Loss 22.214186\n",
            "    Params: tensor([ 2.7508, -2.4910])\n",
            "    Grad:   tensor([-0.4453,  2.5208])\n",
            "Epoch 100, Loss 22.148710\n",
            "    Params: tensor([ 2.7553, -2.5162])\n",
            "    Grad:   tensor([-0.4445,  2.5165])\n"
          ],
          "name": "stdout"
        },
        {
          "output_type": "execute_result",
          "data": {
            "text/plain": [
              "tensor([ 2.7553, -2.5162])"
            ]
          },
          "metadata": {
            "tags": []
          },
          "execution_count": 21
        }
      ]
    },
    {
      "cell_type": "markdown",
      "metadata": {
        "id": "pEMFun6gqf1w",
        "colab_type": "text"
      },
      "source": [
        "Running the loop for enough iterations to see the changes in params get small.\n",
        "Changing n_epochs to 5000"
      ]
    },
    {
      "cell_type": "code",
      "metadata": {
        "id": "k5QCjzMfqcOY",
        "colab_type": "code",
        "colab": {
          "base_uri": "https://localhost:8080/",
          "height": 238
        },
        "outputId": "84ba580b-4999-42eb-925d-dfbe592848aa"
      },
      "source": [
        "params = training_loop(\n",
        " n_epochs = 5000,\n",
        " learning_rate = 1e-2,\n",
        " params = torch.tensor([1.0, 0.0]),\n",
        " t_u = t_un,\n",
        " t_c = t_c,\n",
        " print_params = False)\n",
        "params"
      ],
      "execution_count": 22,
      "outputs": [
        {
          "output_type": "stream",
          "text": [
            "Epoch 1, Loss 80.364342\n",
            "Epoch 2, Loss 37.574917\n",
            "Epoch 3, Loss 30.871077\n",
            "...\n",
            "Epoch 10, Loss 29.030487\n",
            "Epoch 11, Loss 28.941875\n",
            "...\n",
            "Epoch 99, Loss 22.214186\n",
            "Epoch 100, Loss 22.148710\n",
            "...\n",
            "Epoch 4000, Loss 2.927680\n",
            "Epoch 5000, Loss 2.927648\n"
          ],
          "name": "stdout"
        },
        {
          "output_type": "execute_result",
          "data": {
            "text/plain": [
              "tensor([  5.3671, -17.3012])"
            ]
          },
          "metadata": {
            "tags": []
          },
          "execution_count": 22
        }
      ]
    },
    {
      "cell_type": "markdown",
      "metadata": {
        "id": "0oT1RA65q0Q2",
        "colab_type": "text"
      },
      "source": [
        "Plotting the linear-fit model (solid line) versus input data (circles)"
      ]
    },
    {
      "cell_type": "code",
      "metadata": {
        "id": "VxK9pQoLqnF9",
        "colab_type": "code",
        "colab": {
          "base_uri": "https://localhost:8080/",
          "height": 399
        },
        "outputId": "eb2edebb-329d-47a7-d096-c0bc4534ebbc"
      },
      "source": [
        "%matplotlib inline\n",
        "from matplotlib import pyplot as plt\n",
        "t_p = model(t_un, *params)\n",
        "fig = plt.figure(dpi=100)\n",
        "plt.xlabel(\"Fahrenheit\")\n",
        "plt.ylabel(\"Celsius\")\n",
        "plt.plot(t_u.numpy(), t_p.detach().numpy())\n",
        "plt.plot(t_u.numpy(), t_c.numpy(), 'o')"
      ],
      "execution_count": 23,
      "outputs": [
        {
          "output_type": "execute_result",
          "data": {
            "text/plain": [
              "[<matplotlib.lines.Line2D at 0x7f43af750f98>]"
            ]
          },
          "metadata": {
            "tags": []
          },
          "execution_count": 23
        },
        {
          "output_type": "display_data",
          "data": {
            "image/png": "[encoded data removed]",
            "text/plain": [
              "<Figure size 600x400 with 1 Axes>"
            ]
          },
          "metadata": {
            "tags": [],
            "needs_background": "light"
          }
        }
      ]
    }
  ]
}