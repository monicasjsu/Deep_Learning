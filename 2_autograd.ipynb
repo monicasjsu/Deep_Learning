{
  "nbformat": 4,
  "nbformat_minor": 0,
  "metadata": {
    "colab": {
      "name": "2_autograd.ipynb",
      "provenance": [],
      "collapsed_sections": [],
      "authorship_tag": "ABX9TyMdo/dd7nDNFf/YtHHgYwVr",
      "include_colab_link": true
    },
    "kernelspec": {
      "name": "python3",
      "display_name": "Python 3"
    }
  },
  "cells": [
    {
      "cell_type": "markdown",
      "metadata": {
        "id": "view-in-github",
        "colab_type": "text"
      },
      "source": [
        "<a href=\"https://colab.research.google.com/github/monicasjsu/deep_learning/blob/master/2_autograd.ipynb\" target=\"_parent\"><img src=\"https://colab.research.google.com/assets/colab-badge.svg\" alt=\"Open In Colab\"/></a>"
      ]
    },
    {
      "cell_type": "code",
      "metadata": {
        "id": "_UN1QVpfrjlg",
        "colab_type": "code",
        "colab": {}
      },
      "source": [
        "import numpy as np\n",
        "import torch"
      ],
      "execution_count": 0,
      "outputs": []
    },
    {
      "cell_type": "code",
      "metadata": {
        "id": "rboHFHkMr62m",
        "colab_type": "code",
        "colab": {}
      },
      "source": [
        "t_c = torch.tensor([1.0, 3.0, 7.0])\n",
        "t_u = torch.tensor([35.7, 55.9, 58.2])\n",
        "t_un = 0.1 * t_u"
      ],
      "execution_count": 0,
      "outputs": []
    },
    {
      "cell_type": "code",
      "metadata": {
        "id": "BRlHIF4drQzc",
        "colab_type": "code",
        "colab": {}
      },
      "source": [
        "def model(t_u, w, b):\n",
        " return w * t_u + b"
      ],
      "execution_count": 0,
      "outputs": []
    },
    {
      "cell_type": "code",
      "metadata": {
        "id": "yG0rasGmrs4E",
        "colab_type": "code",
        "colab": {}
      },
      "source": [
        "def loss_fn(t_p, t_c):\n",
        " squared_diffs = (t_p - t_c)**2\n",
        " return squared_diffs.mean()"
      ],
      "execution_count": 0,
      "outputs": []
    },
    {
      "cell_type": "markdown",
      "metadata": {
        "id": "i3KppEcgtO4l",
        "colab_type": "text"
      },
      "source": [
        "Initializing a parameters tensor"
      ]
    },
    {
      "cell_type": "code",
      "metadata": {
        "id": "R1SE81t9rvXs",
        "colab_type": "code",
        "colab": {}
      },
      "source": [
        "params = torch.tensor([1.0, 0.0], requires_grad=True)"
      ],
      "execution_count": 0,
      "outputs": []
    },
    {
      "cell_type": "code",
      "metadata": {
        "id": "szgRUKyqryDs",
        "colab_type": "code",
        "colab": {
          "base_uri": "https://localhost:8080/",
          "height": 34
        },
        "outputId": "29f6aa4e-064f-48da-d9ae-89916949fa57"
      },
      "source": [
        "params.grad is None"
      ],
      "execution_count": 13,
      "outputs": [
        {
          "output_type": "execute_result",
          "data": {
            "text/plain": [
              "True"
            ]
          },
          "metadata": {
            "tags": []
          },
          "execution_count": 13
        }
      ]
    },
    {
      "cell_type": "markdown",
      "metadata": {
        "id": "LWrCTQAVtbKB",
        "colab_type": "text"
      },
      "source": [
        "Call the model, compute the loss, and then call backward on the loss tensor"
      ]
    },
    {
      "cell_type": "code",
      "metadata": {
        "id": "g2IK3PJur0vI",
        "colab_type": "code",
        "colab": {
          "base_uri": "https://localhost:8080/",
          "height": 34
        },
        "outputId": "112cde5e-6305-4465-bba4-d5a0edc9b31f"
      },
      "source": [
        "loss = loss_fn(model(t_u, *params), t_c)\n",
        "loss.backward()\n",
        "params.grad"
      ],
      "execution_count": 14,
      "outputs": [
        {
          "output_type": "execute_result",
          "data": {
            "text/plain": [
              "tensor([4783.8271,   92.5333])"
            ]
          },
          "metadata": {
            "tags": []
          },
          "execution_count": 14
        }
      ]
    },
    {
      "cell_type": "markdown",
      "metadata": {
        "id": "RXWK2wSgsjr8",
        "colab_type": "text"
      },
      "source": [
        "Trying to zero the gradient explicitly at\n",
        "each iteration"
      ]
    },
    {
      "cell_type": "code",
      "metadata": {
        "id": "VSz10LE8sGrt",
        "colab_type": "code",
        "colab": {}
      },
      "source": [
        "if params.grad is not None:\n",
        " params.grad.zero_()"
      ],
      "execution_count": 0,
      "outputs": []
    },
    {
      "cell_type": "markdown",
      "metadata": {
        "id": "TsCijRb_svIC",
        "colab_type": "text"
      },
      "source": [
        "Autograd-enabled\n",
        "training code"
      ]
    },
    {
      "cell_type": "code",
      "metadata": {
        "id": "3ZYSh8x3swvD",
        "colab_type": "code",
        "colab": {}
      },
      "source": [
        "def training_loop(n_epochs, learning_rate, params, t_u, t_c):\n",
        " for epoch in range(1, n_epochs + 1):\n",
        "  if params.grad is not None:\n",
        "   params.grad.zero_()\n",
        " t_p = model(t_u, *params)\n",
        " loss = loss_fn(t_p, t_c)\n",
        " loss.backward()\n",
        " params = (params - learning_rate *\n",
        "params.grad).detach().requires_grad_()\n",
        " if epoch % 500 == 0:\n",
        "  print('Epoch %d, Loss %f' % (epoch, float(loss)))\n",
        " return params"
      ],
      "execution_count": 0,
      "outputs": []
    },
    {
      "cell_type": "code",
      "metadata": {
        "id": "4rWYRp-Zs305",
        "colab_type": "code",
        "colab": {
          "base_uri": "https://localhost:8080/",
          "height": 51
        },
        "outputId": "ef97b851-33a1-466b-907f-30d41b393d3c"
      },
      "source": [
        "training_loop(\n",
        " n_epochs = 5000,\n",
        " learning_rate = 1e-2,\n",
        " params = torch.tensor([1.0, 0.0], requires_grad=True),\n",
        " t_u = t_un,\n",
        " t_c = t_c)"
      ],
      "execution_count": 20,
      "outputs": [
        {
          "output_type": "stream",
          "text": [
            "Epoch 5000, Loss 4.901801\n"
          ],
          "name": "stdout"
        },
        {
          "output_type": "execute_result",
          "data": {
            "text/plain": [
              "tensor([ 0.8881, -0.0265], requires_grad=True)"
            ]
          },
          "metadata": {
            "tags": []
          },
          "execution_count": 20
        }
      ]
    }
  ]
}