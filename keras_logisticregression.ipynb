{
  "nbformat": 4,
  "nbformat_minor": 0,
  "metadata": {
    "colab": {
      "name": "keras_logisticregression",
      "provenance": [],
      "include_colab_link": true
    },
    "kernelspec": {
      "name": "python3",
      "display_name": "Python 3"
    }
  },
  "cells": [
    {
      "cell_type": "markdown",
      "metadata": {
        "id": "view-in-github",
        "colab_type": "text"
      },
      "source": [
        "<a href=\"https://colab.research.google.com/github/monicasjsu/deep_learning/blob/master/keras_logisticregression.ipynb\" target=\"_parent\"><img src=\"https://colab.research.google.com/assets/colab-badge.svg\" alt=\"Open In Colab\"/></a>"
      ]
    },
    {
      "cell_type": "code",
      "metadata": {
        "id": "XcMLFIU50mr7",
        "colab_type": "code",
        "colab": {
          "base_uri": "https://localhost:8080/",
          "height": 34
        },
        "outputId": "82452e86-d347-45f3-f3f8-840c26c7d412"
      },
      "source": [
        "import os\n",
        "import numpy as np\n",
        "import warnings\n",
        "warnings.filterwarnings(\"ignore\")\n",
        "import numpy as np\n",
        "import pandas as pd\n",
        "import matplotlib.pyplot as plt\n",
        "from sklearn.metrics import confusion_matrix, f1_score, recall_score\n",
        "from sklearn.preprocessing import StandardScaler\n",
        "from sklearn.model_selection import  train_test_split\n",
        "from keras.models import Model, load_model\n",
        "from keras.layers import Input, Dense\n",
        "from keras.callbacks import ModelCheckpoint, TensorBoard\n",
        "from keras import regularizers\n",
        "import tensorflow as tf\n",
        "from pydrive.auth import GoogleAuth\n",
        "from pydrive.drive import GoogleDrive\n",
        "from google.colab import auth\n",
        "from oauth2client.client import GoogleCredentials\n",
        "from keras.models import Sequential\n",
        "from keras.layers import Dense,Dropout, Flatten\n",
        "from keras.optimizers import Adam,sgd\n",
        "from sklearn.metrics import mean_absolute_error\n",
        "from keras import layers, metrics\n",
        "import keras\n",
        "from keras.wrappers.scikit_learn import KerasClassifier\n",
        "from sklearn.model_selection import cross_val_score\n",
        "from sklearn.model_selection import StratifiedKFold"
      ],
      "execution_count": 1,
      "outputs": [
        {
          "output_type": "stream",
          "text": [
            "Using TensorFlow backend.\n"
          ],
          "name": "stderr"
        }
      ]
    },
    {
      "cell_type": "code",
      "metadata": {
        "id": "hpBnsAL40wCo",
        "colab_type": "code",
        "outputId": "9ab6cffb-19d0-4090-ddbc-ecde9ae036d7",
        "colab": {
          "base_uri": "https://localhost:8080/",
          "height": 275
        }
      },
      "source": [
        "!pip install PyDrive"
      ],
      "execution_count": 2,
      "outputs": [
        {
          "output_type": "stream",
          "text": [
            "Requirement already satisfied: PyDrive in /usr/local/lib/python3.6/dist-packages (1.3.1)\n",
            "Requirement already satisfied: google-api-python-client>=1.2 in /usr/local/lib/python3.6/dist-packages (from PyDrive) (1.7.12)\n",
            "Requirement already satisfied: oauth2client>=4.0.0 in /usr/local/lib/python3.6/dist-packages (from PyDrive) (4.1.3)\n",
            "Requirement already satisfied: PyYAML>=3.0 in /usr/local/lib/python3.6/dist-packages (from PyDrive) (3.13)\n",
            "Requirement already satisfied: google-auth-httplib2>=0.0.3 in /usr/local/lib/python3.6/dist-packages (from google-api-python-client>=1.2->PyDrive) (0.0.3)\n",
            "Requirement already satisfied: httplib2<1dev,>=0.17.0 in /usr/local/lib/python3.6/dist-packages (from google-api-python-client>=1.2->PyDrive) (0.17.3)\n",
            "Requirement already satisfied: google-auth>=1.4.1 in /usr/local/lib/python3.6/dist-packages (from google-api-python-client>=1.2->PyDrive) (1.7.2)\n",
            "Requirement already satisfied: uritemplate<4dev,>=3.0.0 in /usr/local/lib/python3.6/dist-packages (from google-api-python-client>=1.2->PyDrive) (3.0.1)\n",
            "Requirement already satisfied: six<2dev,>=1.6.1 in /usr/local/lib/python3.6/dist-packages (from google-api-python-client>=1.2->PyDrive) (1.12.0)\n",
            "Requirement already satisfied: pyasn1>=0.1.7 in /usr/local/lib/python3.6/dist-packages (from oauth2client>=4.0.0->PyDrive) (0.4.8)\n",
            "Requirement already satisfied: pyasn1-modules>=0.0.5 in /usr/local/lib/python3.6/dist-packages (from oauth2client>=4.0.0->PyDrive) (0.2.8)\n",
            "Requirement already satisfied: rsa>=3.1.4 in /usr/local/lib/python3.6/dist-packages (from oauth2client>=4.0.0->PyDrive) (4.0)\n",
            "Requirement already satisfied: cachetools<3.2,>=2.0.0 in /usr/local/lib/python3.6/dist-packages (from google-auth>=1.4.1->google-api-python-client>=1.2->PyDrive) (3.1.1)\n",
            "Requirement already satisfied: setuptools>=40.3.0 in /usr/local/lib/python3.6/dist-packages (from google-auth>=1.4.1->google-api-python-client>=1.2->PyDrive) (46.1.3)\n"
          ],
          "name": "stdout"
        }
      ]
    },
    {
      "cell_type": "code",
      "metadata": {
        "id": "S9BtJzzZ1Q1-",
        "colab_type": "code",
        "colab": {}
      },
      "source": [
        "df = pd.read_csv(\"/content/drive/My Drive/Datasets/dl_2/adult.csv\")"
      ],
      "execution_count": 0,
      "outputs": []
    },
    {
      "cell_type": "code",
      "metadata": {
        "id": "ueAZZPAJ1uiE",
        "colab_type": "code",
        "outputId": "f8372ed8-e45e-4ee8-e52a-4e151550b0a8",
        "colab": {
          "base_uri": "https://localhost:8080/",
          "height": 292
        }
      },
      "source": [
        "df.head()"
      ],
      "execution_count": 4,
      "outputs": [
        {
          "output_type": "execute_result",
          "data": {
            "text/html": [
              "<div>\n",
              "<style scoped>\n",
              "    .dataframe tbody tr th:only-of-type {\n",
              "        vertical-align: middle;\n",
              "    }\n",
              "\n",
              "    .dataframe tbody tr th {\n",
              "        vertical-align: top;\n",
              "    }\n",
              "\n",
              "    .dataframe thead th {\n",
              "        text-align: right;\n",
              "    }\n",
              "</style>\n",
              "<table border=\"1\" class=\"dataframe\">\n",
              "  <thead>\n",
              "    <tr style=\"text-align: right;\">\n",
              "      <th></th>\n",
              "      <th>age</th>\n",
              "      <th>workclass</th>\n",
              "      <th>fnlwgt</th>\n",
              "      <th>education</th>\n",
              "      <th>education.num</th>\n",
              "      <th>marital.status</th>\n",
              "      <th>occupation</th>\n",
              "      <th>relationship</th>\n",
              "      <th>race</th>\n",
              "      <th>sex</th>\n",
              "      <th>capital.gain</th>\n",
              "      <th>capital.loss</th>\n",
              "      <th>hours.per.week</th>\n",
              "      <th>native.country</th>\n",
              "      <th>income</th>\n",
              "    </tr>\n",
              "  </thead>\n",
              "  <tbody>\n",
              "    <tr>\n",
              "      <th>0</th>\n",
              "      <td>90</td>\n",
              "      <td>?</td>\n",
              "      <td>77053</td>\n",
              "      <td>HS-grad</td>\n",
              "      <td>9</td>\n",
              "      <td>Widowed</td>\n",
              "      <td>?</td>\n",
              "      <td>Not-in-family</td>\n",
              "      <td>White</td>\n",
              "      <td>Female</td>\n",
              "      <td>0</td>\n",
              "      <td>4356</td>\n",
              "      <td>40</td>\n",
              "      <td>United-States</td>\n",
              "      <td>&lt;=50K</td>\n",
              "    </tr>\n",
              "    <tr>\n",
              "      <th>1</th>\n",
              "      <td>82</td>\n",
              "      <td>Private</td>\n",
              "      <td>132870</td>\n",
              "      <td>HS-grad</td>\n",
              "      <td>9</td>\n",
              "      <td>Widowed</td>\n",
              "      <td>Exec-managerial</td>\n",
              "      <td>Not-in-family</td>\n",
              "      <td>White</td>\n",
              "      <td>Female</td>\n",
              "      <td>0</td>\n",
              "      <td>4356</td>\n",
              "      <td>18</td>\n",
              "      <td>United-States</td>\n",
              "      <td>&lt;=50K</td>\n",
              "    </tr>\n",
              "    <tr>\n",
              "      <th>2</th>\n",
              "      <td>66</td>\n",
              "      <td>?</td>\n",
              "      <td>186061</td>\n",
              "      <td>Some-college</td>\n",
              "      <td>10</td>\n",
              "      <td>Widowed</td>\n",
              "      <td>?</td>\n",
              "      <td>Unmarried</td>\n",
              "      <td>Black</td>\n",
              "      <td>Female</td>\n",
              "      <td>0</td>\n",
              "      <td>4356</td>\n",
              "      <td>40</td>\n",
              "      <td>United-States</td>\n",
              "      <td>&lt;=50K</td>\n",
              "    </tr>\n",
              "    <tr>\n",
              "      <th>3</th>\n",
              "      <td>54</td>\n",
              "      <td>Private</td>\n",
              "      <td>140359</td>\n",
              "      <td>7th-8th</td>\n",
              "      <td>4</td>\n",
              "      <td>Divorced</td>\n",
              "      <td>Machine-op-inspct</td>\n",
              "      <td>Unmarried</td>\n",
              "      <td>White</td>\n",
              "      <td>Female</td>\n",
              "      <td>0</td>\n",
              "      <td>3900</td>\n",
              "      <td>40</td>\n",
              "      <td>United-States</td>\n",
              "      <td>&lt;=50K</td>\n",
              "    </tr>\n",
              "    <tr>\n",
              "      <th>4</th>\n",
              "      <td>41</td>\n",
              "      <td>Private</td>\n",
              "      <td>264663</td>\n",
              "      <td>Some-college</td>\n",
              "      <td>10</td>\n",
              "      <td>Separated</td>\n",
              "      <td>Prof-specialty</td>\n",
              "      <td>Own-child</td>\n",
              "      <td>White</td>\n",
              "      <td>Female</td>\n",
              "      <td>0</td>\n",
              "      <td>3900</td>\n",
              "      <td>40</td>\n",
              "      <td>United-States</td>\n",
              "      <td>&lt;=50K</td>\n",
              "    </tr>\n",
              "  </tbody>\n",
              "</table>\n",
              "</div>"
            ],
            "text/plain": [
              "   age workclass  fnlwgt  ... hours.per.week  native.country income\n",
              "0   90         ?   77053  ...             40   United-States  <=50K\n",
              "1   82   Private  132870  ...             18   United-States  <=50K\n",
              "2   66         ?  186061  ...             40   United-States  <=50K\n",
              "3   54   Private  140359  ...             40   United-States  <=50K\n",
              "4   41   Private  264663  ...             40   United-States  <=50K\n",
              "\n",
              "[5 rows x 15 columns]"
            ]
          },
          "metadata": {
            "tags": []
          },
          "execution_count": 4
        }
      ]
    },
    {
      "cell_type": "code",
      "metadata": {
        "id": "JVl3X4Vu2DCt",
        "colab_type": "code",
        "colab": {}
      },
      "source": [
        "df = df[df.workclass != '?']"
      ],
      "execution_count": 0,
      "outputs": []
    },
    {
      "cell_type": "code",
      "metadata": {
        "id": "YCXXp-P32M01",
        "colab_type": "code",
        "outputId": "084ad28a-97e9-4428-cf21-e4ea23993207",
        "colab": {
          "base_uri": "https://localhost:8080/",
          "height": 541
        }
      },
      "source": [
        "df"
      ],
      "execution_count": 6,
      "outputs": [
        {
          "output_type": "execute_result",
          "data": {
            "text/html": [
              "<div>\n",
              "<style scoped>\n",
              "    .dataframe tbody tr th:only-of-type {\n",
              "        vertical-align: middle;\n",
              "    }\n",
              "\n",
              "    .dataframe tbody tr th {\n",
              "        vertical-align: top;\n",
              "    }\n",
              "\n",
              "    .dataframe thead th {\n",
              "        text-align: right;\n",
              "    }\n",
              "</style>\n",
              "<table border=\"1\" class=\"dataframe\">\n",
              "  <thead>\n",
              "    <tr style=\"text-align: right;\">\n",
              "      <th></th>\n",
              "      <th>age</th>\n",
              "      <th>workclass</th>\n",
              "      <th>fnlwgt</th>\n",
              "      <th>education</th>\n",
              "      <th>education.num</th>\n",
              "      <th>marital.status</th>\n",
              "      <th>occupation</th>\n",
              "      <th>relationship</th>\n",
              "      <th>race</th>\n",
              "      <th>sex</th>\n",
              "      <th>capital.gain</th>\n",
              "      <th>capital.loss</th>\n",
              "      <th>hours.per.week</th>\n",
              "      <th>native.country</th>\n",
              "      <th>income</th>\n",
              "    </tr>\n",
              "  </thead>\n",
              "  <tbody>\n",
              "    <tr>\n",
              "      <th>1</th>\n",
              "      <td>82</td>\n",
              "      <td>Private</td>\n",
              "      <td>132870</td>\n",
              "      <td>HS-grad</td>\n",
              "      <td>9</td>\n",
              "      <td>Widowed</td>\n",
              "      <td>Exec-managerial</td>\n",
              "      <td>Not-in-family</td>\n",
              "      <td>White</td>\n",
              "      <td>Female</td>\n",
              "      <td>0</td>\n",
              "      <td>4356</td>\n",
              "      <td>18</td>\n",
              "      <td>United-States</td>\n",
              "      <td>&lt;=50K</td>\n",
              "    </tr>\n",
              "    <tr>\n",
              "      <th>3</th>\n",
              "      <td>54</td>\n",
              "      <td>Private</td>\n",
              "      <td>140359</td>\n",
              "      <td>7th-8th</td>\n",
              "      <td>4</td>\n",
              "      <td>Divorced</td>\n",
              "      <td>Machine-op-inspct</td>\n",
              "      <td>Unmarried</td>\n",
              "      <td>White</td>\n",
              "      <td>Female</td>\n",
              "      <td>0</td>\n",
              "      <td>3900</td>\n",
              "      <td>40</td>\n",
              "      <td>United-States</td>\n",
              "      <td>&lt;=50K</td>\n",
              "    </tr>\n",
              "    <tr>\n",
              "      <th>4</th>\n",
              "      <td>41</td>\n",
              "      <td>Private</td>\n",
              "      <td>264663</td>\n",
              "      <td>Some-college</td>\n",
              "      <td>10</td>\n",
              "      <td>Separated</td>\n",
              "      <td>Prof-specialty</td>\n",
              "      <td>Own-child</td>\n",
              "      <td>White</td>\n",
              "      <td>Female</td>\n",
              "      <td>0</td>\n",
              "      <td>3900</td>\n",
              "      <td>40</td>\n",
              "      <td>United-States</td>\n",
              "      <td>&lt;=50K</td>\n",
              "    </tr>\n",
              "    <tr>\n",
              "      <th>5</th>\n",
              "      <td>34</td>\n",
              "      <td>Private</td>\n",
              "      <td>216864</td>\n",
              "      <td>HS-grad</td>\n",
              "      <td>9</td>\n",
              "      <td>Divorced</td>\n",
              "      <td>Other-service</td>\n",
              "      <td>Unmarried</td>\n",
              "      <td>White</td>\n",
              "      <td>Female</td>\n",
              "      <td>0</td>\n",
              "      <td>3770</td>\n",
              "      <td>45</td>\n",
              "      <td>United-States</td>\n",
              "      <td>&lt;=50K</td>\n",
              "    </tr>\n",
              "    <tr>\n",
              "      <th>6</th>\n",
              "      <td>38</td>\n",
              "      <td>Private</td>\n",
              "      <td>150601</td>\n",
              "      <td>10th</td>\n",
              "      <td>6</td>\n",
              "      <td>Separated</td>\n",
              "      <td>Adm-clerical</td>\n",
              "      <td>Unmarried</td>\n",
              "      <td>White</td>\n",
              "      <td>Male</td>\n",
              "      <td>0</td>\n",
              "      <td>3770</td>\n",
              "      <td>40</td>\n",
              "      <td>United-States</td>\n",
              "      <td>&lt;=50K</td>\n",
              "    </tr>\n",
              "    <tr>\n",
              "      <th>...</th>\n",
              "      <td>...</td>\n",
              "      <td>...</td>\n",
              "      <td>...</td>\n",
              "      <td>...</td>\n",
              "      <td>...</td>\n",
              "      <td>...</td>\n",
              "      <td>...</td>\n",
              "      <td>...</td>\n",
              "      <td>...</td>\n",
              "      <td>...</td>\n",
              "      <td>...</td>\n",
              "      <td>...</td>\n",
              "      <td>...</td>\n",
              "      <td>...</td>\n",
              "      <td>...</td>\n",
              "    </tr>\n",
              "    <tr>\n",
              "      <th>32556</th>\n",
              "      <td>22</td>\n",
              "      <td>Private</td>\n",
              "      <td>310152</td>\n",
              "      <td>Some-college</td>\n",
              "      <td>10</td>\n",
              "      <td>Never-married</td>\n",
              "      <td>Protective-serv</td>\n",
              "      <td>Not-in-family</td>\n",
              "      <td>White</td>\n",
              "      <td>Male</td>\n",
              "      <td>0</td>\n",
              "      <td>0</td>\n",
              "      <td>40</td>\n",
              "      <td>United-States</td>\n",
              "      <td>&lt;=50K</td>\n",
              "    </tr>\n",
              "    <tr>\n",
              "      <th>32557</th>\n",
              "      <td>27</td>\n",
              "      <td>Private</td>\n",
              "      <td>257302</td>\n",
              "      <td>Assoc-acdm</td>\n",
              "      <td>12</td>\n",
              "      <td>Married-civ-spouse</td>\n",
              "      <td>Tech-support</td>\n",
              "      <td>Wife</td>\n",
              "      <td>White</td>\n",
              "      <td>Female</td>\n",
              "      <td>0</td>\n",
              "      <td>0</td>\n",
              "      <td>38</td>\n",
              "      <td>United-States</td>\n",
              "      <td>&lt;=50K</td>\n",
              "    </tr>\n",
              "    <tr>\n",
              "      <th>32558</th>\n",
              "      <td>40</td>\n",
              "      <td>Private</td>\n",
              "      <td>154374</td>\n",
              "      <td>HS-grad</td>\n",
              "      <td>9</td>\n",
              "      <td>Married-civ-spouse</td>\n",
              "      <td>Machine-op-inspct</td>\n",
              "      <td>Husband</td>\n",
              "      <td>White</td>\n",
              "      <td>Male</td>\n",
              "      <td>0</td>\n",
              "      <td>0</td>\n",
              "      <td>40</td>\n",
              "      <td>United-States</td>\n",
              "      <td>&gt;50K</td>\n",
              "    </tr>\n",
              "    <tr>\n",
              "      <th>32559</th>\n",
              "      <td>58</td>\n",
              "      <td>Private</td>\n",
              "      <td>151910</td>\n",
              "      <td>HS-grad</td>\n",
              "      <td>9</td>\n",
              "      <td>Widowed</td>\n",
              "      <td>Adm-clerical</td>\n",
              "      <td>Unmarried</td>\n",
              "      <td>White</td>\n",
              "      <td>Female</td>\n",
              "      <td>0</td>\n",
              "      <td>0</td>\n",
              "      <td>40</td>\n",
              "      <td>United-States</td>\n",
              "      <td>&lt;=50K</td>\n",
              "    </tr>\n",
              "    <tr>\n",
              "      <th>32560</th>\n",
              "      <td>22</td>\n",
              "      <td>Private</td>\n",
              "      <td>201490</td>\n",
              "      <td>HS-grad</td>\n",
              "      <td>9</td>\n",
              "      <td>Never-married</td>\n",
              "      <td>Adm-clerical</td>\n",
              "      <td>Own-child</td>\n",
              "      <td>White</td>\n",
              "      <td>Male</td>\n",
              "      <td>0</td>\n",
              "      <td>0</td>\n",
              "      <td>20</td>\n",
              "      <td>United-States</td>\n",
              "      <td>&lt;=50K</td>\n",
              "    </tr>\n",
              "  </tbody>\n",
              "</table>\n",
              "<p>30725 rows × 15 columns</p>\n",
              "</div>"
            ],
            "text/plain": [
              "       age workclass  fnlwgt  ... hours.per.week  native.country income\n",
              "1       82   Private  132870  ...             18   United-States  <=50K\n",
              "3       54   Private  140359  ...             40   United-States  <=50K\n",
              "4       41   Private  264663  ...             40   United-States  <=50K\n",
              "5       34   Private  216864  ...             45   United-States  <=50K\n",
              "6       38   Private  150601  ...             40   United-States  <=50K\n",
              "...    ...       ...     ...  ...            ...             ...    ...\n",
              "32556   22   Private  310152  ...             40   United-States  <=50K\n",
              "32557   27   Private  257302  ...             38   United-States  <=50K\n",
              "32558   40   Private  154374  ...             40   United-States   >50K\n",
              "32559   58   Private  151910  ...             40   United-States  <=50K\n",
              "32560   22   Private  201490  ...             20   United-States  <=50K\n",
              "\n",
              "[30725 rows x 15 columns]"
            ]
          },
          "metadata": {
            "tags": []
          },
          "execution_count": 6
        }
      ]
    },
    {
      "cell_type": "code",
      "metadata": {
        "id": "Wvp54AnK2S38",
        "colab_type": "code",
        "colab": {}
      },
      "source": [
        "df = df[df.occupation !='?']"
      ],
      "execution_count": 0,
      "outputs": []
    },
    {
      "cell_type": "code",
      "metadata": {
        "id": "H5dq7elZ4bNL",
        "colab_type": "code",
        "colab": {}
      },
      "source": [
        "for cols in ['age', 'workclass', 'fnlwgt', 'education', 'education.num', 'marital.status', 'occupation','relationship', 'race', 'sex','capital.gain', 'capital.loss','hours.per.week','native.country','income']:\n",
        "    df[cols] = df[cols].astype('category')\n",
        "    df[cols] = df[cols].cat.codes"
      ],
      "execution_count": 0,
      "outputs": []
    },
    {
      "cell_type": "code",
      "metadata": {
        "id": "MGdM4y8h48Qv",
        "colab_type": "code",
        "outputId": "8044b081-863d-4bfd-92fe-9d6c3cde773a",
        "colab": {
          "base_uri": "https://localhost:8080/",
          "height": 224
        }
      },
      "source": [
        "df.head()"
      ],
      "execution_count": 9,
      "outputs": [
        {
          "output_type": "execute_result",
          "data": {
            "text/html": [
              "<div>\n",
              "<style scoped>\n",
              "    .dataframe tbody tr th:only-of-type {\n",
              "        vertical-align: middle;\n",
              "    }\n",
              "\n",
              "    .dataframe tbody tr th {\n",
              "        vertical-align: top;\n",
              "    }\n",
              "\n",
              "    .dataframe thead th {\n",
              "        text-align: right;\n",
              "    }\n",
              "</style>\n",
              "<table border=\"1\" class=\"dataframe\">\n",
              "  <thead>\n",
              "    <tr style=\"text-align: right;\">\n",
              "      <th></th>\n",
              "      <th>age</th>\n",
              "      <th>workclass</th>\n",
              "      <th>fnlwgt</th>\n",
              "      <th>education</th>\n",
              "      <th>education.num</th>\n",
              "      <th>marital.status</th>\n",
              "      <th>occupation</th>\n",
              "      <th>relationship</th>\n",
              "      <th>race</th>\n",
              "      <th>sex</th>\n",
              "      <th>capital.gain</th>\n",
              "      <th>capital.loss</th>\n",
              "      <th>hours.per.week</th>\n",
              "      <th>native.country</th>\n",
              "      <th>income</th>\n",
              "    </tr>\n",
              "  </thead>\n",
              "  <tbody>\n",
              "    <tr>\n",
              "      <th>1</th>\n",
              "      <td>65</td>\n",
              "      <td>2</td>\n",
              "      <td>6157</td>\n",
              "      <td>11</td>\n",
              "      <td>8</td>\n",
              "      <td>6</td>\n",
              "      <td>3</td>\n",
              "      <td>1</td>\n",
              "      <td>4</td>\n",
              "      <td>0</td>\n",
              "      <td>0</td>\n",
              "      <td>89</td>\n",
              "      <td>17</td>\n",
              "      <td>39</td>\n",
              "      <td>0</td>\n",
              "    </tr>\n",
              "    <tr>\n",
              "      <th>3</th>\n",
              "      <td>37</td>\n",
              "      <td>2</td>\n",
              "      <td>6632</td>\n",
              "      <td>5</td>\n",
              "      <td>3</td>\n",
              "      <td>0</td>\n",
              "      <td>6</td>\n",
              "      <td>4</td>\n",
              "      <td>4</td>\n",
              "      <td>0</td>\n",
              "      <td>0</td>\n",
              "      <td>88</td>\n",
              "      <td>39</td>\n",
              "      <td>39</td>\n",
              "      <td>0</td>\n",
              "    </tr>\n",
              "    <tr>\n",
              "      <th>4</th>\n",
              "      <td>24</td>\n",
              "      <td>2</td>\n",
              "      <td>15952</td>\n",
              "      <td>15</td>\n",
              "      <td>9</td>\n",
              "      <td>5</td>\n",
              "      <td>9</td>\n",
              "      <td>3</td>\n",
              "      <td>4</td>\n",
              "      <td>0</td>\n",
              "      <td>0</td>\n",
              "      <td>88</td>\n",
              "      <td>39</td>\n",
              "      <td>39</td>\n",
              "      <td>0</td>\n",
              "    </tr>\n",
              "    <tr>\n",
              "      <th>5</th>\n",
              "      <td>17</td>\n",
              "      <td>2</td>\n",
              "      <td>13423</td>\n",
              "      <td>11</td>\n",
              "      <td>8</td>\n",
              "      <td>0</td>\n",
              "      <td>7</td>\n",
              "      <td>4</td>\n",
              "      <td>4</td>\n",
              "      <td>0</td>\n",
              "      <td>0</td>\n",
              "      <td>87</td>\n",
              "      <td>44</td>\n",
              "      <td>39</td>\n",
              "      <td>0</td>\n",
              "    </tr>\n",
              "    <tr>\n",
              "      <th>6</th>\n",
              "      <td>21</td>\n",
              "      <td>2</td>\n",
              "      <td>7370</td>\n",
              "      <td>0</td>\n",
              "      <td>5</td>\n",
              "      <td>5</td>\n",
              "      <td>0</td>\n",
              "      <td>4</td>\n",
              "      <td>4</td>\n",
              "      <td>1</td>\n",
              "      <td>0</td>\n",
              "      <td>87</td>\n",
              "      <td>39</td>\n",
              "      <td>39</td>\n",
              "      <td>0</td>\n",
              "    </tr>\n",
              "  </tbody>\n",
              "</table>\n",
              "</div>"
            ],
            "text/plain": [
              "   age  workclass  fnlwgt  ...  hours.per.week  native.country  income\n",
              "1   65          2    6157  ...              17              39       0\n",
              "3   37          2    6632  ...              39              39       0\n",
              "4   24          2   15952  ...              39              39       0\n",
              "5   17          2   13423  ...              44              39       0\n",
              "6   21          2    7370  ...              39              39       0\n",
              "\n",
              "[5 rows x 15 columns]"
            ]
          },
          "metadata": {
            "tags": []
          },
          "execution_count": 9
        }
      ]
    },
    {
      "cell_type": "code",
      "metadata": {
        "id": "T3pgsYc_1Ubh",
        "colab_type": "code",
        "outputId": "2f997b77-fd3e-4b88-9f10-8e30aeb81f08",
        "colab": {
          "base_uri": "https://localhost:8080/",
          "height": 289
        }
      },
      "source": [
        "df.isnull().sum()"
      ],
      "execution_count": 10,
      "outputs": [
        {
          "output_type": "execute_result",
          "data": {
            "text/plain": [
              "age               0\n",
              "workclass         0\n",
              "fnlwgt            0\n",
              "education         0\n",
              "education.num     0\n",
              "marital.status    0\n",
              "occupation        0\n",
              "relationship      0\n",
              "race              0\n",
              "sex               0\n",
              "capital.gain      0\n",
              "capital.loss      0\n",
              "hours.per.week    0\n",
              "native.country    0\n",
              "income            0\n",
              "dtype: int64"
            ]
          },
          "metadata": {
            "tags": []
          },
          "execution_count": 10
        }
      ]
    },
    {
      "cell_type": "code",
      "metadata": {
        "id": "Mu_VBtjx1ZEu",
        "colab_type": "code",
        "outputId": "80652323-8a12-4938-9ab0-c1844aa0ac82",
        "colab": {
          "base_uri": "https://localhost:8080/",
          "height": 34
        }
      },
      "source": [
        "df.income.unique()"
      ],
      "execution_count": 11,
      "outputs": [
        {
          "output_type": "execute_result",
          "data": {
            "text/plain": [
              "array([0, 1], dtype=int8)"
            ]
          },
          "metadata": {
            "tags": []
          },
          "execution_count": 11
        }
      ]
    },
    {
      "cell_type": "code",
      "metadata": {
        "id": "JeTlCtGv1eG5",
        "colab_type": "code",
        "outputId": "6d1a4f8a-ce5f-4133-c0d8-4efcfcacb047",
        "colab": {
          "base_uri": "https://localhost:8080/",
          "height": 221
        }
      },
      "source": [
        "output=df['income']\n",
        "input = df.drop(['income'],axis=1)\n",
        "output"
      ],
      "execution_count": 12,
      "outputs": [
        {
          "output_type": "execute_result",
          "data": {
            "text/plain": [
              "1        0\n",
              "3        0\n",
              "4        0\n",
              "5        0\n",
              "6        0\n",
              "        ..\n",
              "32556    0\n",
              "32557    0\n",
              "32558    1\n",
              "32559    0\n",
              "32560    0\n",
              "Name: income, Length: 30718, dtype: int8"
            ]
          },
          "metadata": {
            "tags": []
          },
          "execution_count": 12
        }
      ]
    },
    {
      "cell_type": "code",
      "metadata": {
        "id": "aOMCL1Ld2iC2",
        "colab_type": "code",
        "colab": {}
      },
      "source": [
        "input=input.values\n",
        "output=output.values"
      ],
      "execution_count": 0,
      "outputs": []
    },
    {
      "cell_type": "code",
      "metadata": {
        "id": "zRKGVS312rlL",
        "colab_type": "code",
        "outputId": "d39b245c-c360-405c-d5d1-284201ab5d15",
        "colab": {
          "base_uri": "https://localhost:8080/",
          "height": 34
        }
      },
      "source": [
        "print(output)"
      ],
      "execution_count": 14,
      "outputs": [
        {
          "output_type": "stream",
          "text": [
            "[0 0 0 ... 1 0 0]\n"
          ],
          "name": "stdout"
        }
      ]
    },
    {
      "cell_type": "code",
      "metadata": {
        "id": "GWXLiv7E2vyi",
        "colab_type": "code",
        "outputId": "1afc1a98-7073-4158-c5a7-99ad4c9c5c0b",
        "colab": {
          "base_uri": "https://localhost:8080/",
          "height": 136
        }
      },
      "source": [
        "print(input)"
      ],
      "execution_count": 15,
      "outputs": [
        {
          "output_type": "stream",
          "text": [
            "[[   65     2  6157 ...    89    17    39]\n",
            " [   37     2  6632 ...    88    39    39]\n",
            " [   24     2 15952 ...    88    39    39]\n",
            " ...\n",
            " [   23     2  7633 ...     0    39    39]\n",
            " [   41     2  7451 ...     0    39    39]\n",
            " [    5     2 12189 ...     0    19    39]]\n"
          ],
          "name": "stdout"
        }
      ]
    },
    {
      "cell_type": "code",
      "metadata": {
        "id": "QI7b-S5A21_D",
        "colab_type": "code",
        "colab": {}
      },
      "source": [
        "from sklearn.model_selection import train_test_split\n",
        "X_train,X_test,y_train,y_test = train_test_split(input,output,test_size=0.2,random_state=0)"
      ],
      "execution_count": 0,
      "outputs": []
    },
    {
      "cell_type": "code",
      "metadata": {
        "id": "lht6k-N228q7",
        "colab_type": "code",
        "outputId": "3f514d4b-9387-461b-e47c-03bb34d6f76d",
        "colab": {
          "base_uri": "https://localhost:8080/",
          "height": 255
        }
      },
      "source": [
        "print(X_train)\n",
        "print(X_test)"
      ],
      "execution_count": 17,
      "outputs": [
        {
          "output_type": "stream",
          "text": [
            "[[   10     2  5763 ...     0    39    39]\n",
            " [   43     2  4181 ...     0    39    39]\n",
            " [   33     2   829 ...     0    39    39]\n",
            " ...\n",
            " [   15     2 15059 ...     0    39    26]\n",
            " [    9     2  2827 ...     0    39    39]\n",
            " [   18     4  8941 ...     0    59    39]]\n",
            "[[   24     2 12720 ...     0    39    39]\n",
            " [    4     2 14485 ...     0    39    39]\n",
            " [   31     5  9081 ...     0    49    39]\n",
            " ...\n",
            " [   46     2 17213 ...     0    39    39]\n",
            " [   35     2  9832 ...     0    39    39]\n",
            " [   37     1 18969 ...     0    39    26]]\n"
          ],
          "name": "stdout"
        }
      ]
    },
    {
      "cell_type": "code",
      "metadata": {
        "id": "KHBoBIWF2_1p",
        "colab_type": "code",
        "outputId": "cce891c1-cba1-4df9-fa51-e2eda8a8b289",
        "colab": {
          "base_uri": "https://localhost:8080/",
          "height": 34
        }
      },
      "source": [
        "!pip3 install 'gast==0.2.2'\n",
        "try:\n",
        "  %tensorflow_version 2.x\n",
        "except Exception:\n",
        "  pass"
      ],
      "execution_count": 18,
      "outputs": [
        {
          "output_type": "stream",
          "text": [
            "Requirement already satisfied: gast==0.2.2 in /usr/local/lib/python3.6/dist-packages (0.2.2)\n"
          ],
          "name": "stdout"
        }
      ]
    },
    {
      "cell_type": "code",
      "metadata": {
        "id": "AFrEGeyA3Kg0",
        "colab_type": "code",
        "colab": {}
      },
      "source": [
        "def model(X_train,X_test,y_train,y_test):\n",
        "    keras_model = Sequential()\n",
        "    keras_model.add(Dense(300, activation=\"relu\",input_shape=(14,)))\n",
        "    keras_model.add(Dropout(0.3))\n",
        "    keras_model.add(Dense(10, activation=\"relu\"))\n",
        "    keras_model.add(Dropout(0.1))\n",
        "    keras_model.add(Dense(4, activation=\"relu\"))\n",
        "    keras_model.add(Dense(1,activation='sigmoid'))\n",
        "    keras_model.compile(loss='binary_crossentropy', optimizer=sgd(), metrics=['accuracy'])\n",
        "    keras_model.fit(X_train, y_train, epochs=100)\n",
        "    a = keras_model.evaluate(X_test, y_test)\n",
        "    return a"
      ],
      "execution_count": 0,
      "outputs": []
    },
    {
      "cell_type": "code",
      "metadata": {
        "id": "zl9k2fZE3TZ8",
        "colab_type": "code",
        "outputId": "5c0b796e-8096-425d-b494-b508765df5a4",
        "colab": {
          "base_uri": "https://localhost:8080/",
          "height": 1000
        }
      },
      "source": [
        "model(X_train,X_test,y_train,y_test)"
      ],
      "execution_count": 20,
      "outputs": [
        {
          "output_type": "stream",
          "text": [
            "Epoch 1/100\n",
            "24574/24574 [==============================] - 1s 50us/step - loss: 11495729844635778.0000 - accuracy: 0.7489\n",
            "Epoch 2/100\n",
            "24574/24574 [==============================] - 1s 45us/step - loss: 0.5631 - accuracy: 0.7506\n",
            "Epoch 3/100\n",
            "24574/24574 [==============================] - 1s 45us/step - loss: 26827922185.1243 - accuracy: 0.7506\n",
            "Epoch 4/100\n",
            "24574/24574 [==============================] - 1s 46us/step - loss: 0.5617 - accuracy: 0.7506\n",
            "Epoch 5/100\n",
            "24574/24574 [==============================] - 1s 44us/step - loss: 0.5617 - accuracy: 0.7506\n",
            "Epoch 6/100\n",
            "24574/24574 [==============================] - 1s 44us/step - loss: 0.5617 - accuracy: 0.7506\n",
            "Epoch 7/100\n",
            "24574/24574 [==============================] - 1s 45us/step - loss: 0.5617 - accuracy: 0.7506\n",
            "Epoch 8/100\n",
            "24574/24574 [==============================] - 1s 44us/step - loss: 0.5617 - accuracy: 0.7506\n",
            "Epoch 9/100\n",
            "24574/24574 [==============================] - 1s 48us/step - loss: 0.5617 - accuracy: 0.7506\n",
            "Epoch 10/100\n",
            "24574/24574 [==============================] - 1s 45us/step - loss: 0.5617 - accuracy: 0.7506\n",
            "Epoch 11/100\n",
            "24574/24574 [==============================] - 1s 45us/step - loss: 0.5617 - accuracy: 0.7506\n",
            "Epoch 12/100\n",
            "24574/24574 [==============================] - 1s 52us/step - loss: 0.5617 - accuracy: 0.7506\n",
            "Epoch 13/100\n",
            "24574/24574 [==============================] - 1s 55us/step - loss: 0.5617 - accuracy: 0.7506\n",
            "Epoch 14/100\n",
            "24574/24574 [==============================] - 1s 53us/step - loss: 0.5617 - accuracy: 0.7506\n",
            "Epoch 15/100\n",
            "24574/24574 [==============================] - 1s 48us/step - loss: 0.5617 - accuracy: 0.7506\n",
            "Epoch 16/100\n",
            "24574/24574 [==============================] - 2s 68us/step - loss: 0.5617 - accuracy: 0.7506\n",
            "Epoch 17/100\n",
            "24574/24574 [==============================] - 2s 64us/step - loss: 0.5617 - accuracy: 0.7506\n",
            "Epoch 18/100\n",
            "24574/24574 [==============================] - 2s 70us/step - loss: 0.5617 - accuracy: 0.7506\n",
            "Epoch 19/100\n",
            "24574/24574 [==============================] - 2s 62us/step - loss: 0.5617 - accuracy: 0.7506\n",
            "Epoch 20/100\n",
            "24574/24574 [==============================] - 2s 64us/step - loss: 0.5616 - accuracy: 0.7506\n",
            "Epoch 21/100\n",
            "24574/24574 [==============================] - 2s 67us/step - loss: 0.5617 - accuracy: 0.7506\n",
            "Epoch 22/100\n",
            "24574/24574 [==============================] - 2s 62us/step - loss: 0.5617 - accuracy: 0.7506\n",
            "Epoch 23/100\n",
            "24574/24574 [==============================] - 2s 61us/step - loss: 0.5617 - accuracy: 0.7506\n",
            "Epoch 24/100\n",
            "24574/24574 [==============================] - 1s 61us/step - loss: 0.5617 - accuracy: 0.7506\n",
            "Epoch 25/100\n",
            "24574/24574 [==============================] - 1s 61us/step - loss: 0.5617 - accuracy: 0.7506\n",
            "Epoch 26/100\n",
            "24574/24574 [==============================] - 2s 62us/step - loss: 0.5617 - accuracy: 0.7506\n",
            "Epoch 27/100\n",
            "24574/24574 [==============================] - 1s 60us/step - loss: 0.5617 - accuracy: 0.7506\n",
            "Epoch 28/100\n",
            "24574/24574 [==============================] - 1s 60us/step - loss: 0.5617 - accuracy: 0.7506\n",
            "Epoch 29/100\n",
            "24574/24574 [==============================] - 1s 57us/step - loss: 0.5617 - accuracy: 0.7506\n",
            "Epoch 30/100\n",
            "24574/24574 [==============================] - 1s 56us/step - loss: 0.5617 - accuracy: 0.7506\n",
            "Epoch 31/100\n",
            "24574/24574 [==============================] - 1s 55us/step - loss: 0.5617 - accuracy: 0.7506\n",
            "Epoch 32/100\n",
            "24574/24574 [==============================] - 1s 56us/step - loss: 0.5617 - accuracy: 0.7506\n",
            "Epoch 33/100\n",
            "24574/24574 [==============================] - 1s 54us/step - loss: 0.5617 - accuracy: 0.7506\n",
            "Epoch 34/100\n",
            "24574/24574 [==============================] - 1s 49us/step - loss: 0.5617 - accuracy: 0.7506\n",
            "Epoch 35/100\n",
            "24574/24574 [==============================] - 1s 48us/step - loss: 0.5617 - accuracy: 0.7506\n",
            "Epoch 36/100\n",
            "24574/24574 [==============================] - 1s 47us/step - loss: 0.5617 - accuracy: 0.7506\n",
            "Epoch 37/100\n",
            "24574/24574 [==============================] - 1s 47us/step - loss: 0.5617 - accuracy: 0.7506\n",
            "Epoch 38/100\n",
            "24574/24574 [==============================] - 1s 45us/step - loss: 0.5617 - accuracy: 0.7506\n",
            "Epoch 39/100\n",
            "24574/24574 [==============================] - 1s 45us/step - loss: 0.5617 - accuracy: 0.7506\n",
            "Epoch 40/100\n",
            "24574/24574 [==============================] - 1s 44us/step - loss: 0.5617 - accuracy: 0.7506\n",
            "Epoch 41/100\n",
            "24574/24574 [==============================] - 1s 44us/step - loss: 0.5617 - accuracy: 0.7506\n",
            "Epoch 42/100\n",
            "24574/24574 [==============================] - 1s 44us/step - loss: 0.5617 - accuracy: 0.7506\n",
            "Epoch 43/100\n",
            "24574/24574 [==============================] - 1s 45us/step - loss: 0.5617 - accuracy: 0.7506\n",
            "Epoch 44/100\n",
            "24574/24574 [==============================] - 1s 45us/step - loss: 0.5617 - accuracy: 0.7506\n",
            "Epoch 45/100\n",
            "24574/24574 [==============================] - 1s 45us/step - loss: 0.5617 - accuracy: 0.7506\n",
            "Epoch 46/100\n",
            "24574/24574 [==============================] - 1s 45us/step - loss: 0.5617 - accuracy: 0.7506\n",
            "Epoch 47/100\n",
            "24574/24574 [==============================] - 1s 45us/step - loss: 0.5617 - accuracy: 0.7506\n",
            "Epoch 48/100\n",
            "24574/24574 [==============================] - 1s 44us/step - loss: 0.5617 - accuracy: 0.7506\n",
            "Epoch 49/100\n",
            "24574/24574 [==============================] - 1s 44us/step - loss: 0.5617 - accuracy: 0.7506\n",
            "Epoch 50/100\n",
            "24574/24574 [==============================] - 1s 45us/step - loss: 0.5617 - accuracy: 0.7506\n",
            "Epoch 51/100\n",
            "24574/24574 [==============================] - 1s 45us/step - loss: 0.5617 - accuracy: 0.7506\n",
            "Epoch 52/100\n",
            "24574/24574 [==============================] - 1s 45us/step - loss: 0.5617 - accuracy: 0.7506\n",
            "Epoch 53/100\n",
            "24574/24574 [==============================] - 1s 45us/step - loss: 0.5617 - accuracy: 0.7506\n",
            "Epoch 54/100\n",
            "24574/24574 [==============================] - 1s 45us/step - loss: 0.5617 - accuracy: 0.7506\n",
            "Epoch 55/100\n",
            "24574/24574 [==============================] - 1s 46us/step - loss: 0.5617 - accuracy: 0.7506\n",
            "Epoch 56/100\n",
            "24574/24574 [==============================] - 1s 45us/step - loss: 0.5617 - accuracy: 0.7506\n",
            "Epoch 57/100\n",
            "24574/24574 [==============================] - 1s 45us/step - loss: 0.5617 - accuracy: 0.7506\n",
            "Epoch 58/100\n",
            "24574/24574 [==============================] - 1s 45us/step - loss: 0.5617 - accuracy: 0.7506\n",
            "Epoch 59/100\n",
            "24574/24574 [==============================] - 1s 45us/step - loss: 0.5617 - accuracy: 0.7506\n",
            "Epoch 60/100\n",
            "24574/24574 [==============================] - 1s 45us/step - loss: 0.5617 - accuracy: 0.7506\n",
            "Epoch 61/100\n",
            "24574/24574 [==============================] - 1s 46us/step - loss: 0.5617 - accuracy: 0.7506\n",
            "Epoch 62/100\n",
            "24574/24574 [==============================] - 1s 46us/step - loss: 0.5617 - accuracy: 0.7506\n",
            "Epoch 63/100\n",
            "24574/24574 [==============================] - 1s 46us/step - loss: 0.5617 - accuracy: 0.7506\n",
            "Epoch 64/100\n",
            "24574/24574 [==============================] - 1s 45us/step - loss: 0.5617 - accuracy: 0.7506\n",
            "Epoch 65/100\n",
            "24574/24574 [==============================] - 1s 49us/step - loss: 0.5617 - accuracy: 0.7506\n",
            "Epoch 66/100\n",
            "24574/24574 [==============================] - 1s 45us/step - loss: 0.5617 - accuracy: 0.7506\n",
            "Epoch 67/100\n",
            "24574/24574 [==============================] - 1s 44us/step - loss: 0.5617 - accuracy: 0.7506\n",
            "Epoch 68/100\n",
            "24574/24574 [==============================] - 1s 45us/step - loss: 0.5617 - accuracy: 0.7506\n",
            "Epoch 69/100\n",
            "24574/24574 [==============================] - 1s 45us/step - loss: 0.5617 - accuracy: 0.7506\n",
            "Epoch 70/100\n",
            "24574/24574 [==============================] - 1s 45us/step - loss: 0.5617 - accuracy: 0.7506\n",
            "Epoch 71/100\n",
            "24574/24574 [==============================] - 1s 45us/step - loss: 0.5617 - accuracy: 0.7506\n",
            "Epoch 72/100\n",
            "24574/24574 [==============================] - 1s 45us/step - loss: 0.5617 - accuracy: 0.7506\n",
            "Epoch 73/100\n",
            "24574/24574 [==============================] - 1s 45us/step - loss: 0.5617 - accuracy: 0.7506\n",
            "Epoch 74/100\n",
            "24574/24574 [==============================] - 1s 44us/step - loss: 0.5617 - accuracy: 0.7506\n",
            "Epoch 75/100\n",
            "24574/24574 [==============================] - 1s 47us/step - loss: 0.5617 - accuracy: 0.7506\n",
            "Epoch 76/100\n",
            "24574/24574 [==============================] - 1s 47us/step - loss: 0.5617 - accuracy: 0.7506\n",
            "Epoch 77/100\n",
            "24574/24574 [==============================] - 1s 46us/step - loss: 0.5617 - accuracy: 0.7506\n",
            "Epoch 78/100\n",
            "24574/24574 [==============================] - 1s 44us/step - loss: 0.5617 - accuracy: 0.7506\n",
            "Epoch 79/100\n",
            "24574/24574 [==============================] - 1s 47us/step - loss: 0.5617 - accuracy: 0.7506\n",
            "Epoch 80/100\n",
            "24574/24574 [==============================] - 1s 46us/step - loss: 0.5617 - accuracy: 0.7506\n",
            "Epoch 81/100\n",
            "24574/24574 [==============================] - 1s 45us/step - loss: 0.5617 - accuracy: 0.7506\n",
            "Epoch 82/100\n",
            "24574/24574 [==============================] - 1s 45us/step - loss: 0.5617 - accuracy: 0.7506\n",
            "Epoch 83/100\n",
            "24574/24574 [==============================] - 1s 44us/step - loss: 0.5617 - accuracy: 0.7506\n",
            "Epoch 84/100\n",
            "24574/24574 [==============================] - 1s 45us/step - loss: 0.5617 - accuracy: 0.7506\n",
            "Epoch 85/100\n",
            "24574/24574 [==============================] - 1s 45us/step - loss: 0.5617 - accuracy: 0.7506\n",
            "Epoch 86/100\n",
            "24574/24574 [==============================] - 1s 50us/step - loss: 0.5617 - accuracy: 0.7506\n",
            "Epoch 87/100\n",
            "24574/24574 [==============================] - 1s 44us/step - loss: 0.5617 - accuracy: 0.7506\n",
            "Epoch 88/100\n",
            "24574/24574 [==============================] - 1s 45us/step - loss: 0.5617 - accuracy: 0.7506\n",
            "Epoch 89/100\n",
            "24574/24574 [==============================] - 1s 51us/step - loss: 0.5617 - accuracy: 0.7506\n",
            "Epoch 90/100\n",
            "24574/24574 [==============================] - 1s 45us/step - loss: 0.5617 - accuracy: 0.7506\n",
            "Epoch 91/100\n",
            "24574/24574 [==============================] - 1s 46us/step - loss: 0.5617 - accuracy: 0.7506\n",
            "Epoch 92/100\n",
            "24574/24574 [==============================] - 1s 46us/step - loss: 0.5617 - accuracy: 0.7506\n",
            "Epoch 93/100\n",
            "24574/24574 [==============================] - 1s 45us/step - loss: 0.5617 - accuracy: 0.7506\n",
            "Epoch 94/100\n",
            "24574/24574 [==============================] - 1s 45us/step - loss: 0.5617 - accuracy: 0.7506\n",
            "Epoch 95/100\n",
            "24574/24574 [==============================] - 1s 44us/step - loss: 0.5617 - accuracy: 0.7506\n",
            "Epoch 96/100\n",
            "24574/24574 [==============================] - 1s 45us/step - loss: 0.5617 - accuracy: 0.7506\n",
            "Epoch 97/100\n",
            "24574/24574 [==============================] - 1s 45us/step - loss: 0.5617 - accuracy: 0.7506\n",
            "Epoch 98/100\n",
            "24574/24574 [==============================] - 1s 45us/step - loss: 0.5617 - accuracy: 0.7506\n",
            "Epoch 99/100\n",
            "24574/24574 [==============================] - 1s 45us/step - loss: 0.5617 - accuracy: 0.7506\n",
            "Epoch 100/100\n",
            "24574/24574 [==============================] - 1s 45us/step - loss: 0.5617 - accuracy: 0.7506\n",
            "6144/6144 [==============================] - 0s 24us/step\n"
          ],
          "name": "stdout"
        },
        {
          "output_type": "execute_result",
          "data": {
            "text/plain": [
              "[0.5598198304263254, 0.7522786259651184]"
            ]
          },
          "metadata": {
            "tags": []
          },
          "execution_count": 20
        }
      ]
    }
  ]
}