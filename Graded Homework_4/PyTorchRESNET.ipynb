{
  "nbformat": 4,
  "nbformat_minor": 0,
  "metadata": {
    "colab": {
      "name": "PyTorchRESNET",
      "provenance": [],
      "collapsed_sections": [],
      "include_colab_link": true
    },
    "kernelspec": {
      "name": "python3",
      "display_name": "Python 3"
    },
    "accelerator": "GPU",
    "widgets": {
      "application/vnd.jupyter.widget-state+json": {
        "2e4c9c884f034645867f0e6da7ace880": {
          "model_module": "@jupyter-widgets/controls",
          "model_name": "HBoxModel",
          "state": {
            "_view_name": "HBoxView",
            "_dom_classes": [],
            "_model_name": "HBoxModel",
            "_view_module": "@jupyter-widgets/controls",
            "_model_module_version": "1.5.0",
            "_view_count": null,
            "_view_module_version": "1.5.0",
            "box_style": "",
            "layout": "IPY_MODEL_c327cd634c674f57b975e9a8e79d393f",
            "_model_module": "@jupyter-widgets/controls",
            "children": [
              "IPY_MODEL_1876a14e4584457088cce60f054708ee",
              "IPY_MODEL_6d562154e6ad4fb4b7484ec139190f5e"
            ]
          }
        },
        "c327cd634c674f57b975e9a8e79d393f": {
          "model_module": "@jupyter-widgets/base",
          "model_name": "LayoutModel",
          "state": {
            "_view_name": "LayoutView",
            "grid_template_rows": null,
            "right": null,
            "justify_content": null,
            "_view_module": "@jupyter-widgets/base",
            "overflow": null,
            "_model_module_version": "1.2.0",
            "_view_count": null,
            "flex_flow": null,
            "width": null,
            "min_width": null,
            "border": null,
            "align_items": null,
            "bottom": null,
            "_model_module": "@jupyter-widgets/base",
            "top": null,
            "grid_column": null,
            "overflow_y": null,
            "overflow_x": null,
            "grid_auto_flow": null,
            "grid_area": null,
            "grid_template_columns": null,
            "flex": null,
            "_model_name": "LayoutModel",
            "justify_items": null,
            "grid_row": null,
            "max_height": null,
            "align_content": null,
            "visibility": null,
            "align_self": null,
            "height": null,
            "min_height": null,
            "padding": null,
            "grid_auto_rows": null,
            "grid_gap": null,
            "max_width": null,
            "order": null,
            "_view_module_version": "1.2.0",
            "grid_template_areas": null,
            "object_position": null,
            "object_fit": null,
            "grid_auto_columns": null,
            "margin": null,
            "display": null,
            "left": null
          }
        },
        "1876a14e4584457088cce60f054708ee": {
          "model_module": "@jupyter-widgets/controls",
          "model_name": "FloatProgressModel",
          "state": {
            "_view_name": "ProgressView",
            "style": "IPY_MODEL_3c30f1c859aa4a2eb51fd574733a7f2b",
            "_dom_classes": [],
            "description": "",
            "_model_name": "FloatProgressModel",
            "bar_style": "info",
            "max": 1,
            "_view_module": "@jupyter-widgets/controls",
            "_model_module_version": "1.5.0",
            "value": 1,
            "_view_count": null,
            "_view_module_version": "1.5.0",
            "orientation": "horizontal",
            "min": 0,
            "description_tooltip": null,
            "_model_module": "@jupyter-widgets/controls",
            "layout": "IPY_MODEL_497bb4e94d56494795904796c104727e"
          }
        },
        "6d562154e6ad4fb4b7484ec139190f5e": {
          "model_module": "@jupyter-widgets/controls",
          "model_name": "HTMLModel",
          "state": {
            "_view_name": "HTMLView",
            "style": "IPY_MODEL_45a22fa0fcb447e7b139f43d31db8648",
            "_dom_classes": [],
            "description": "",
            "_model_name": "HTMLModel",
            "placeholder": "​",
            "_view_module": "@jupyter-widgets/controls",
            "_model_module_version": "1.5.0",
            "value": " 170500096/? [00:20&lt;00:00, 79719782.03it/s]",
            "_view_count": null,
            "_view_module_version": "1.5.0",
            "description_tooltip": null,
            "_model_module": "@jupyter-widgets/controls",
            "layout": "IPY_MODEL_e742b551403c41b9a3278e8e11efe009"
          }
        },
        "3c30f1c859aa4a2eb51fd574733a7f2b": {
          "model_module": "@jupyter-widgets/controls",
          "model_name": "ProgressStyleModel",
          "state": {
            "_view_name": "StyleView",
            "_model_name": "ProgressStyleModel",
            "description_width": "initial",
            "_view_module": "@jupyter-widgets/base",
            "_model_module_version": "1.5.0",
            "_view_count": null,
            "_view_module_version": "1.2.0",
            "bar_color": null,
            "_model_module": "@jupyter-widgets/controls"
          }
        },
        "497bb4e94d56494795904796c104727e": {
          "model_module": "@jupyter-widgets/base",
          "model_name": "LayoutModel",
          "state": {
            "_view_name": "LayoutView",
            "grid_template_rows": null,
            "right": null,
            "justify_content": null,
            "_view_module": "@jupyter-widgets/base",
            "overflow": null,
            "_model_module_version": "1.2.0",
            "_view_count": null,
            "flex_flow": null,
            "width": null,
            "min_width": null,
            "border": null,
            "align_items": null,
            "bottom": null,
            "_model_module": "@jupyter-widgets/base",
            "top": null,
            "grid_column": null,
            "overflow_y": null,
            "overflow_x": null,
            "grid_auto_flow": null,
            "grid_area": null,
            "grid_template_columns": null,
            "flex": null,
            "_model_name": "LayoutModel",
            "justify_items": null,
            "grid_row": null,
            "max_height": null,
            "align_content": null,
            "visibility": null,
            "align_self": null,
            "height": null,
            "min_height": null,
            "padding": null,
            "grid_auto_rows": null,
            "grid_gap": null,
            "max_width": null,
            "order": null,
            "_view_module_version": "1.2.0",
            "grid_template_areas": null,
            "object_position": null,
            "object_fit": null,
            "grid_auto_columns": null,
            "margin": null,
            "display": null,
            "left": null
          }
        },
        "45a22fa0fcb447e7b139f43d31db8648": {
          "model_module": "@jupyter-widgets/controls",
          "model_name": "DescriptionStyleModel",
          "state": {
            "_view_name": "StyleView",
            "_model_name": "DescriptionStyleModel",
            "description_width": "",
            "_view_module": "@jupyter-widgets/base",
            "_model_module_version": "1.5.0",
            "_view_count": null,
            "_view_module_version": "1.2.0",
            "_model_module": "@jupyter-widgets/controls"
          }
        },
        "e742b551403c41b9a3278e8e11efe009": {
          "model_module": "@jupyter-widgets/base",
          "model_name": "LayoutModel",
          "state": {
            "_view_name": "LayoutView",
            "grid_template_rows": null,
            "right": null,
            "justify_content": null,
            "_view_module": "@jupyter-widgets/base",
            "overflow": null,
            "_model_module_version": "1.2.0",
            "_view_count": null,
            "flex_flow": null,
            "width": null,
            "min_width": null,
            "border": null,
            "align_items": null,
            "bottom": null,
            "_model_module": "@jupyter-widgets/base",
            "top": null,
            "grid_column": null,
            "overflow_y": null,
            "overflow_x": null,
            "grid_auto_flow": null,
            "grid_area": null,
            "grid_template_columns": null,
            "flex": null,
            "_model_name": "LayoutModel",
            "justify_items": null,
            "grid_row": null,
            "max_height": null,
            "align_content": null,
            "visibility": null,
            "align_self": null,
            "height": null,
            "min_height": null,
            "padding": null,
            "grid_auto_rows": null,
            "grid_gap": null,
            "max_width": null,
            "order": null,
            "_view_module_version": "1.2.0",
            "grid_template_areas": null,
            "object_position": null,
            "object_fit": null,
            "grid_auto_columns": null,
            "margin": null,
            "display": null,
            "left": null
          }
        }
      }
    }
  },
  "cells": [
    {
      "cell_type": "markdown",
      "metadata": {
        "id": "view-in-github",
        "colab_type": "text"
      },
      "source": [
        "<a href=\"https://colab.research.google.com/github/monicasjsu/deep_learning/blob/master/PyTorchRESNET.ipynb\" target=\"_parent\"><img src=\"https://colab.research.google.com/assets/colab-badge.svg\" alt=\"Open In Colab\"/></a>"
      ]
    },
    {
      "cell_type": "code",
      "metadata": {
        "id": "qjQ5VOJimCj3",
        "colab_type": "code",
        "colab": {}
      },
      "source": [
        "import torch\n",
        "import torchvision\n",
        "import torchvision.transforms as transforms\n",
        "import torch.nn as nn\n",
        "import torch.nn.functional as F\n",
        "import torch.optim as optim\n",
        "import numpy as np\n",
        "import matplotlib.pyplot as plt\n",
        "import time\n",
        "from functools import partial\n",
        "from torchvision import datasets"
      ],
      "execution_count": 0,
      "outputs": []
    },
    {
      "cell_type": "code",
      "metadata": {
        "id": "eMTKuVaHhUDo",
        "colab_type": "code",
        "outputId": "ba94508f-f3af-43bc-d1a3-b84017df423d",
        "colab": {
          "base_uri": "https://localhost:8080/",
          "height": 51
        }
      },
      "source": [
        "class Conv2dAuto(nn.Conv2d):\n",
        "    def __init__(self, *args, **kwargs):\n",
        "        super().__init__(*args, **kwargs)\n",
        "        self.padding =  (self.kernel_size[0] // 2, self.kernel_size[1] // 2) \n",
        "        \n",
        "conv3x3 = partial(Conv2dAuto, kernel_size=3, bias=False)  \n",
        "conv = conv3x3(in_channels=32, out_channels=64)\n",
        "conv2 = nn.Conv2d(16, 32, 3, stride=2, padding=1)\n",
        "print(conv2)\n",
        "del conv\n",
        "Conv2dAuto(32, 64, kernel_size=(3, 3), stride=(1, 1), padding=(1, 1), bias=False)"
      ],
      "execution_count": 2,
      "outputs": [
        {
          "output_type": "stream",
          "text": [
            "Conv2d(16, 32, kernel_size=(3, 3), stride=(2, 2), padding=(1, 1))\n"
          ],
          "name": "stdout"
        },
        {
          "output_type": "execute_result",
          "data": {
            "text/plain": [
              "Conv2dAuto(32, 64, kernel_size=(3, 3), stride=(1, 1), padding=(1, 1), bias=False)"
            ]
          },
          "metadata": {
            "tags": []
          },
          "execution_count": 2
        }
      ]
    },
    {
      "cell_type": "markdown",
      "metadata": {
        "id": "JYmDgjkNNOKR",
        "colab_type": "text"
      },
      "source": [
        "Data fetch and normalization"
      ]
    },
    {
      "cell_type": "code",
      "metadata": {
        "id": "od1f_Y5NNOUi",
        "colab_type": "code",
        "outputId": "c1fcce46-cc29-44aa-92bb-e82f48523de2",
        "colab": {
          "base_uri": "https://localhost:8080/",
          "height": 100,
          "referenced_widgets": [
            "2e4c9c884f034645867f0e6da7ace880",
            "c327cd634c674f57b975e9a8e79d393f",
            "1876a14e4584457088cce60f054708ee",
            "6d562154e6ad4fb4b7484ec139190f5e",
            "3c30f1c859aa4a2eb51fd574733a7f2b",
            "497bb4e94d56494795904796c104727e",
            "45a22fa0fcb447e7b139f43d31db8648",
            "e742b551403c41b9a3278e8e11efe009"
          ]
        }
      },
      "source": [
        "import torch\n",
        "import torchvision\n",
        "import torchvision.transforms as transforms\n",
        "\n",
        "transform = transforms.Compose([transforms.ToTensor(), transforms.Normalize((0.5, 0.5, 0.5), (0.5, 0.5, 0.5))])\n",
        "\n",
        "trainset = torchvision.datasets.CIFAR10(root='./data', train=True, download=True, transform=transform)\n",
        "trainloader = torch.utils.data.DataLoader(trainset, batch_size=4, shuffle=True, num_workers=2)\n",
        "testset = torchvision.datasets.CIFAR10(root='./data', train=False, download=True, transform=transform)\n",
        "testloader = torch.utils.data.DataLoader(testset, batch_size=4, shuffle=False, num_workers=2)\n",
        "\n",
        "classes = ('plane', 'car', 'bird', 'cat','deer', 'dog', 'frog', 'horse', 'ship', 'truck')"
      ],
      "execution_count": 4,
      "outputs": [
        {
          "output_type": "stream",
          "text": [
            "Downloading https://www.cs.toronto.edu/~kriz/cifar-10-python.tar.gz to ./data/cifar-10-python.tar.gz\n"
          ],
          "name": "stdout"
        },
        {
          "output_type": "display_data",
          "data": {
            "application/vnd.jupyter.widget-view+json": {
              "model_id": "2e4c9c884f034645867f0e6da7ace880",
              "version_minor": 0,
              "version_major": 2
            },
            "text/plain": [
              "HBox(children=(FloatProgress(value=1.0, bar_style='info', max=1.0), HTML(value='')))"
            ]
          },
          "metadata": {
            "tags": []
          }
        },
        {
          "output_type": "stream",
          "text": [
            "Extracting ./data/cifar-10-python.tar.gz to ./data\n",
            "Files already downloaded and verified\n"
          ],
          "name": "stdout"
        }
      ]
    },
    {
      "cell_type": "markdown",
      "metadata": {
        "id": "hYeGzGCCNsbq",
        "colab_type": "text"
      },
      "source": [
        "Show some images"
      ]
    },
    {
      "cell_type": "code",
      "metadata": {
        "id": "QAKcXz6zNsjj",
        "colab_type": "code",
        "outputId": "217bbcdf-977f-40f1-a0f6-949381ed0948",
        "colab": {
          "base_uri": "https://localhost:8080/",
          "height": 155
        }
      },
      "source": [
        "import matplotlib.pyplot as plt\n",
        "import numpy as np\n",
        "\n",
        "# functions to show an image\n",
        "def imshow(img):\n",
        "    img = img / 2 + 0.5    \n",
        "    npimg = img.numpy()\n",
        "    plt.imshow(np.transpose(npimg, (1, 2, 0)))\n",
        "    plt.show()\n",
        "\n",
        "dataiter = iter(trainloader)\n",
        "images, labels = dataiter.next()\n",
        "imshow(torchvision.utils.make_grid(images))\n",
        "print(' '.join('%5s' % classes[labels[j]] for j in range(4)))"
      ],
      "execution_count": 5,
      "outputs": [
        {
          "output_type": "display_data",
          "data": {
            "image/png": "[encoded data removed]",
            "text/plain": [
              "<Figure size 432x288 with 1 Axes>"
            ]
          },
          "metadata": {
            "tags": [],
            "needs_background": "light"
          }
        },
        {
          "output_type": "stream",
          "text": [
            "horse   car   car   car\n"
          ],
          "name": "stdout"
        }
      ]
    },
    {
      "cell_type": "markdown",
      "metadata": {
        "id": "UmLZCtCpR-Sy",
        "colab_type": "text"
      },
      "source": [
        "Block in RESNET"
      ]
    },
    {
      "cell_type": "code",
      "metadata": {
        "id": "g4pmSxjLR-a6",
        "colab_type": "code",
        "colab": {}
      },
      "source": [
        "class BasicBlock(nn.Module):\n",
        "    expansion = 1\n",
        "\n",
        "    def __init__(self, in_planes, planes, stride=1):\n",
        "        super(BasicBlock, self).__init__()\n",
        "        self.conv1 = nn.Conv2d(in_planes, planes, kernel_size=3, stride=stride, padding=1, bias=False)\n",
        "        self.bn1 = nn.BatchNorm2d(planes)\n",
        "        self.conv2 = nn.Conv2d(planes, planes, kernel_size=3, stride=1, padding=1, bias=False)\n",
        "        self.bn2 = nn.BatchNorm2d(planes)\n",
        "\n",
        "        self.shortcut = nn.Sequential()\n",
        "        if stride != 1 or in_planes != self.expansion*planes:\n",
        "            self.shortcut = nn.Sequential(\n",
        "                nn.Conv2d(in_planes, self.expansion*planes, kernel_size=1, stride=stride, bias=False),\n",
        "                nn.BatchNorm2d(self.expansion*planes)\n",
        "            )\n",
        "\n",
        "    def forward(self, x):\n",
        "        out = F.relu(self.bn1(self.conv1(x)))\n",
        "        out = self.bn2(self.conv2(out))\n",
        "        out += self.shortcut(x)\n",
        "        out = F.relu(out)\n",
        "        return out"
      ],
      "execution_count": 0,
      "outputs": []
    },
    {
      "cell_type": "markdown",
      "metadata": {
        "id": "gZP6IUfNSNN4",
        "colab_type": "text"
      },
      "source": [
        "RESNET Logic"
      ]
    },
    {
      "cell_type": "code",
      "metadata": {
        "id": "m4BWX5eTSNT-",
        "colab_type": "code",
        "colab": {}
      },
      "source": [
        "class ResNet(nn.Module):\n",
        "    def __init__(self, block, num_blocks, num_classes=10):\n",
        "        super(ResNet, self).__init__()\n",
        "        self.in_planes = 128\n",
        "\n",
        "        self.conv1 = nn.Conv2d(3, 128, kernel_size=3, stride=1, padding=1, bias=False)\n",
        "        self.bn1 = nn.BatchNorm2d(128)\n",
        "        self.layer1 = self._make_layer(block,  128, num_blocks[0], stride=1)\n",
        "        self.layer2 = self._make_layer(block, 256, num_blocks[1], stride=2)\n",
        "        self.layer3 = self._make_layer(block, 512, num_blocks[2], stride=2)\n",
        "        self.linear1 = nn.Linear(2048, num_classes) #512*exp*block.expansion\n",
        "        self.linear2 = nn.Linear(2048, num_classes)\n",
        "        self.emb = nn.Embedding(num_classes, num_classes)\n",
        "        self.emb.weight = nn.Parameter(torch.eye(num_classes))\n",
        "    def _make_layer(self, block, planes, num_blocks, stride):\n",
        "        strides = [stride] + [1]*(num_blocks-1)\n",
        "        layers = []\n",
        "        for stride in strides:\n",
        "            layers.append(block(self.in_planes, planes, stride))\n",
        "            self.in_planes = planes * block.expansion\n",
        "        return nn.Sequential(*layers)\n",
        "\n",
        "    def forward(self, x):\n",
        "        out = F.relu(self.bn1(self.conv1(x)))\n",
        "        out = self.layer1(out)\n",
        "        out = self.layer2(out)\n",
        "        out = self.layer3(out)\n",
        "        out = F.avg_pool2d(out, 4)\n",
        "        out = out.view(out.size(0), -1)\n",
        "        #print(out.size())\n",
        "        #input()\n",
        "        out1 = self.linear1(out)\n",
        "        out2 = self.linear2(out.detach())\n",
        "        # tar = self.emb(targets).cuda()#, torch.index_select(self.emb.weight, 1, targets).cuda())\n",
        "        return out2\n",
        "        # return out1, out2, self.emb.weight\n",
        "\n",
        "\n",
        "def ResNet8():\n",
        "    return ResNet(BasicBlock, [1,1,1]) #2048"
      ],
      "execution_count": 0,
      "outputs": []
    },
    {
      "cell_type": "markdown",
      "metadata": {
        "id": "j1ZwuO20STCn",
        "colab_type": "text"
      },
      "source": [
        "Loss and Optimizer fucntions"
      ]
    },
    {
      "cell_type": "code",
      "metadata": {
        "id": "1jWfBii5STKj",
        "colab_type": "code",
        "colab": {}
      },
      "source": [
        "import torch.optim as optim\n",
        "\n",
        "model = ResNet8()\n",
        "criterion = nn.CrossEntropyLoss()\n",
        "optimizer = optim.Adam(model.parameters(), lr=0.0001, weight_decay=0.01)"
      ],
      "execution_count": 0,
      "outputs": []
    },
    {
      "cell_type": "code",
      "metadata": {
        "id": "U92TAewKTYKb",
        "colab_type": "code",
        "outputId": "e9e6c3b2-f5fa-40e6-ed3e-419869e99872",
        "colab": {
          "base_uri": "https://localhost:8080/",
          "height": 646
        }
      },
      "source": [
        "import torch.cuda\n",
        "from torchsummary import summary\n",
        "model = torch.nn.DataParallel(model, device_ids=range(torch.cuda.device_count()))\n",
        "torch.backends.cudnn.benchmark = True\n",
        "summary(model.cuda(), (3, 32, 32))\n"
      ],
      "execution_count": 9,
      "outputs": [
        {
          "output_type": "stream",
          "text": [
            "----------------------------------------------------------------\n",
            "        Layer (type)               Output Shape         Param #\n",
            "================================================================\n",
            "            Conv2d-1          [-1, 128, 32, 32]           3,456\n",
            "       BatchNorm2d-2          [-1, 128, 32, 32]             256\n",
            "            Conv2d-3          [-1, 128, 32, 32]         147,456\n",
            "       BatchNorm2d-4          [-1, 128, 32, 32]             256\n",
            "            Conv2d-5          [-1, 128, 32, 32]         147,456\n",
            "       BatchNorm2d-6          [-1, 128, 32, 32]             256\n",
            "        BasicBlock-7          [-1, 128, 32, 32]               0\n",
            "            Conv2d-8          [-1, 256, 16, 16]         294,912\n",
            "       BatchNorm2d-9          [-1, 256, 16, 16]             512\n",
            "           Conv2d-10          [-1, 256, 16, 16]         589,824\n",
            "      BatchNorm2d-11          [-1, 256, 16, 16]             512\n",
            "           Conv2d-12          [-1, 256, 16, 16]          32,768\n",
            "      BatchNorm2d-13          [-1, 256, 16, 16]             512\n",
            "       BasicBlock-14          [-1, 256, 16, 16]               0\n",
            "           Conv2d-15            [-1, 512, 8, 8]       1,179,648\n",
            "      BatchNorm2d-16            [-1, 512, 8, 8]           1,024\n",
            "           Conv2d-17            [-1, 512, 8, 8]       2,359,296\n",
            "      BatchNorm2d-18            [-1, 512, 8, 8]           1,024\n",
            "           Conv2d-19            [-1, 512, 8, 8]         131,072\n",
            "      BatchNorm2d-20            [-1, 512, 8, 8]           1,024\n",
            "       BasicBlock-21            [-1, 512, 8, 8]               0\n",
            "           Linear-22                   [-1, 10]          20,490\n",
            "           Linear-23                   [-1, 10]          20,490\n",
            "           ResNet-24                   [-1, 10]               0\n",
            "================================================================\n",
            "Total params: 4,932,244\n",
            "Trainable params: 4,932,244\n",
            "Non-trainable params: 0\n",
            "----------------------------------------------------------------\n",
            "Input size (MB): 0.01\n",
            "Forward/backward pass size (MB): 12.25\n",
            "Params size (MB): 18.82\n",
            "Estimated Total Size (MB): 31.08\n",
            "----------------------------------------------------------------\n"
          ],
          "name": "stdout"
        }
      ]
    },
    {
      "cell_type": "markdown",
      "metadata": {
        "id": "6OB5VA-WTtB4",
        "colab_type": "text"
      },
      "source": [
        "Training the model"
      ]
    },
    {
      "cell_type": "code",
      "metadata": {
        "id": "MSJr0Vq_TtLF",
        "colab_type": "code",
        "outputId": "0bbdb3df-c793-4c99-cacc-216859226ce0",
        "colab": {
          "base_uri": "https://localhost:8080/",
          "height": 289
        }
      },
      "source": [
        "from torch.autograd import Variable\n",
        "\n",
        "def calculate_accuracy(loader):\n",
        "  total = 0\n",
        "  correct = 0\n",
        "  \n",
        "  with torch.no_grad():\n",
        "    for data in loader:\n",
        "        images, labels = data\n",
        "        outputs = model(images)\n",
        "        _, predicted = torch.max(outputs.data, 1)\n",
        "        total += labels.size(0)\n",
        "        correct += (predicted == labels).sum().item()\n",
        "  return 100 * correct / total \n",
        "\n",
        "is_gpu = True\n",
        "for epoch in range(15):\n",
        "    running_loss = 0.0\n",
        "    total_train = 0.0\n",
        "    correct_train = 0.0\n",
        "    for i, data in enumerate(trainloader, 0):\n",
        "        inputs, labels = data\n",
        "\n",
        "        if is_gpu:\n",
        "            inputs = inputs.cuda()\n",
        "            labels = labels.cuda()\n",
        "\n",
        "        inputs, labels = Variable(inputs), Variable(labels)\n",
        "\n",
        "        optimizer.zero_grad()\n",
        "        outputs = model(inputs)\n",
        "        loss = criterion(outputs, labels)\n",
        "        loss.backward()\n",
        "        optimizer.step()\n",
        "        running_loss += loss.item()\n",
        "        _, predicted = torch.max(outputs.data, 1)\n",
        "        total_train +=  labels.nelement()\n",
        "        correct_train += predicted.eq(labels.data).sum().item()\n",
        "                                  \n",
        "    train_accuracy = 100 * correct_train / total_train    \n",
        "    print('Epoch {}, train Loss: {:.3f}, \"accuracy: {:.3f}%'.format(epoch, loss.item(), train_accuracy))\n",
        "\n",
        "print('==> Finished Training ...')\n",
        "\n",
        "PATH = './restnet.pth'\n",
        "torch.save(model.state_dict(), PATH)"
      ],
      "execution_count": 10,
      "outputs": [
        {
          "output_type": "stream",
          "text": [
            "Epoch 0, train Loss: 2.340, \"accuracy: 34.834%\n",
            "Epoch 1, train Loss: 1.509, \"accuracy: 42.410%\n",
            "Epoch 2, train Loss: 1.359, \"accuracy: 45.044%\n",
            "Epoch 3, train Loss: 1.462, \"accuracy: 46.272%\n",
            "Epoch 4, train Loss: 1.479, \"accuracy: 47.182%\n",
            "Epoch 5, train Loss: 1.062, \"accuracy: 47.890%\n",
            "Epoch 6, train Loss: 1.875, \"accuracy: 48.308%\n",
            "Epoch 7, train Loss: 0.997, \"accuracy: 48.906%\n",
            "Epoch 8, train Loss: 1.105, \"accuracy: 49.010%\n",
            "Epoch 9, train Loss: 1.002, \"accuracy: 49.108%\n",
            "Epoch 10, train Loss: 1.185, \"accuracy: 49.354%\n",
            "Epoch 11, train Loss: 0.772, \"accuracy: 49.754%\n",
            "Epoch 12, train Loss: 2.272, \"accuracy: 49.812%\n",
            "Epoch 13, train Loss: 0.701, \"accuracy: 49.628%\n",
            "Epoch 14, train Loss: 1.135, \"accuracy: 49.580%\n",
            "==> Finished Training ...\n"
          ],
          "name": "stdout"
        }
      ]
    },
    {
      "cell_type": "markdown",
      "metadata": {
        "id": "w75LUreupFYB",
        "colab_type": "text"
      },
      "source": [
        "Testing the model\n"
      ]
    },
    {
      "cell_type": "code",
      "metadata": {
        "id": "M3fqbJWEpFeX",
        "colab_type": "code",
        "outputId": "c71502c5-c8f6-44cb-e576-33540b426cce",
        "colab": {
          "base_uri": "https://localhost:8080/",
          "height": 51
        }
      },
      "source": [
        "device = torch.device(\"cuda:0\" if torch.cuda.is_available() else \"cpu\")\n",
        "print(device)\n",
        "\n",
        "correct = 0\n",
        "total = 0\n",
        "with torch.no_grad():\n",
        "    for data in testloader:\n",
        "        images, labels = data\n",
        "        inputs = images.cuda()\n",
        "        labels = labels.cuda()\n",
        "        outputs = model(images)\n",
        "        _, predicted = torch.max(outputs.data, 1)\n",
        "        total += labels.size(0)\n",
        "        correct += (predicted == labels).sum().item()\n",
        "\n",
        "print('Accuracy: {:.3f}%'.format( 100 * correct / total))\n"
      ],
      "execution_count": 11,
      "outputs": [
        {
          "output_type": "stream",
          "text": [
            "cuda:0\n",
            "Accuracy: 47.640%\n"
          ],
          "name": "stdout"
        }
      ]
    }
  ]
}