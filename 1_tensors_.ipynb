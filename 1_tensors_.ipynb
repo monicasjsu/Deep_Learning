{
  "nbformat": 4,
  "nbformat_minor": 0,
  "metadata": {
    "colab": {
      "name": "1_tensors..ipynb",
      "provenance": [],
      "collapsed_sections": [],
      "mount_file_id": "1CocDftWizdPNIn3b4dy9W09QAwyLpIJL",
      "authorship_tag": "ABX9TyNA9+oOUb7hzs8gW/a8nWnX",
      "include_colab_link": true
    },
    "kernelspec": {
      "name": "python3",
      "display_name": "Python 3"
    },
    "accelerator": "GPU"
  },
  "cells": [
    {
      "cell_type": "markdown",
      "metadata": {
        "id": "view-in-github",
        "colab_type": "text"
      },
      "source": [
        "<a href=\"https://colab.research.google.com/github/monicasjsu/deep_learning/blob/master/1_tensors_.ipynb\" target=\"_parent\"><img src=\"https://colab.research.google.com/assets/colab-badge.svg\" alt=\"Open In Colab\"/></a>"
      ]
    },
    {
      "cell_type": "markdown",
      "metadata": {
        "id": "5ubInSpJoiL9",
        "colab_type": "text"
      },
      "source": [
        "**Tensor fundamentals**"
      ]
    },
    {
      "cell_type": "code",
      "metadata": {
        "id": "sw3SdzE1a7a1",
        "colab_type": "code",
        "colab": {}
      },
      "source": [
        "a = [1.0, 2.0, 1.0]"
      ],
      "execution_count": 0,
      "outputs": []
    },
    {
      "cell_type": "markdown",
      "metadata": {
        "id": "7ptmeLaLooJJ",
        "colab_type": "text"
      },
      "source": [
        "Accessing the first element of the list by using the corresponding 0-based index"
      ]
    },
    {
      "cell_type": "code",
      "metadata": {
        "id": "thAhDP7_bFSa",
        "colab_type": "code",
        "colab": {
          "base_uri": "https://localhost:8080/",
          "height": 34
        },
        "outputId": "c8328d5e-4d7e-419c-82ac-2c9d1becd308"
      },
      "source": [
        "a[0]"
      ],
      "execution_count": 3,
      "outputs": [
        {
          "output_type": "execute_result",
          "data": {
            "text/plain": [
              "1.0"
            ]
          },
          "metadata": {
            "tags": []
          },
          "execution_count": 3
        }
      ]
    },
    {
      "cell_type": "code",
      "metadata": {
        "id": "_WIZzPkCbIBZ",
        "colab_type": "code",
        "colab": {
          "base_uri": "https://localhost:8080/",
          "height": 34
        },
        "outputId": "d97d2aa8-72ec-42e8-9111-1ac12d0b8b9b"
      },
      "source": [
        "a[2] = 3.0\n",
        "a"
      ],
      "execution_count": 4,
      "outputs": [
        {
          "output_type": "execute_result",
          "data": {
            "text/plain": [
              "[1.0, 2.0, 3.0]"
            ]
          },
          "metadata": {
            "tags": []
          },
          "execution_count": 4
        }
      ]
    },
    {
      "cell_type": "markdown",
      "metadata": {
        "id": "-hb0lgyYowFo",
        "colab_type": "text"
      },
      "source": [
        "constructing first PyTorch tensor to see what it looks like"
      ]
    },
    {
      "cell_type": "code",
      "metadata": {
        "id": "WfbBPOyybO3V",
        "colab_type": "code",
        "colab": {
          "base_uri": "https://localhost:8080/",
          "height": 34
        },
        "outputId": "daaff3dc-b50b-466e-e0a9-c4d5fca6fb9c"
      },
      "source": [
        "import torch\n",
        "a = torch.ones(3)\n",
        "a"
      ],
      "execution_count": 5,
      "outputs": [
        {
          "output_type": "execute_result",
          "data": {
            "text/plain": [
              "tensor([1., 1., 1.])"
            ]
          },
          "metadata": {
            "tags": []
          },
          "execution_count": 5
        }
      ]
    },
    {
      "cell_type": "code",
      "metadata": {
        "id": "VTga5pZPbSJo",
        "colab_type": "code",
        "colab": {
          "base_uri": "https://localhost:8080/",
          "height": 34
        },
        "outputId": "7eee7094-3a34-4b69-e4e5-cb717570da66"
      },
      "source": [
        "a[1]"
      ],
      "execution_count": 6,
      "outputs": [
        {
          "output_type": "execute_result",
          "data": {
            "text/plain": [
              "tensor(1.)"
            ]
          },
          "metadata": {
            "tags": []
          },
          "execution_count": 6
        }
      ]
    },
    {
      "cell_type": "code",
      "metadata": {
        "id": "5YbVrnWDbU48",
        "colab_type": "code",
        "colab": {
          "base_uri": "https://localhost:8080/",
          "height": 34
        },
        "outputId": "6fd08312-9c53-4929-880e-5283448f3e92"
      },
      "source": [
        "float(a[1])"
      ],
      "execution_count": 7,
      "outputs": [
        {
          "output_type": "execute_result",
          "data": {
            "text/plain": [
              "1.0"
            ]
          },
          "metadata": {
            "tags": []
          },
          "execution_count": 7
        }
      ]
    },
    {
      "cell_type": "code",
      "metadata": {
        "id": "2gl4jSVPbXCE",
        "colab_type": "code",
        "colab": {
          "base_uri": "https://localhost:8080/",
          "height": 34
        },
        "outputId": "7caa8ace-8861-464f-8908-441f3d483395"
      },
      "source": [
        "a[2] = 2.0\n",
        "a"
      ],
      "execution_count": 8,
      "outputs": [
        {
          "output_type": "execute_result",
          "data": {
            "text/plain": [
              "tensor([1., 1., 2.])"
            ]
          },
          "metadata": {
            "tags": []
          },
          "execution_count": 8
        }
      ]
    },
    {
      "cell_type": "code",
      "metadata": {
        "id": "XBsCKIrXbaA0",
        "colab_type": "code",
        "colab": {}
      },
      "source": [
        "points = torch.zeros(6)\n",
        "points[0] = 1.0\n",
        "points[1] = 4.0\n",
        "points[2] = 2.0\n",
        "points[3] = 1.0\n",
        "points[4] = 3.0\n",
        "points[5] = 5.0"
      ],
      "execution_count": 0,
      "outputs": []
    },
    {
      "cell_type": "markdown",
      "metadata": {
        "id": "Hu2dVlhrb1c7",
        "colab_type": "text"
      },
      "source": [
        "We can also pass a Python list to the constructor to the same effect"
      ]
    },
    {
      "cell_type": "code",
      "metadata": {
        "id": "scV6lPHzbiX8",
        "colab_type": "code",
        "colab": {
          "base_uri": "https://localhost:8080/",
          "height": 34
        },
        "outputId": "1084619a-3c6b-4739-87ce-255232bea3ba"
      },
      "source": [
        "points = torch.tensor([1.0, 4.0, 2.0, 1.0, 3.0, 5.0])\n",
        "points"
      ],
      "execution_count": 10,
      "outputs": [
        {
          "output_type": "execute_result",
          "data": {
            "text/plain": [
              "tensor([1., 4., 2., 1., 3., 5.])"
            ]
          },
          "metadata": {
            "tags": []
          },
          "execution_count": 10
        }
      ]
    },
    {
      "cell_type": "markdown",
      "metadata": {
        "id": "GjN5RJu1b9wB",
        "colab_type": "text"
      },
      "source": [
        "We can get the coordinates of the first points using float"
      ]
    },
    {
      "cell_type": "code",
      "metadata": {
        "id": "mhkkA5t4bllt",
        "colab_type": "code",
        "colab": {
          "base_uri": "https://localhost:8080/",
          "height": 34
        },
        "outputId": "45aaca5d-e30c-42ae-f8e7-6ec1288fedc9"
      },
      "source": [
        "float(points[0]), float(points[1])"
      ],
      "execution_count": 11,
      "outputs": [
        {
          "output_type": "execute_result",
          "data": {
            "text/plain": [
              "(1.0, 4.0)"
            ]
          },
          "metadata": {
            "tags": []
          },
          "execution_count": 11
        }
      ]
    },
    {
      "cell_type": "markdown",
      "metadata": {
        "id": "1SpnAmWZcJFG",
        "colab_type": "text"
      },
      "source": [
        "We can use a 2D tensor for the same process mentioned above\n"
      ]
    },
    {
      "cell_type": "code",
      "metadata": {
        "id": "bPz09173cOqQ",
        "colab_type": "code",
        "colab": {
          "base_uri": "https://localhost:8080/",
          "height": 68
        },
        "outputId": "03008b47-53c6-4edc-cc71-edde965893f3"
      },
      "source": [
        "points = torch.tensor([[1.0, 4.0], [2.0, 1.0], [3.0, 5.0]])\n",
        "points"
      ],
      "execution_count": 12,
      "outputs": [
        {
          "output_type": "execute_result",
          "data": {
            "text/plain": [
              "tensor([[1., 4.],\n",
              "        [2., 1.],\n",
              "        [3., 5.]])"
            ]
          },
          "metadata": {
            "tags": []
          },
          "execution_count": 12
        }
      ]
    },
    {
      "cell_type": "markdown",
      "metadata": {
        "id": "ngzcCEpZo3xu",
        "colab_type": "text"
      },
      "source": [
        "Checking the shape of the tensor"
      ]
    },
    {
      "cell_type": "code",
      "metadata": {
        "id": "U1AVWDZYcYOX",
        "colab_type": "code",
        "colab": {
          "base_uri": "https://localhost:8080/",
          "height": 34
        },
        "outputId": "caa21c44-c5e4-4bc6-ffa5-69c578cdc992"
      },
      "source": [
        "points.shape"
      ],
      "execution_count": 13,
      "outputs": [
        {
          "output_type": "execute_result",
          "data": {
            "text/plain": [
              "torch.Size([3, 2])"
            ]
          },
          "metadata": {
            "tags": []
          },
          "execution_count": 13
        }
      ]
    },
    {
      "cell_type": "markdown",
      "metadata": {
        "id": "fcu8-AhJcmuo",
        "colab_type": "text"
      },
      "source": [
        "Initializing the tensor with zeros to mention the size of the tuple"
      ]
    },
    {
      "cell_type": "code",
      "metadata": {
        "id": "E79JTstQceXv",
        "colab_type": "code",
        "colab": {
          "base_uri": "https://localhost:8080/",
          "height": 68
        },
        "outputId": "2384d227-cc0f-4ba7-a51d-a1c22b754d4b"
      },
      "source": [
        "points = torch.zeros(3, 2)\n",
        "points"
      ],
      "execution_count": 14,
      "outputs": [
        {
          "output_type": "execute_result",
          "data": {
            "text/plain": [
              "tensor([[0., 0.],\n",
              "        [0., 0.],\n",
              "        [0., 0.]])"
            ]
          },
          "metadata": {
            "tags": []
          },
          "execution_count": 14
        }
      ]
    },
    {
      "cell_type": "code",
      "metadata": {
        "id": "KNeuFJVmcs0O",
        "colab_type": "code",
        "colab": {
          "base_uri": "https://localhost:8080/",
          "height": 68
        },
        "outputId": "cdae109a-424a-4e71-b2b2-c2dfeda6ea18"
      },
      "source": [
        "points = torch.FloatTensor([[1.0, 4.0], [2.0, 1.0], [3.0, 5.0]])\n",
        "points"
      ],
      "execution_count": 15,
      "outputs": [
        {
          "output_type": "execute_result",
          "data": {
            "text/plain": [
              "tensor([[1., 4.],\n",
              "        [2., 1.],\n",
              "        [3., 5.]])"
            ]
          },
          "metadata": {
            "tags": []
          },
          "execution_count": 15
        }
      ]
    },
    {
      "cell_type": "markdown",
      "metadata": {
        "id": "0NGr7gQzc3V0",
        "colab_type": "text"
      },
      "source": [
        " Accessing an individual element in the tensor by using two indices which will returns the y coordinate of the 0th point in your data set"
      ]
    },
    {
      "cell_type": "code",
      "metadata": {
        "id": "FTRHbysGc2jZ",
        "colab_type": "code",
        "colab": {
          "base_uri": "https://localhost:8080/",
          "height": 34
        },
        "outputId": "5db720a8-43cc-4dc0-f95f-a6319a541d79"
      },
      "source": [
        "points[0, 1]"
      ],
      "execution_count": 16,
      "outputs": [
        {
          "output_type": "execute_result",
          "data": {
            "text/plain": [
              "tensor(4.)"
            ]
          },
          "metadata": {
            "tags": []
          },
          "execution_count": 16
        }
      ]
    },
    {
      "cell_type": "markdown",
      "metadata": {
        "id": "Jfp-Nl9FdXl2",
        "colab_type": "text"
      },
      "source": [
        "Trying to acces the first element in the tensor as we did before to get the 2D coordinates of the first point"
      ]
    },
    {
      "cell_type": "code",
      "metadata": {
        "id": "LdEW_qnDdItZ",
        "colab_type": "code",
        "colab": {
          "base_uri": "https://localhost:8080/",
          "height": 34
        },
        "outputId": "36dbd50b-ffdd-4f08-cb78-872e07c5a3f1"
      },
      "source": [
        "points[0]"
      ],
      "execution_count": 17,
      "outputs": [
        {
          "output_type": "execute_result",
          "data": {
            "text/plain": [
              "tensor([1., 4.])"
            ]
          },
          "metadata": {
            "tags": []
          },
          "execution_count": 17
        }
      ]
    },
    {
      "cell_type": "markdown",
      "metadata": {
        "id": "RQmTLgQ2pAlt",
        "colab_type": "text"
      },
      "source": [
        "**Tensors and storages**"
      ]
    },
    {
      "cell_type": "markdown",
      "metadata": {
        "id": "KE6-D8qRd1LE",
        "colab_type": "text"
      },
      "source": [
        "Indexing into storage with 2D points. Accessing the storage for a given tensor"
      ]
    },
    {
      "cell_type": "code",
      "metadata": {
        "id": "2-R6R45WdjV1",
        "colab_type": "code",
        "colab": {
          "base_uri": "https://localhost:8080/",
          "height": 136
        },
        "outputId": "eea4bd99-442d-4d6d-8c87-afa3b4192548"
      },
      "source": [
        "points = torch.tensor([[1.0, 4.0], [2.0, 1.0], [3.0, 5.0]])\n",
        "points.storage()"
      ],
      "execution_count": 18,
      "outputs": [
        {
          "output_type": "execute_result",
          "data": {
            "text/plain": [
              " 1.0\n",
              " 4.0\n",
              " 2.0\n",
              " 1.0\n",
              " 3.0\n",
              " 5.0\n",
              "[torch.FloatStorage of size 6]"
            ]
          },
          "metadata": {
            "tags": []
          },
          "execution_count": 18
        }
      ]
    },
    {
      "cell_type": "markdown",
      "metadata": {
        "id": "wcUaBJNDeNTB",
        "colab_type": "text"
      },
      "source": [
        "Indexing into the storage manually"
      ]
    },
    {
      "cell_type": "code",
      "metadata": {
        "id": "LXIhbKcxeGDa",
        "colab_type": "code",
        "colab": {
          "base_uri": "https://localhost:8080/",
          "height": 34
        },
        "outputId": "6fb96fe5-6511-437b-90a7-f2c692b35e96"
      },
      "source": [
        "points_storage = points.storage()\n",
        "points_storage[0]"
      ],
      "execution_count": 19,
      "outputs": [
        {
          "output_type": "execute_result",
          "data": {
            "text/plain": [
              "1.0"
            ]
          },
          "metadata": {
            "tags": []
          },
          "execution_count": 19
        }
      ]
    },
    {
      "cell_type": "code",
      "metadata": {
        "id": "g79utqnjeQjj",
        "colab_type": "code",
        "colab": {
          "base_uri": "https://localhost:8080/",
          "height": 34
        },
        "outputId": "68a49fcd-826e-4a14-c112-396f6ac129bb"
      },
      "source": [
        "points.storage()[1]"
      ],
      "execution_count": 20,
      "outputs": [
        {
          "output_type": "execute_result",
          "data": {
            "text/plain": [
              "4.0"
            ]
          },
          "metadata": {
            "tags": []
          },
          "execution_count": 20
        }
      ]
    },
    {
      "cell_type": "markdown",
      "metadata": {
        "id": "5zjMmZ33egf_",
        "colab_type": "text"
      },
      "source": [
        "Changing the value of a storage which changes the content of its referring tensor"
      ]
    },
    {
      "cell_type": "code",
      "metadata": {
        "id": "lBTfvOuseaTF",
        "colab_type": "code",
        "colab": {
          "base_uri": "https://localhost:8080/",
          "height": 68
        },
        "outputId": "4760df66-1027-4d37-b01d-1bd933016626"
      },
      "source": [
        "points = torch.tensor([[1.0, 4.0], [2.0, 1.0], [3.0, 5.0]])\n",
        "points_storage = points.storage()\n",
        "points_storage[0] = 2.0\n",
        "points"
      ],
      "execution_count": 21,
      "outputs": [
        {
          "output_type": "execute_result",
          "data": {
            "text/plain": [
              "tensor([[2., 4.],\n",
              "        [2., 1.],\n",
              "        [3., 5.]])"
            ]
          },
          "metadata": {
            "tags": []
          },
          "execution_count": 21
        }
      ]
    },
    {
      "cell_type": "markdown",
      "metadata": {
        "id": "IHgQ_9kIpJMR",
        "colab_type": "text"
      },
      "source": [
        "**Size, storage offset, and strides**"
      ]
    },
    {
      "cell_type": "markdown",
      "metadata": {
        "id": "XEpS9Q1bet3_",
        "colab_type": "text"
      },
      "source": [
        " Getting the second point in the tensor by providing the corresponding index"
      ]
    },
    {
      "cell_type": "code",
      "metadata": {
        "id": "6SPXWbhpeppd",
        "colab_type": "code",
        "colab": {
          "base_uri": "https://localhost:8080/",
          "height": 34
        },
        "outputId": "47b2997c-bb14-4791-926c-814c946a24e3"
      },
      "source": [
        "points = torch.tensor([[1.0, 4.0], [2.0, 1.0], [3.0, 5.0]])\n",
        "second_point = points[1]\n",
        "second_point.storage_offset()"
      ],
      "execution_count": 22,
      "outputs": [
        {
          "output_type": "execute_result",
          "data": {
            "text/plain": [
              "2"
            ]
          },
          "metadata": {
            "tags": []
          },
          "execution_count": 22
        }
      ]
    },
    {
      "cell_type": "code",
      "metadata": {
        "id": "foLow9_hezfX",
        "colab_type": "code",
        "colab": {
          "base_uri": "https://localhost:8080/",
          "height": 34
        },
        "outputId": "a3443ccb-1a18-4436-ed26-cd36924aa15c"
      },
      "source": [
        "second_point.size()"
      ],
      "execution_count": 23,
      "outputs": [
        {
          "output_type": "execute_result",
          "data": {
            "text/plain": [
              "torch.Size([2])"
            ]
          },
          "metadata": {
            "tags": []
          },
          "execution_count": 23
        }
      ]
    },
    {
      "cell_type": "code",
      "metadata": {
        "id": "HERyxMXFe5TA",
        "colab_type": "code",
        "colab": {
          "base_uri": "https://localhost:8080/",
          "height": 34
        },
        "outputId": "69ed29b1-109f-458c-e795-84d2cbd6ae95"
      },
      "source": [
        "second_point.shape"
      ],
      "execution_count": 24,
      "outputs": [
        {
          "output_type": "execute_result",
          "data": {
            "text/plain": [
              "torch.Size([2])"
            ]
          },
          "metadata": {
            "tags": []
          },
          "execution_count": 24
        }
      ]
    },
    {
      "cell_type": "markdown",
      "metadata": {
        "id": "uborJWjsfL2z",
        "colab_type": "text"
      },
      "source": [
        "Using stride to skip the number of elements in the storage by increasing the index by 1 in each dimension"
      ]
    },
    {
      "cell_type": "code",
      "metadata": {
        "id": "V-0PVB9ofBxX",
        "colab_type": "code",
        "colab": {
          "base_uri": "https://localhost:8080/",
          "height": 34
        },
        "outputId": "ee9f9bab-a20b-43eb-a8ac-1c952df73bf6"
      },
      "source": [
        "points.stride()"
      ],
      "execution_count": 25,
      "outputs": [
        {
          "output_type": "execute_result",
          "data": {
            "text/plain": [
              "(2, 1)"
            ]
          },
          "metadata": {
            "tags": []
          },
          "execution_count": 25
        }
      ]
    },
    {
      "cell_type": "code",
      "metadata": {
        "id": "Z8iqCSAAfhFa",
        "colab_type": "code",
        "colab": {
          "base_uri": "https://localhost:8080/",
          "height": 34
        },
        "outputId": "fb00e3af-1730-43c8-9d9e-e87271dd3d4e"
      },
      "source": [
        "points = torch.tensor([[1.0, 4.0], [2.0, 1.0], [3.0, 5.0]])\n",
        "second_point = points[1]\n",
        "second_point.size()"
      ],
      "execution_count": 26,
      "outputs": [
        {
          "output_type": "execute_result",
          "data": {
            "text/plain": [
              "torch.Size([2])"
            ]
          },
          "metadata": {
            "tags": []
          },
          "execution_count": 26
        }
      ]
    },
    {
      "cell_type": "code",
      "metadata": {
        "id": "PGwOkkvOfpPV",
        "colab_type": "code",
        "colab": {
          "base_uri": "https://localhost:8080/",
          "height": 34
        },
        "outputId": "3a5280f4-bbf9-4f1f-f463-d535cc6287c0"
      },
      "source": [
        "torch.Size([2])"
      ],
      "execution_count": 27,
      "outputs": [
        {
          "output_type": "execute_result",
          "data": {
            "text/plain": [
              "torch.Size([2])"
            ]
          },
          "metadata": {
            "tags": []
          },
          "execution_count": 27
        }
      ]
    },
    {
      "cell_type": "code",
      "metadata": {
        "id": "cdg4qmx3frQy",
        "colab_type": "code",
        "colab": {
          "base_uri": "https://localhost:8080/",
          "height": 34
        },
        "outputId": "dacebc7f-1b64-4bfc-ed29-93721f41d953"
      },
      "source": [
        "second_point.storage_offset()"
      ],
      "execution_count": 28,
      "outputs": [
        {
          "output_type": "execute_result",
          "data": {
            "text/plain": [
              "2"
            ]
          },
          "metadata": {
            "tags": []
          },
          "execution_count": 28
        }
      ]
    },
    {
      "cell_type": "code",
      "metadata": {
        "id": "yK1GAbo7ftIW",
        "colab_type": "code",
        "colab": {
          "base_uri": "https://localhost:8080/",
          "height": 34
        },
        "outputId": "41b91c92-cac1-4084-d7da-9fd626551ff5"
      },
      "source": [
        "second_point.stride()"
      ],
      "execution_count": 29,
      "outputs": [
        {
          "output_type": "execute_result",
          "data": {
            "text/plain": [
              "(1,)"
            ]
          },
          "metadata": {
            "tags": []
          },
          "execution_count": 29
        }
      ]
    },
    {
      "cell_type": "markdown",
      "metadata": {
        "id": "gI1tRkS5gNuk",
        "colab_type": "text"
      },
      "source": [
        "Changing the subtensor has a side effect on the original tensor too"
      ]
    },
    {
      "cell_type": "code",
      "metadata": {
        "id": "ZLdZItkQf9Eu",
        "colab_type": "code",
        "colab": {
          "base_uri": "https://localhost:8080/",
          "height": 68
        },
        "outputId": "4aaa8a63-37a7-463b-b51c-bbc4203c0f48"
      },
      "source": [
        "points = torch.tensor([[1.0, 4.0], [2.0, 1.0], [3.0, 5.0]])\n",
        "second_point = points[1]\n",
        "second_point[0] = 10.0\n",
        "points"
      ],
      "execution_count": 30,
      "outputs": [
        {
          "output_type": "execute_result",
          "data": {
            "text/plain": [
              "tensor([[ 1.,  4.],\n",
              "        [10.,  1.],\n",
              "        [ 3.,  5.]])"
            ]
          },
          "metadata": {
            "tags": []
          },
          "execution_count": 30
        }
      ]
    },
    {
      "cell_type": "markdown",
      "metadata": {
        "id": "VZ-M9IS3gD24",
        "colab_type": "text"
      },
      "source": [
        "Cloning the subtensor into a new tensor"
      ]
    },
    {
      "cell_type": "code",
      "metadata": {
        "id": "2zKU0c6Tf_1p",
        "colab_type": "code",
        "colab": {
          "base_uri": "https://localhost:8080/",
          "height": 68
        },
        "outputId": "6f0b8d06-18ce-4820-879d-2a57dc537478"
      },
      "source": [
        "points = torch.tensor([[1.0, 4.0], [2.0, 1.0], [3.0, 5.0]])\n",
        "second_point = points[1].clone()\n",
        "second_point[0] = 10.0\n",
        "points"
      ],
      "execution_count": 31,
      "outputs": [
        {
          "output_type": "execute_result",
          "data": {
            "text/plain": [
              "tensor([[1., 4.],\n",
              "        [2., 1.],\n",
              "        [3., 5.]])"
            ]
          },
          "metadata": {
            "tags": []
          },
          "execution_count": 31
        }
      ]
    },
    {
      "cell_type": "code",
      "metadata": {
        "id": "NtPqPVDegX9d",
        "colab_type": "code",
        "colab": {
          "base_uri": "https://localhost:8080/",
          "height": 68
        },
        "outputId": "a5c98baa-2606-495c-8176-bcd1d61a34cc"
      },
      "source": [
        "points = torch.tensor([[1.0, 4.0], [2.0, 1.0], [3.0, 5.0]])\n",
        "points"
      ],
      "execution_count": 32,
      "outputs": [
        {
          "output_type": "execute_result",
          "data": {
            "text/plain": [
              "tensor([[1., 4.],\n",
              "        [2., 1.],\n",
              "        [3., 5.]])"
            ]
          },
          "metadata": {
            "tags": []
          },
          "execution_count": 32
        }
      ]
    },
    {
      "cell_type": "markdown",
      "metadata": {
        "id": "aefifj3Jghil",
        "colab_type": "text"
      },
      "source": [
        "Using transpose to change the columns into rows and vice-versa"
      ]
    },
    {
      "cell_type": "code",
      "metadata": {
        "id": "TlG5waIBgblU",
        "colab_type": "code",
        "colab": {
          "base_uri": "https://localhost:8080/",
          "height": 51
        },
        "outputId": "db6ac1e8-cf41-404d-938e-b0b2ab3184a1"
      },
      "source": [
        "points_t = points.t()\n",
        "points_t"
      ],
      "execution_count": 33,
      "outputs": [
        {
          "output_type": "execute_result",
          "data": {
            "text/plain": [
              "tensor([[1., 2., 3.],\n",
              "        [4., 1., 5.]])"
            ]
          },
          "metadata": {
            "tags": []
          },
          "execution_count": 33
        }
      ]
    },
    {
      "cell_type": "markdown",
      "metadata": {
        "id": "z5HXjScfgvS9",
        "colab_type": "text"
      },
      "source": [
        " Verifying that the two tensors share storage"
      ]
    },
    {
      "cell_type": "code",
      "metadata": {
        "id": "PxL_ni3pgqM5",
        "colab_type": "code",
        "colab": {
          "base_uri": "https://localhost:8080/",
          "height": 34
        },
        "outputId": "a23eb0ef-b437-4092-c5c2-c57eb5641f13"
      },
      "source": [
        "id(points.storage()) == id(points_t.storage())"
      ],
      "execution_count": 34,
      "outputs": [
        {
          "output_type": "execute_result",
          "data": {
            "text/plain": [
              "True"
            ]
          },
          "metadata": {
            "tags": []
          },
          "execution_count": 34
        }
      ]
    },
    {
      "cell_type": "code",
      "metadata": {
        "id": "j6WydxRagyDA",
        "colab_type": "code",
        "colab": {
          "base_uri": "https://localhost:8080/",
          "height": 34
        },
        "outputId": "e68435b2-78bb-4679-da32-d91e135dda6e"
      },
      "source": [
        "points.stride()"
      ],
      "execution_count": 35,
      "outputs": [
        {
          "output_type": "execute_result",
          "data": {
            "text/plain": [
              "(2, 1)"
            ]
          },
          "metadata": {
            "tags": []
          },
          "execution_count": 35
        }
      ]
    },
    {
      "cell_type": "code",
      "metadata": {
        "id": "siFoia45g3yd",
        "colab_type": "code",
        "colab": {
          "base_uri": "https://localhost:8080/",
          "height": 34
        },
        "outputId": "a40e5ea2-f22d-4d6f-a453-52d4068fbeb2"
      },
      "source": [
        "points_t.stride()"
      ],
      "execution_count": 36,
      "outputs": [
        {
          "output_type": "execute_result",
          "data": {
            "text/plain": [
              "(1, 2)"
            ]
          },
          "metadata": {
            "tags": []
          },
          "execution_count": 36
        }
      ]
    },
    {
      "cell_type": "markdown",
      "metadata": {
        "id": "N1n8kymwhOAc",
        "colab_type": "text"
      },
      "source": [
        "Transposing a multidimensional array by specifying the two dimensions along which transposing should occur"
      ]
    },
    {
      "cell_type": "code",
      "metadata": {
        "id": "oCPvKRg6hFKJ",
        "colab_type": "code",
        "colab": {
          "base_uri": "https://localhost:8080/",
          "height": 34
        },
        "outputId": "52a2c8d6-e5aa-408c-9450-884e158fb88e"
      },
      "source": [
        "some_tensor = torch.ones(3, 4, 5)\n",
        "some_tensor_t = some_tensor.transpose(0, 2)\n",
        "some_tensor.shape"
      ],
      "execution_count": 37,
      "outputs": [
        {
          "output_type": "execute_result",
          "data": {
            "text/plain": [
              "torch.Size([3, 4, 5])"
            ]
          },
          "metadata": {
            "tags": []
          },
          "execution_count": 37
        }
      ]
    },
    {
      "cell_type": "code",
      "metadata": {
        "id": "Eb5bKm-dhVSE",
        "colab_type": "code",
        "colab": {
          "base_uri": "https://localhost:8080/",
          "height": 34
        },
        "outputId": "c8def28e-9943-496d-9c5e-9d30e972005b"
      },
      "source": [
        "some_tensor_t.shape"
      ],
      "execution_count": 38,
      "outputs": [
        {
          "output_type": "execute_result",
          "data": {
            "text/plain": [
              "torch.Size([5, 4, 3])"
            ]
          },
          "metadata": {
            "tags": []
          },
          "execution_count": 38
        }
      ]
    },
    {
      "cell_type": "code",
      "metadata": {
        "id": "-acPRodThXdr",
        "colab_type": "code",
        "colab": {
          "base_uri": "https://localhost:8080/",
          "height": 34
        },
        "outputId": "659fcd3b-3982-4bb3-8075-f08f1834d2c1"
      },
      "source": [
        "some_tensor.stride()"
      ],
      "execution_count": 39,
      "outputs": [
        {
          "output_type": "execute_result",
          "data": {
            "text/plain": [
              "(20, 5, 1)"
            ]
          },
          "metadata": {
            "tags": []
          },
          "execution_count": 39
        }
      ]
    },
    {
      "cell_type": "code",
      "metadata": {
        "id": "s3ABNR1qhaDg",
        "colab_type": "code",
        "colab": {
          "base_uri": "https://localhost:8080/",
          "height": 34
        },
        "outputId": "75762b3a-6c1e-4b5b-bd27-ce976f31f903"
      },
      "source": [
        "some_tensor_t.stride()"
      ],
      "execution_count": 40,
      "outputs": [
        {
          "output_type": "execute_result",
          "data": {
            "text/plain": [
              "(1, 5, 20)"
            ]
          },
          "metadata": {
            "tags": []
          },
          "execution_count": 40
        }
      ]
    },
    {
      "cell_type": "markdown",
      "metadata": {
        "id": "7EgZha98hesZ",
        "colab_type": "text"
      },
      "source": [
        "Checking if the points is contiguous but its transpose is not"
      ]
    },
    {
      "cell_type": "code",
      "metadata": {
        "id": "LHJHCmvvheEh",
        "colab_type": "code",
        "colab": {
          "base_uri": "https://localhost:8080/",
          "height": 34
        },
        "outputId": "21f8d47a-2386-401f-be8a-b1d19c907b78"
      },
      "source": [
        "points.is_contiguous()"
      ],
      "execution_count": 41,
      "outputs": [
        {
          "output_type": "execute_result",
          "data": {
            "text/plain": [
              "True"
            ]
          },
          "metadata": {
            "tags": []
          },
          "execution_count": 41
        }
      ]
    },
    {
      "cell_type": "code",
      "metadata": {
        "id": "af0ZbFJmho-Q",
        "colab_type": "code",
        "colab": {
          "base_uri": "https://localhost:8080/",
          "height": 34
        },
        "outputId": "27524867-27c6-48e1-890b-efe2845f0a30"
      },
      "source": [
        "points_t.is_contiguous()"
      ],
      "execution_count": 42,
      "outputs": [
        {
          "output_type": "execute_result",
          "data": {
            "text/plain": [
              "False"
            ]
          },
          "metadata": {
            "tags": []
          },
          "execution_count": 42
        }
      ]
    },
    {
      "cell_type": "code",
      "metadata": {
        "id": "JJXG01M5hsOs",
        "colab_type": "code",
        "colab": {
          "base_uri": "https://localhost:8080/",
          "height": 51
        },
        "outputId": "0f5685f0-0e4f-4cf8-9b16-1326e0954aaf"
      },
      "source": [
        "points = torch.tensor([[1.0, 4.0], [2.0, 1.0], [3.0, 5.0]])\n",
        "points_t = points.t()\n",
        "points_t"
      ],
      "execution_count": 43,
      "outputs": [
        {
          "output_type": "execute_result",
          "data": {
            "text/plain": [
              "tensor([[1., 2., 3.],\n",
              "        [4., 1., 5.]])"
            ]
          },
          "metadata": {
            "tags": []
          },
          "execution_count": 43
        }
      ]
    },
    {
      "cell_type": "code",
      "metadata": {
        "id": "n4fE-qn7h2lx",
        "colab_type": "code",
        "colab": {
          "base_uri": "https://localhost:8080/",
          "height": 136
        },
        "outputId": "9355a44e-34b0-40d8-df4e-6b19a13bb6f2"
      },
      "source": [
        "points_t.storage()"
      ],
      "execution_count": 44,
      "outputs": [
        {
          "output_type": "execute_result",
          "data": {
            "text/plain": [
              " 1.0\n",
              " 4.0\n",
              " 2.0\n",
              " 1.0\n",
              " 3.0\n",
              " 5.0\n",
              "[torch.FloatStorage of size 6]"
            ]
          },
          "metadata": {
            "tags": []
          },
          "execution_count": 44
        }
      ]
    },
    {
      "cell_type": "code",
      "metadata": {
        "id": "0hllnVMZh43Y",
        "colab_type": "code",
        "colab": {
          "base_uri": "https://localhost:8080/",
          "height": 34
        },
        "outputId": "18382bab-a07d-489e-a26f-a22915e66bc3"
      },
      "source": [
        "points_t.stride()"
      ],
      "execution_count": 45,
      "outputs": [
        {
          "output_type": "execute_result",
          "data": {
            "text/plain": [
              "(1, 2)"
            ]
          },
          "metadata": {
            "tags": []
          },
          "execution_count": 45
        }
      ]
    },
    {
      "cell_type": "code",
      "metadata": {
        "id": "Gy3X4xcDh6_H",
        "colab_type": "code",
        "colab": {
          "base_uri": "https://localhost:8080/",
          "height": 51
        },
        "outputId": "83ee409b-b9f7-459e-950c-77dfbc4c8508"
      },
      "source": [
        "points_t_cont = points_t.contiguous()\n",
        "points_t_cont"
      ],
      "execution_count": 46,
      "outputs": [
        {
          "output_type": "execute_result",
          "data": {
            "text/plain": [
              "tensor([[1., 2., 3.],\n",
              "        [4., 1., 5.]])"
            ]
          },
          "metadata": {
            "tags": []
          },
          "execution_count": 46
        }
      ]
    },
    {
      "cell_type": "code",
      "metadata": {
        "id": "GvOj5BT4h9QT",
        "colab_type": "code",
        "colab": {
          "base_uri": "https://localhost:8080/",
          "height": 34
        },
        "outputId": "6fdd6009-a1f5-4166-b2b2-798dbd8b5508"
      },
      "source": [
        "points_t_cont.stride()"
      ],
      "execution_count": 47,
      "outputs": [
        {
          "output_type": "execute_result",
          "data": {
            "text/plain": [
              "(3, 1)"
            ]
          },
          "metadata": {
            "tags": []
          },
          "execution_count": 47
        }
      ]
    },
    {
      "cell_type": "code",
      "metadata": {
        "id": "-TTLv1Qeh_Tk",
        "colab_type": "code",
        "colab": {
          "base_uri": "https://localhost:8080/",
          "height": 136
        },
        "outputId": "49c04230-d78c-4118-9bdc-82e46da9f600"
      },
      "source": [
        "points_t_cont.storage()"
      ],
      "execution_count": 48,
      "outputs": [
        {
          "output_type": "execute_result",
          "data": {
            "text/plain": [
              " 1.0\n",
              " 2.0\n",
              " 3.0\n",
              " 4.0\n",
              " 1.0\n",
              " 5.0\n",
              "[torch.FloatStorage of size 6]"
            ]
          },
          "metadata": {
            "tags": []
          },
          "execution_count": 48
        }
      ]
    },
    {
      "cell_type": "markdown",
      "metadata": {
        "id": "rbT5ZBlhpTwv",
        "colab_type": "text"
      },
      "source": [
        "**Numeric types**"
      ]
    },
    {
      "cell_type": "code",
      "metadata": {
        "id": "AGzjBvcBiIII",
        "colab_type": "code",
        "colab": {}
      },
      "source": [
        "double_points = torch.ones(10, 2, dtype=torch.double)\n",
        "short_points = torch.tensor([[1, 2], [3, 4]], dtype=torch.short)"
      ],
      "execution_count": 0,
      "outputs": []
    },
    {
      "cell_type": "code",
      "metadata": {
        "id": "qHQeWlkJiK3i",
        "colab_type": "code",
        "colab": {
          "base_uri": "https://localhost:8080/",
          "height": 34
        },
        "outputId": "1d29ebab-9f16-4fa3-cee5-1d2666d8547b"
      },
      "source": [
        "short_points.dtype"
      ],
      "execution_count": 50,
      "outputs": [
        {
          "output_type": "execute_result",
          "data": {
            "text/plain": [
              "torch.int16"
            ]
          },
          "metadata": {
            "tags": []
          },
          "execution_count": 50
        }
      ]
    },
    {
      "cell_type": "code",
      "metadata": {
        "id": "Re7CoAloiOIg",
        "colab_type": "code",
        "colab": {}
      },
      "source": [
        "double_points = torch.zeros(10, 2).double()\n",
        "short_points = torch.ones(10, 2).short()"
      ],
      "execution_count": 0,
      "outputs": []
    },
    {
      "cell_type": "markdown",
      "metadata": {
        "id": "P4pdtcHmibhg",
        "colab_type": "text"
      },
      "source": [
        "Casting the output of a tensor-creation function to the right type by using the corresponding casting method"
      ]
    },
    {
      "cell_type": "code",
      "metadata": {
        "id": "G-phF4SAiQs2",
        "colab_type": "code",
        "colab": {}
      },
      "source": [
        "double_points = torch.zeros(10, 2).to(torch.double)\n",
        "short_points = torch.ones(10, 2).to(dtype=torch.short)"
      ],
      "execution_count": 0,
      "outputs": []
    },
    {
      "cell_type": "markdown",
      "metadata": {
        "id": "KwkK3hCriqq9",
        "colab_type": "text"
      },
      "source": [
        "Casting a tensor of one type as a tensor of another type by using the\n",
        "type method"
      ]
    },
    {
      "cell_type": "code",
      "metadata": {
        "id": "v6nNMJFDihyi",
        "colab_type": "code",
        "colab": {}
      },
      "source": [
        "points = torch.randn(10, 2)\n",
        "short_points = points.type(torch.short)"
      ],
      "execution_count": 0,
      "outputs": []
    },
    {
      "cell_type": "markdown",
      "metadata": {
        "id": "1H8PHBMKizVR",
        "colab_type": "text"
      },
      "source": [
        "**Indexing Tensors**"
      ]
    },
    {
      "cell_type": "code",
      "metadata": {
        "id": "j2vxWhpQit2m",
        "colab_type": "code",
        "colab": {
          "base_uri": "https://localhost:8080/",
          "height": 34
        },
        "outputId": "1f072667-3ad8-46d1-8c11-6f3fe523144c"
      },
      "source": [
        "some_list = list(range(6))\n",
        "some_list[:]\n",
        "some_list[1:4]\n",
        "some_list[1:]\n",
        "some_list[:4]\n",
        "some_list[:-1]\n",
        "some_list[1:4:2]"
      ],
      "execution_count": 54,
      "outputs": [
        {
          "output_type": "execute_result",
          "data": {
            "text/plain": [
              "[1, 3]"
            ]
          },
          "metadata": {
            "tags": []
          },
          "execution_count": 54
        }
      ]
    },
    {
      "cell_type": "code",
      "metadata": {
        "id": "BfiyPJbFi7M-",
        "colab_type": "code",
        "colab": {
          "base_uri": "https://localhost:8080/",
          "height": 51
        },
        "outputId": "b4deda7d-0803-4b52-dcbe-fbb1fa96b1f9"
      },
      "source": [
        "points[1:]\n",
        "points[1:, :]\n",
        "points[1:, 0] "
      ],
      "execution_count": 55,
      "outputs": [
        {
          "output_type": "execute_result",
          "data": {
            "text/plain": [
              "tensor([-0.8511, -0.7367,  0.2424, -0.3277, -0.5710,  0.3874,  0.9535, -0.4379,\n",
              "         0.0188])"
            ]
          },
          "metadata": {
            "tags": []
          },
          "execution_count": 55
        }
      ]
    },
    {
      "cell_type": "markdown",
      "metadata": {
        "id": "HX6PnN40i-Q7",
        "colab_type": "text"
      },
      "source": [
        "**NumPy interoperability**"
      ]
    },
    {
      "cell_type": "markdown",
      "metadata": {
        "id": "ibputEpWjFhx",
        "colab_type": "text"
      },
      "source": [
        "Getting a NumPy array out of the points tensor"
      ]
    },
    {
      "cell_type": "code",
      "metadata": {
        "id": "C629tn0bi_rD",
        "colab_type": "code",
        "colab": {
          "base_uri": "https://localhost:8080/",
          "height": 68
        },
        "outputId": "c92a52d0-af0f-4146-c032-c88425cc0576"
      },
      "source": [
        "points = torch.ones(3, 4)\n",
        "points_np = points.numpy()\n",
        "points_np"
      ],
      "execution_count": 56,
      "outputs": [
        {
          "output_type": "execute_result",
          "data": {
            "text/plain": [
              "array([[1., 1., 1., 1.],\n",
              "       [1., 1., 1., 1.],\n",
              "       [1., 1., 1., 1.]], dtype=float32)"
            ]
          },
          "metadata": {
            "tags": []
          },
          "execution_count": 56
        }
      ]
    },
    {
      "cell_type": "markdown",
      "metadata": {
        "id": "puhzGNzajTzX",
        "colab_type": "text"
      },
      "source": [
        "Obtaining a PyTorch tensor from a NumPy array\n",
        "which uses the same buffer-sharing strategy."
      ]
    },
    {
      "cell_type": "code",
      "metadata": {
        "id": "dH825R2ijORw",
        "colab_type": "code",
        "colab": {}
      },
      "source": [
        "points = torch.from_numpy(points_np)"
      ],
      "execution_count": 0,
      "outputs": []
    },
    {
      "cell_type": "markdown",
      "metadata": {
        "id": "EkhUoZ6njdHb",
        "colab_type": "text"
      },
      "source": [
        "**Serializing tensors**"
      ]
    },
    {
      "cell_type": "markdown",
      "metadata": {
        "id": "whean2FyjlOf",
        "colab_type": "text"
      },
      "source": [
        "Saving our points tensor to a ourpoints.t file"
      ]
    },
    {
      "cell_type": "code",
      "metadata": {
        "id": "DnARO4G6jeJR",
        "colab_type": "code",
        "colab": {}
      },
      "source": [
        "torch.save(points, 'drive/My Drive/data/p1ch3/ourpoints.t')"
      ],
      "execution_count": 0,
      "outputs": []
    },
    {
      "cell_type": "code",
      "metadata": {
        "id": "26gXAivrmgEn",
        "colab_type": "code",
        "colab": {}
      },
      "source": [
        "import h5py\n",
        "\n",
        "f = h5py.File('drive/My Drive/data/p1ch3/ourpoints.hdf5', 'w')\n",
        "dset = f.create_dataset('coords', data=points.numpy())\n",
        "f.close()"
      ],
      "execution_count": 0,
      "outputs": []
    },
    {
      "cell_type": "markdown",
      "metadata": {
        "id": "nnxJyz-BnO9m",
        "colab_type": "text"
      },
      "source": [
        "**Moving tensors to the GPU**"
      ]
    },
    {
      "cell_type": "code",
      "metadata": {
        "id": "0atyh4b6nOF0",
        "colab_type": "code",
        "colab": {}
      },
      "source": [
        "points_gpu = torch.tensor([[1.0, 4.0], [2.0, 1.0], [3.0, 4.0]],\n",
        "device='cuda')"
      ],
      "execution_count": 0,
      "outputs": []
    },
    {
      "cell_type": "code",
      "metadata": {
        "id": "8kuacaP5nUhN",
        "colab_type": "code",
        "colab": {}
      },
      "source": [
        "points_gpu = points.to(device='cuda')"
      ],
      "execution_count": 0,
      "outputs": []
    },
    {
      "cell_type": "markdown",
      "metadata": {
        "id": "hEkz7sTsnfxC",
        "colab_type": "text"
      },
      "source": [
        "Multiplying all elements\n",
        "by a constant, is carried out on the GPU"
      ]
    },
    {
      "cell_type": "code",
      "metadata": {
        "id": "GWU3dlPbnjZs",
        "colab_type": "code",
        "colab": {}
      },
      "source": [
        "points = 2 * points\n",
        "points_gpu = 2 * points.to(device='cuda') "
      ],
      "execution_count": 0,
      "outputs": []
    },
    {
      "cell_type": "markdown",
      "metadata": {
        "id": "IEdotnzznoxX",
        "colab_type": "text"
      },
      "source": [
        "Adding a constant to the result"
      ]
    },
    {
      "cell_type": "code",
      "metadata": {
        "id": "qordCP7Gnq4C",
        "colab_type": "code",
        "colab": {}
      },
      "source": [
        "points_gpu = points_gpu + 4"
      ],
      "execution_count": 0,
      "outputs": []
    },
    {
      "cell_type": "markdown",
      "metadata": {
        "id": "g4RcbVrdnxma",
        "colab_type": "text"
      },
      "source": [
        "Moving the tensor back to the\n",
        "CPU, we need to provide a cpu argument to the to method"
      ]
    },
    {
      "cell_type": "code",
      "metadata": {
        "id": "X6hwkCkxnw7M",
        "colab_type": "code",
        "colab": {}
      },
      "source": [
        "points_cpu = points_gpu.to(device='cpu')"
      ],
      "execution_count": 0,
      "outputs": []
    },
    {
      "cell_type": "markdown",
      "metadata": {
        "id": "hh28gXqnn76x",
        "colab_type": "text"
      },
      "source": [
        "**The Tensor API**"
      ]
    },
    {
      "cell_type": "code",
      "metadata": {
        "id": "5KNVXTYqn9GO",
        "colab_type": "code",
        "colab": {}
      },
      "source": [
        "a = torch.ones(3, 2)\n",
        "a_t = torch.transpose(a, 0, 1)"
      ],
      "execution_count": 0,
      "outputs": []
    },
    {
      "cell_type": "code",
      "metadata": {
        "id": "4DWFzs8moNQ2",
        "colab_type": "code",
        "colab": {}
      },
      "source": [
        "a = torch.ones(3, 2)\n",
        "a_t = a.transpose(0, 1)"
      ],
      "execution_count": 0,
      "outputs": []
    },
    {
      "cell_type": "code",
      "metadata": {
        "id": "oH2wNtyxoPd3",
        "colab_type": "code",
        "colab": {}
      },
      "source": [
        "a = torch.ones(3, 2)"
      ],
      "execution_count": 0,
      "outputs": []
    },
    {
      "cell_type": "code",
      "metadata": {
        "id": "fWTq4VDtoRjG",
        "colab_type": "code",
        "colab": {
          "base_uri": "https://localhost:8080/",
          "height": 68
        },
        "outputId": "a17f9c5d-fd0e-44d8-ef2a-3cffd0da273c"
      },
      "source": [
        "a.zero_()\n",
        "a"
      ],
      "execution_count": 76,
      "outputs": [
        {
          "output_type": "execute_result",
          "data": {
            "text/plain": [
              "tensor([[0., 0.],\n",
              "        [0., 0.],\n",
              "        [0., 0.]])"
            ]
          },
          "metadata": {
            "tags": []
          },
          "execution_count": 76
        }
      ]
    }
  ]
}