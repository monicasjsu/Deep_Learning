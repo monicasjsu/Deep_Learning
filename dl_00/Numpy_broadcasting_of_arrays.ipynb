{
  "nbformat": 4,
  "nbformat_minor": 0,
  "metadata": {
    "colab": {
      "name": "Copy of Numpy broadcasting of arrays.ipynb",
      "provenance": [],
      "collapsed_sections": []
    },
    "kernelspec": {
      "name": "python3",
      "display_name": "Python 3"
    }
  },
  "cells": [
    {
      "cell_type": "code",
      "metadata": {
        "colab_type": "code",
        "id": "vAGFQ3t3kp3D",
        "outputId": "7e7f27a4-cb78-4097-f069-7f7031beebf6",
        "colab": {
          "base_uri": "https://localhost:8080/",
          "height": 34
        }
      },
      "source": [
        "import numpy as np\n",
        "\n",
        "# computation of arrays:Broadcasting\n",
        "a = np.array([0, 1, 2])\n",
        "b = np.array([3, 4, 5])\n",
        "a + b"
      ],
      "execution_count": 1,
      "outputs": [
        {
          "output_type": "execute_result",
          "data": {
            "text/plain": [
              "array([3, 5, 7])"
            ]
          },
          "metadata": {
            "tags": []
          },
          "execution_count": 1
        }
      ]
    },
    {
      "cell_type": "code",
      "metadata": {
        "id": "vwGzLaHRkq0T",
        "colab_type": "code",
        "outputId": "edde3b6b-e646-44d5-d2c2-d718f556ba7e",
        "colab": {
          "base_uri": "https://localhost:8080/",
          "height": 51
        }
      },
      "source": [
        "a + 5\n",
        "\n",
        "matrix = np.ones((2, 2))\n",
        "print(matrix)"
      ],
      "execution_count": 2,
      "outputs": [
        {
          "output_type": "stream",
          "text": [
            "[[1. 1.]\n",
            " [1. 1.]]\n"
          ],
          "name": "stdout"
        }
      ]
    },
    {
      "cell_type": "code",
      "metadata": {
        "id": "CVRfXhL-kwO3",
        "colab_type": "code",
        "outputId": "b081efae-8669-4d05-aebe-99383564be57",
        "colab": {
          "base_uri": "https://localhost:8080/",
          "height": 85
        }
      },
      "source": [
        "c = np.arange(3)\n",
        "d = np.arange(3)[:, np.newaxis]\n",
        "print(c)\n",
        "print(d)\n",
        "\n"
      ],
      "execution_count": 3,
      "outputs": [
        {
          "output_type": "stream",
          "text": [
            "[0 1 2]\n",
            "[[0]\n",
            " [1]\n",
            " [2]]\n"
          ],
          "name": "stdout"
        }
      ]
    },
    {
      "cell_type": "code",
      "metadata": {
        "id": "Kaai69S1kwUh",
        "colab_type": "code",
        "outputId": "47a0d3dd-c6db-4bf8-baad-4a5fb913cc17",
        "colab": {
          "base_uri": "https://localhost:8080/",
          "height": 68
        }
      },
      "source": [
        "print(c + d)"
      ],
      "execution_count": 4,
      "outputs": [
        {
          "output_type": "stream",
          "text": [
            "[[0 1 2]\n",
            " [1 2 3]\n",
            " [2 3 4]]\n"
          ],
          "name": "stdout"
        }
      ]
    },
    {
      "cell_type": "code",
      "metadata": {
        "id": "dTyYtO7Fkvzl",
        "colab_type": "code",
        "outputId": "cb57b763-3a46-490c-bec0-931ddc407bb2",
        "colab": {
          "base_uri": "https://localhost:8080/",
          "height": 51
        }
      },
      "source": [
        "X = np.random.random((1, 2))\n",
        "print(X)\n",
        "\n",
        "print(X.mean(0))"
      ],
      "execution_count": 5,
      "outputs": [
        {
          "output_type": "stream",
          "text": [
            "[[0.26560332 0.21550551]]\n",
            "[0.26560332 0.21550551]\n"
          ],
          "name": "stdout"
        }
      ]
    },
    {
      "cell_type": "code",
      "metadata": {
        "id": "fS3NGodEkvtJ",
        "colab_type": "code",
        "outputId": "70a01532-b1a6-436d-88e7-9f1f0d03a0a8",
        "colab": {
          "base_uri": "https://localhost:8080/",
          "height": 34
        }
      },
      "source": [
        "print(X - X.mean(0))"
      ],
      "execution_count": 6,
      "outputs": [
        {
          "output_type": "stream",
          "text": [
            "[[0. 0.]]\n"
          ],
          "name": "stdout"
        }
      ]
    },
    {
      "cell_type": "code",
      "metadata": {
        "id": "s_RAJ6Mxkvgm",
        "colab_type": "code",
        "outputId": "c1d8efad-1ad3-4441-b332-9354f808a5f0",
        "colab": {
          "base_uri": "https://localhost:8080/",
          "height": 68
        }
      },
      "source": [
        "A = np.array([[10, 20, 30], [11, 21, 31], [12, 22, 32]])\n",
        "print(A)"
      ],
      "execution_count": 7,
      "outputs": [
        {
          "output_type": "stream",
          "text": [
            "[[10 20 30]\n",
            " [11 21 31]\n",
            " [12 22 32]]\n"
          ],
          "name": "stdout"
        }
      ]
    },
    {
      "cell_type": "code",
      "metadata": {
        "id": "qbM_aikskvdx",
        "colab_type": "code",
        "outputId": "bfd32a45-eae7-4db5-9430-6dc593e7c260",
        "colab": {
          "base_uri": "https://localhost:8080/",
          "height": 34
        }
      },
      "source": [
        "B = 1\n",
        "print(B)"
      ],
      "execution_count": 8,
      "outputs": [
        {
          "output_type": "stream",
          "text": [
            "1\n"
          ],
          "name": "stdout"
        }
      ]
    },
    {
      "cell_type": "code",
      "metadata": {
        "id": "Hgu2VTKTkvZd",
        "colab_type": "code",
        "outputId": "60e18241-32e4-4f24-8522-e97678e4ff06",
        "colab": {
          "base_uri": "https://localhost:8080/",
          "height": 68
        }
      },
      "source": [
        "c = A + B\n",
        "print(c)"
      ],
      "execution_count": 9,
      "outputs": [
        {
          "output_type": "stream",
          "text": [
            "[[11 21 31]\n",
            " [12 22 32]\n",
            " [13 23 33]]\n"
          ],
          "name": "stdout"
        }
      ]
    },
    {
      "cell_type": "code",
      "metadata": {
        "id": "X7otU15WkvYQ",
        "colab_type": "code",
        "outputId": "48055234-b1ce-4f2b-f873-8f7b9b05b6a0",
        "colab": {
          "base_uri": "https://localhost:8080/",
          "height": 119
        }
      },
      "source": [
        "M = np.ones((3, 3))\n",
        "print(M)\n",
        "\n",
        "k = ([5, 6, 7])\n",
        "\n",
        "print(M + k)"
      ],
      "execution_count": 10,
      "outputs": [
        {
          "output_type": "stream",
          "text": [
            "[[1. 1. 1.]\n",
            " [1. 1. 1.]\n",
            " [1. 1. 1.]]\n",
            "[[6. 7. 8.]\n",
            " [6. 7. 8.]\n",
            " [6. 7. 8.]]\n"
          ],
          "name": "stdout"
        }
      ]
    },
    {
      "cell_type": "code",
      "metadata": {
        "id": "h6_ajhKHkvJ7",
        "colab_type": "code",
        "outputId": "a4afef6b-72f7-42b2-efd0-3b028805abf2",
        "colab": {
          "base_uri": "https://localhost:8080/",
          "height": 153
        }
      },
      "source": [
        "# Numpy Array Attributes\n",
        "\n",
        "x1 = np.random.randint(10, size=(2, 2))\n",
        "print(\"x1 ndim: \", x1.ndim)\n",
        "print(\"x1 shape:\", x1.shape)\n",
        "print(\"x1 size: \", x1.size)\n",
        "print(\"dtype:\", x1.dtype)\n",
        "print(\"itemsize:\", x1.itemsize, \"bytes\")\n",
        "\n",
        "print(x1)\n",
        "\n",
        "print(x1[0])"
      ],
      "execution_count": 11,
      "outputs": [
        {
          "output_type": "stream",
          "text": [
            "x1 ndim:  2\n",
            "x1 shape: (2, 2)\n",
            "x1 size:  4\n",
            "dtype: int64\n",
            "itemsize: 8 bytes\n",
            "[[1 6]\n",
            " [2 7]]\n",
            "[1 6]\n"
          ],
          "name": "stdout"
        }
      ]
    },
    {
      "cell_type": "code",
      "metadata": {
        "id": "XUQc5z7SkvF4",
        "colab_type": "code",
        "outputId": "7e3c2dfc-66ee-4854-c6c5-6d66719ea2c9",
        "colab": {
          "base_uri": "https://localhost:8080/",
          "height": 102
        }
      },
      "source": [
        "x2 = np.random.randint(10, size=(4,4))\n",
        "print(x2)\n",
        "\n",
        "print(x2[3,2])"
      ],
      "execution_count": 12,
      "outputs": [
        {
          "output_type": "stream",
          "text": [
            "[[3 5 3 9]\n",
            " [0 8 4 5]\n",
            " [5 5 6 8]\n",
            " [9 0 1 1]]\n",
            "1\n"
          ],
          "name": "stdout"
        }
      ]
    },
    {
      "cell_type": "code",
      "metadata": {
        "id": "592fEvqokvEs",
        "colab_type": "code",
        "outputId": "34420c05-3b24-40aa-def4-8c4765eacb55",
        "colab": {
          "base_uri": "https://localhost:8080/",
          "height": 68
        }
      },
      "source": [
        "x = np.arange(10)\n",
        "print(x)\n",
        "\n",
        "print(x[:5])\n",
        "\n",
        "print(x[2:7])"
      ],
      "execution_count": 13,
      "outputs": [
        {
          "output_type": "stream",
          "text": [
            "[0 1 2 3 4 5 6 7 8 9]\n",
            "[0 1 2 3 4]\n",
            "[2 3 4 5 6]\n"
          ],
          "name": "stdout"
        }
      ]
    },
    {
      "cell_type": "code",
      "metadata": {
        "id": "TuRg2bQTnIuG",
        "colab_type": "code",
        "outputId": "550829b1-f6ea-484f-e579-40485ca42fa3",
        "colab": {
          "base_uri": "https://localhost:8080/",
          "height": 102
        }
      },
      "source": [
        "a = np.arange(16).reshape(4, 4)\n",
        "print(a)\n",
        "np.diag(a)\n",
        "np.einsum(a, [0,0])"
      ],
      "execution_count": 14,
      "outputs": [
        {
          "output_type": "stream",
          "text": [
            "[[ 0  1  2  3]\n",
            " [ 4  5  6  7]\n",
            " [ 8  9 10 11]\n",
            " [12 13 14 15]]\n"
          ],
          "name": "stdout"
        },
        {
          "output_type": "execute_result",
          "data": {
            "text/plain": [
              "30"
            ]
          },
          "metadata": {
            "tags": []
          },
          "execution_count": 14
        }
      ]
    },
    {
      "cell_type": "code",
      "metadata": {
        "id": "D7NOMqlZrFnX",
        "colab_type": "code",
        "outputId": "9729562d-2bb3-4f99-9e3c-1fa1045fecb2",
        "colab": {
          "base_uri": "https://localhost:8080/",
          "height": 34
        }
      },
      "source": [
        "y = 20 * np.ones(100)\n",
        "\n",
        "np.einsum('i->', y)"
      ],
      "execution_count": 15,
      "outputs": [
        {
          "output_type": "execute_result",
          "data": {
            "text/plain": [
              "2000.0"
            ]
          },
          "metadata": {
            "tags": []
          },
          "execution_count": 15
        }
      ]
    },
    {
      "cell_type": "code",
      "metadata": {
        "id": "X1G1d_klrXsz",
        "colab_type": "code",
        "outputId": "8ae7690a-d0c0-400c-fbd5-920dee8e05ff",
        "colab": {
          "base_uri": "https://localhost:8080/",
          "height": 85
        }
      },
      "source": [
        "\n",
        "A = np.array([[1, 1],\n",
        "           [2, 2]])\n",
        "\n",
        "B = np.array([[0, 1],\n",
        "           [1, 1]])\n",
        "\n",
        "# matrix multiplication using normal way\n",
        "k = (A[:, np.newaxis] * B).sum(axis=1)\n",
        "print(k)\n",
        "\n",
        "# matrix multiplication using einsum\n",
        "x = np.einsum('ij,jk', A, B)\n",
        "print(x)\n"
      ],
      "execution_count": 16,
      "outputs": [
        {
          "output_type": "stream",
          "text": [
            "[[1 2]\n",
            " [2 4]]\n",
            "[[1 2]\n",
            " [2 4]]\n"
          ],
          "name": "stdout"
        }
      ]
    },
    {
      "cell_type": "code",
      "metadata": {
        "id": "P5NpjjbsgC1M",
        "colab_type": "code",
        "outputId": "338d8f8b-f295-4eea-d3dd-0e1c8ba65134",
        "colab": {
          "base_uri": "https://localhost:8080/",
          "height": 68
        }
      },
      "source": [
        "# Tensor Contraction\n",
        "x = np.arange(36.).reshape(3,4,3)\n",
        "y = np.arange(24.).reshape(4,3,2)\n",
        "np.einsum('ijk,jil->kl', x, y)"
      ],
      "execution_count": 17,
      "outputs": [
        {
          "output_type": "execute_result",
          "data": {
            "text/plain": [
              "array([[2640., 2838.],\n",
              "       [2772., 2982.],\n",
              "       [2904., 3126.]])"
            ]
          },
          "metadata": {
            "tags": []
          },
          "execution_count": 17
        }
      ]
    },
    {
      "cell_type": "code",
      "metadata": {
        "id": "-tEwHox8oCHI",
        "colab_type": "code",
        "outputId": "8326e5c1-49df-49e8-fa88-bc9a86a6fa16",
        "colab": {
          "base_uri": "https://localhost:8080/",
          "height": 85
        }
      },
      "source": [
        "# Transpose of a matrix\n",
        "np.transpose(a)\n"
      ],
      "execution_count": 18,
      "outputs": [
        {
          "output_type": "execute_result",
          "data": {
            "text/plain": [
              "array([[ 0,  4,  8, 12],\n",
              "       [ 1,  5,  9, 13],\n",
              "       [ 2,  6, 10, 14],\n",
              "       [ 3,  7, 11, 15]])"
            ]
          },
          "metadata": {
            "tags": []
          },
          "execution_count": 18
        }
      ]
    }
  ]
}