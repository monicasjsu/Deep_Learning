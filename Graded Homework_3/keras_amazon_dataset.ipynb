{
  "nbformat": 4,
  "nbformat_minor": 0,
  "metadata": {
    "colab": {
      "name": "keras_amazon_dataset.ipynb",
      "provenance": [],
      "collapsed_sections": [],
      "include_colab_link": true
    },
    "kernelspec": {
      "name": "python3",
      "display_name": "Python 3"
    },
    "accelerator": "GPU"
  },
  "cells": [
    {
      "cell_type": "markdown",
      "metadata": {
        "id": "view-in-github",
        "colab_type": "text"
      },
      "source": [
        "<a href=\"https://colab.research.google.com/github/monicasjsu/deep_learning/blob/master/keras_amazon_dataset.ipynb\" target=\"_parent\"><img src=\"https://colab.research.google.com/assets/colab-badge.svg\" alt=\"Open In Colab\"/></a>"
      ]
    },
    {
      "cell_type": "code",
      "metadata": {
        "id": "FPgkI7fbNujE",
        "colab_type": "code",
        "outputId": "97bf9363-f5ab-48a6-c18e-63874fbf99d2",
        "colab": {
          "base_uri": "https://localhost:8080/",
          "height": 34
        }
      },
      "source": [
        "import pandas as pd\n",
        "import numpy as np\n",
        "!pip install -U -q PyDrive\n",
        "from pydrive.auth import GoogleAuth\n",
        "from pydrive.drive import GoogleDrive\n",
        "from google.colab import auth\n",
        "from oauth2client.client import GoogleCredentials\n",
        "\n",
        "import zipfile\n",
        "import cv2\n",
        "from tqdm import tqdm\n",
        "\n",
        "import tensorflow as tf\n",
        "from tensorflow import keras\n",
        "\n",
        "import keras as k\n",
        "from keras.models import Sequential\n",
        "from keras.layers import Dense, Dropout, Flatten\n",
        "from keras.layers import Conv2D, MaxPooling2D\n",
        "import os\n",
        "import datetime\n",
        "\n",
        "from tensorboard.plugins.hparams import api_pb2\n",
        "from keras.callbacks import TensorBoard\n",
        "%reload_ext autoreload\n",
        "%autoreload 2\n",
        "%matplotlib inline\n",
        "%load_ext tensorboard\n",
        "from tensorboard.plugins.hparams import summary as hparams_summary\n",
        "from google.protobuf import struct_pb2"
      ],
      "execution_count": 1,
      "outputs": [
        {
          "output_type": "stream",
          "text": [
            "Using TensorFlow backend.\n"
          ],
          "name": "stderr"
        }
      ]
    },
    {
      "cell_type": "code",
      "metadata": {
        "id": "TUBq0eLjPx-s",
        "colab_type": "code",
        "colab": {
          "base_uri": "https://localhost:8080/",
          "height": 54
        },
        "outputId": "85283c00-3fe0-47b2-86db-e3e6d19d8540"
      },
      "source": [
        "from google.colab import drive\n",
        "drive.mount('/content/drive')"
      ],
      "execution_count": 2,
      "outputs": [
        {
          "output_type": "stream",
          "text": [
            "Drive already mounted at /content/drive; to attempt to forcibly remount, call drive.mount(\"/content/drive\", force_remount=True).\n"
          ],
          "name": "stdout"
        }
      ]
    },
    {
      "cell_type": "code",
      "metadata": {
        "id": "lhonSgIbwDhw",
        "colab_type": "code",
        "outputId": "43230c55-bc13-4ae1-a2dc-80708d14ecff",
        "colab": {
          "base_uri": "https://localhost:8080/",
          "height": 204
        }
      },
      "source": [
        "df_train = pd.read_csv(\"/content/drive/My Drive/Datasets/amazon_dataset/train_v2.csv\")\n",
        "df_train.head()"
      ],
      "execution_count": 3,
      "outputs": [
        {
          "output_type": "execute_result",
          "data": {
            "text/html": [
              "<div>\n",
              "<style scoped>\n",
              "    .dataframe tbody tr th:only-of-type {\n",
              "        vertical-align: middle;\n",
              "    }\n",
              "\n",
              "    .dataframe tbody tr th {\n",
              "        vertical-align: top;\n",
              "    }\n",
              "\n",
              "    .dataframe thead th {\n",
              "        text-align: right;\n",
              "    }\n",
              "</style>\n",
              "<table border=\"1\" class=\"dataframe\">\n",
              "  <thead>\n",
              "    <tr style=\"text-align: right;\">\n",
              "      <th></th>\n",
              "      <th>image_name</th>\n",
              "      <th>tags</th>\n",
              "    </tr>\n",
              "  </thead>\n",
              "  <tbody>\n",
              "    <tr>\n",
              "      <th>0</th>\n",
              "      <td>train_0</td>\n",
              "      <td>haze primary</td>\n",
              "    </tr>\n",
              "    <tr>\n",
              "      <th>1</th>\n",
              "      <td>train_1</td>\n",
              "      <td>agriculture clear primary water</td>\n",
              "    </tr>\n",
              "    <tr>\n",
              "      <th>2</th>\n",
              "      <td>train_2</td>\n",
              "      <td>clear primary</td>\n",
              "    </tr>\n",
              "    <tr>\n",
              "      <th>3</th>\n",
              "      <td>train_3</td>\n",
              "      <td>clear primary</td>\n",
              "    </tr>\n",
              "    <tr>\n",
              "      <th>4</th>\n",
              "      <td>train_4</td>\n",
              "      <td>agriculture clear habitation primary road</td>\n",
              "    </tr>\n",
              "  </tbody>\n",
              "</table>\n",
              "</div>"
            ],
            "text/plain": [
              "  image_name                                       tags\n",
              "0    train_0                               haze primary\n",
              "1    train_1            agriculture clear primary water\n",
              "2    train_2                              clear primary\n",
              "3    train_3                              clear primary\n",
              "4    train_4  agriculture clear habitation primary road"
            ]
          },
          "metadata": {
            "tags": []
          },
          "execution_count": 3
        }
      ]
    },
    {
      "cell_type": "code",
      "metadata": {
        "id": "rgiuAlC-1xEu",
        "colab_type": "code",
        "outputId": "6faecc22-390b-4c0a-a83f-01ac287cc15d",
        "colab": {
          "base_uri": "https://localhost:8080/",
          "height": 204
        }
      },
      "source": [
        "df_test = pd.read_csv(\"/content/drive/My Drive/Datasets/amazon_dataset/sample_submission_v2.csv\")\n",
        "df_test.head()"
      ],
      "execution_count": 4,
      "outputs": [
        {
          "output_type": "execute_result",
          "data": {
            "text/html": [
              "<div>\n",
              "<style scoped>\n",
              "    .dataframe tbody tr th:only-of-type {\n",
              "        vertical-align: middle;\n",
              "    }\n",
              "\n",
              "    .dataframe tbody tr th {\n",
              "        vertical-align: top;\n",
              "    }\n",
              "\n",
              "    .dataframe thead th {\n",
              "        text-align: right;\n",
              "    }\n",
              "</style>\n",
              "<table border=\"1\" class=\"dataframe\">\n",
              "  <thead>\n",
              "    <tr style=\"text-align: right;\">\n",
              "      <th></th>\n",
              "      <th>image_name</th>\n",
              "      <th>tags</th>\n",
              "    </tr>\n",
              "  </thead>\n",
              "  <tbody>\n",
              "    <tr>\n",
              "      <th>0</th>\n",
              "      <td>test_0</td>\n",
              "      <td>primary clear agriculture road water</td>\n",
              "    </tr>\n",
              "    <tr>\n",
              "      <th>1</th>\n",
              "      <td>test_1</td>\n",
              "      <td>primary clear agriculture road water</td>\n",
              "    </tr>\n",
              "    <tr>\n",
              "      <th>2</th>\n",
              "      <td>test_2</td>\n",
              "      <td>primary clear agriculture road water</td>\n",
              "    </tr>\n",
              "    <tr>\n",
              "      <th>3</th>\n",
              "      <td>test_3</td>\n",
              "      <td>primary clear agriculture road water</td>\n",
              "    </tr>\n",
              "    <tr>\n",
              "      <th>4</th>\n",
              "      <td>test_4</td>\n",
              "      <td>primary clear agriculture road water</td>\n",
              "    </tr>\n",
              "  </tbody>\n",
              "</table>\n",
              "</div>"
            ],
            "text/plain": [
              "  image_name                                  tags\n",
              "0     test_0  primary clear agriculture road water\n",
              "1     test_1  primary clear agriculture road water\n",
              "2     test_2  primary clear agriculture road water\n",
              "3     test_3  primary clear agriculture road water\n",
              "4     test_4  primary clear agriculture road water"
            ]
          },
          "metadata": {
            "tags": []
          },
          "execution_count": 4
        }
      ]
    },
    {
      "cell_type": "code",
      "metadata": {
        "id": "fDXFuGScacoh",
        "colab_type": "code",
        "colab": {}
      },
      "source": [
        "auth.authenticate_user()\n",
        "gauth = GoogleAuth()\n",
        "gauth.credentials = GoogleCredentials.get_application_default()\n",
        "drive = GoogleDrive(gauth)\n",
        "link = 'https://drive.google.com/open?id=1SCTIHfKATPoStPtXXs7QLLZysMIzHIFs'\n",
        "fluff, id = link.split('=')\n",
        "\n",
        "downloaded = drive.CreateFile({'id':id})\n",
        "downloaded.GetContentFile('train-jpg.zip')\n",
        "\n",
        "with zipfile.ZipFile('train-jpg.zip', 'r') as zip_ref:\n",
        "    zip_ref.extractall()\n"
      ],
      "execution_count": 0,
      "outputs": []
    },
    {
      "cell_type": "code",
      "metadata": {
        "id": "dOJOsCgMlGJR",
        "colab_type": "code",
        "colab": {}
      },
      "source": [
        "x_train = []\n",
        "y_train = []\n",
        "\n",
        "labels = df_train['tags'].str.get_dummies(sep=' ').columns"
      ],
      "execution_count": 0,
      "outputs": []
    },
    {
      "cell_type": "code",
      "metadata": {
        "id": "xj8U7taqlSlC",
        "colab_type": "code",
        "outputId": "19e90022-e68b-4886-8cf5-8048b700c275",
        "colab": {
          "base_uri": "https://localhost:8080/",
          "height": 306
        }
      },
      "source": [
        "label_map = {l: i for i, l in enumerate(labels)}\n",
        "inv_label_map = {i: l for l, i in label_map.items()}\n",
        "inv_label_map"
      ],
      "execution_count": 7,
      "outputs": [
        {
          "output_type": "execute_result",
          "data": {
            "text/plain": [
              "{0: 'agriculture',\n",
              " 1: 'artisinal_mine',\n",
              " 2: 'bare_ground',\n",
              " 3: 'blooming',\n",
              " 4: 'blow_down',\n",
              " 5: 'clear',\n",
              " 6: 'cloudy',\n",
              " 7: 'conventional_mine',\n",
              " 8: 'cultivation',\n",
              " 9: 'habitation',\n",
              " 10: 'haze',\n",
              " 11: 'partly_cloudy',\n",
              " 12: 'primary',\n",
              " 13: 'road',\n",
              " 14: 'selective_logging',\n",
              " 15: 'slash_burn',\n",
              " 16: 'water'}"
            ]
          },
          "metadata": {
            "tags": []
          },
          "execution_count": 7
        }
      ]
    },
    {
      "cell_type": "code",
      "metadata": {
        "id": "YWdjLVKKlVS1",
        "colab_type": "code",
        "outputId": "1e9364a1-b268-4eb0-a32f-69f91c22e680",
        "colab": {
          "base_uri": "https://localhost:8080/",
          "height": 34
        }
      },
      "source": [
        "for f, tags in tqdm(df_train.values, miniters=1000):\n",
        "    img = cv2.imread('train-jpg/{}.jpg'.format(f))\n",
        "    targets = np.zeros(17)\n",
        "    for t in tags.split(' '):\n",
        "        targets[label_map[t]] = 1 \n",
        "    x_train.append(cv2.resize(img, (32, 32)))\n",
        "    y_train.append(targets)\n",
        "\n",
        "x_train = np.array(x_train, np.float16) / 255.\n",
        "y_train = np.array(y_train, np.uint8)"
      ],
      "execution_count": 8,
      "outputs": [
        {
          "output_type": "stream",
          "text": [
            "100%|██████████| 40479/40479 [00:48<00:00, 843.23it/s]\n"
          ],
          "name": "stderr"
        }
      ]
    },
    {
      "cell_type": "code",
      "metadata": {
        "id": "iJkYsG2812Rc",
        "colab_type": "code",
        "colab": {}
      },
      "source": [
        "link = 'https://drive.google.com/open?id=1Mho1wcWEPSb32_uevJfmrUYQFSD9921G'\n",
        "fluff, id = link.split('=')\n",
        "\n",
        "downloaded = drive.CreateFile({'id':id}) \n",
        "downloaded.GetContentFile('test-jpg.zip')\n",
        "\n",
        "with zipfile.ZipFile('test-jpg.zip', 'r') as zip_ref:\n",
        "    zip_ref.extractall()"
      ],
      "execution_count": 0,
      "outputs": []
    },
    {
      "cell_type": "code",
      "metadata": {
        "id": "V8J8b0htpGT1",
        "colab_type": "code",
        "colab": {}
      },
      "source": [
        "x_test = []\n",
        "y_test = []"
      ],
      "execution_count": 0,
      "outputs": []
    },
    {
      "cell_type": "code",
      "metadata": {
        "id": "1O8I7--Z13i_",
        "colab_type": "code",
        "outputId": "e01b0754-9823-42de-bdac-a9d5d7ce1996",
        "colab": {
          "base_uri": "https://localhost:8080/",
          "height": 34
        }
      },
      "source": [
        "for f, tags in tqdm(df_train.values, miniters=1000):\n",
        "  try:\n",
        "    img = cv2.imread('test-jpg/{}.jpg'.format(f))\n",
        "    targets = np.zeros(17)\n",
        "    for t in tags.split(' '):\n",
        "        targets[label_map[t]] = 1 \n",
        "    x_test.append(cv2.resize(img, (32, 32)))\n",
        "    y_test.append(targets)\n",
        "  except:\n",
        "    continue\n",
        "    \n",
        "x_test = np.array(x_test, np.float16) / 255.\n",
        "y_test = np.array(y_test, np.uint8)"
      ],
      "execution_count": 11,
      "outputs": [
        {
          "output_type": "stream",
          "text": [
            "100%|██████████| 40479/40479 [00:02<00:00, 15689.86it/s]\n"
          ],
          "name": "stderr"
        }
      ]
    },
    {
      "cell_type": "code",
      "metadata": {
        "id": "PKDNjlXo7jEK",
        "colab_type": "code",
        "outputId": "23186176-8d7b-4182-a05b-1f9eebb1fdb6",
        "colab": {
          "base_uri": "https://localhost:8080/",
          "height": 34
        }
      },
      "source": [
        "dataSplit = 35000\n",
        "x_train, x_valid, y_train, y_valid = x_train[:dataSplit], x_train[dataSplit:], y_train[:dataSplit], y_train[dataSplit:]\n",
        "print(x_train.shape, x_valid.shape, y_train.shape, y_valid.shape)"
      ],
      "execution_count": 12,
      "outputs": [
        {
          "output_type": "stream",
          "text": [
            "(35000, 32, 32, 3) (5479, 32, 32, 3) (35000, 17) (5479, 17)\n"
          ],
          "name": "stdout"
        }
      ]
    },
    {
      "cell_type": "code",
      "metadata": {
        "id": "Gw_1SAKE7yde",
        "colab_type": "code",
        "colab": {}
      },
      "source": [
        "def amazon_model():\n",
        "  model_1 = Sequential()\n",
        "  model_1.add(Conv2D(32, kernel_size=(3, 3), activation='relu', input_shape=(32, 32, 3)))\n",
        "  model_1.add(Conv2D(64, (3, 3), activation='relu'))\n",
        "  model_1.add(MaxPooling2D(pool_size=(2, 2)))\n",
        "  model_1.add(Dropout(0.25))\n",
        "  model_1.add(Flatten())\n",
        "  model_1.add(Dense(128, activation='relu'))\n",
        "  model_1.add(Dropout(0.5))\n",
        "  model_1.add(Dense(17, activation='sigmoid'))\n",
        "  return model_1\n"
      ],
      "execution_count": 0,
      "outputs": []
    },
    {
      "cell_type": "code",
      "metadata": {
        "id": "qFoIJxmaA0KE",
        "colab_type": "code",
        "outputId": "792890ec-7c27-4f0f-ce42-32ff6c87ce14",
        "colab": {
          "base_uri": "https://localhost:8080/",
          "height": 425
        }
      },
      "source": [
        "model = amazon_model()\n",
        "model.summary()"
      ],
      "execution_count": 14,
      "outputs": [
        {
          "output_type": "stream",
          "text": [
            "Model: \"sequential_1\"\n",
            "_________________________________________________________________\n",
            "Layer (type)                 Output Shape              Param #   \n",
            "=================================================================\n",
            "conv2d_1 (Conv2D)            (None, 30, 30, 32)        896       \n",
            "_________________________________________________________________\n",
            "conv2d_2 (Conv2D)            (None, 28, 28, 64)        18496     \n",
            "_________________________________________________________________\n",
            "max_pooling2d_1 (MaxPooling2 (None, 14, 14, 64)        0         \n",
            "_________________________________________________________________\n",
            "dropout_1 (Dropout)          (None, 14, 14, 64)        0         \n",
            "_________________________________________________________________\n",
            "flatten_1 (Flatten)          (None, 12544)             0         \n",
            "_________________________________________________________________\n",
            "dense_1 (Dense)              (None, 128)               1605760   \n",
            "_________________________________________________________________\n",
            "dropout_2 (Dropout)          (None, 128)               0         \n",
            "_________________________________________________________________\n",
            "dense_2 (Dense)              (None, 17)                2193      \n",
            "=================================================================\n",
            "Total params: 1,627,345\n",
            "Trainable params: 1,627,345\n",
            "Non-trainable params: 0\n",
            "_________________________________________________________________\n"
          ],
          "name": "stdout"
        }
      ]
    },
    {
      "cell_type": "code",
      "metadata": {
        "id": "FAvLYBjb7zgJ",
        "colab_type": "code",
        "colab": {}
      },
      "source": [
        "model.compile(loss='binary_crossentropy', optimizer='adam', metrics=['accuracy'])"
      ],
      "execution_count": 0,
      "outputs": []
    },
    {
      "cell_type": "code",
      "metadata": {
        "id": "rqMYVJnU72EW",
        "colab_type": "code",
        "outputId": "621fd950-1f0f-4e22-a6d2-9326e554cf76",
        "colab": {
          "base_uri": "https://localhost:8080/",
          "height": 173
        }
      },
      "source": [
        "model.fit(x_train, y_train, batch_size=128, epochs=3, verbose=1, validation_data=(x_valid, y_valid))"
      ],
      "execution_count": 16,
      "outputs": [
        {
          "output_type": "stream",
          "text": [
            "Train on 35000 samples, validate on 5479 samples\n",
            "Epoch 1/3\n",
            "35000/35000 [==============================] - 4s 122us/step - loss: 0.2520 - accuracy: 0.9037 - val_loss: 0.1990 - val_accuracy: 0.9211\n",
            "Epoch 2/3\n",
            "35000/35000 [==============================] - 3s 78us/step - loss: 0.2023 - accuracy: 0.9215 - val_loss: 0.1849 - val_accuracy: 0.9266\n",
            "Epoch 3/3\n",
            "35000/35000 [==============================] - 3s 80us/step - loss: 0.1886 - accuracy: 0.9262 - val_loss: 0.1732 - val_accuracy: 0.9318\n"
          ],
          "name": "stdout"
        },
        {
          "output_type": "execute_result",
          "data": {
            "text/plain": [
              "<keras.callbacks.callbacks.History at 0x7f01d04c8f60>"
            ]
          },
          "metadata": {
            "tags": []
          },
          "execution_count": 16
        }
      ]
    },
    {
      "cell_type": "code",
      "metadata": {
        "id": "vqgBqzGeqKmD",
        "colab_type": "code",
        "colab": {}
      },
      "source": [
        "from keras.callbacks import TensorBoard\n",
        "\n",
        "import tensorflow as tf\n",
        "import datetime\n",
        "\n",
        "!rm -rf ./logs/ "
      ],
      "execution_count": 0,
      "outputs": []
    },
    {
      "cell_type": "code",
      "metadata": {
        "id": "eLz9Jrh8-5MQ",
        "colab_type": "code",
        "colab": {}
      },
      "source": [
        "logdir = os.path.join(\"logs\", datetime.datetime.now().strftime(\"%Y%m%d-%H%M%S\"))\n",
        "tensorboard_callback = TensorBoard(log_dir=logdir, histogram_freq=1)"
      ],
      "execution_count": 0,
      "outputs": []
    },
    {
      "cell_type": "code",
      "metadata": {
        "id": "CEsHasC-RtAG",
        "colab_type": "code",
        "colab": {}
      },
      "source": [
        "model.compile(loss='binary_crossentropy', optimizer='adam', metrics=['accuracy'])"
      ],
      "execution_count": 0,
      "outputs": []
    },
    {
      "cell_type": "code",
      "metadata": {
        "id": "0rHtBKBySMER",
        "colab_type": "code",
        "colab": {
          "base_uri": "https://localhost:8080/",
          "height": 173
        },
        "outputId": "47b71a77-0176-414a-9e86-34db743c6353"
      },
      "source": [
        "model.fit(x_train, y_train, batch_size=128, epochs=3, verbose=1, validation_data=(x_valid, y_valid))"
      ],
      "execution_count": 20,
      "outputs": [
        {
          "output_type": "stream",
          "text": [
            "Train on 35000 samples, validate on 5479 samples\n",
            "Epoch 1/3\n",
            "35000/35000 [==============================] - 3s 90us/step - loss: 0.1801 - accuracy: 0.9298 - val_loss: 0.1663 - val_accuracy: 0.9333\n",
            "Epoch 2/3\n",
            "35000/35000 [==============================] - 3s 82us/step - loss: 0.1757 - accuracy: 0.9312 - val_loss: 0.1623 - val_accuracy: 0.9359\n",
            "Epoch 3/3\n",
            "35000/35000 [==============================] - 3s 83us/step - loss: 0.1712 - accuracy: 0.9328 - val_loss: 0.1612 - val_accuracy: 0.9362\n"
          ],
          "name": "stdout"
        },
        {
          "output_type": "execute_result",
          "data": {
            "text/plain": [
              "<keras.callbacks.callbacks.History at 0x7f01d03e9da0>"
            ]
          },
          "metadata": {
            "tags": []
          },
          "execution_count": 20
        }
      ]
    },
    {
      "cell_type": "markdown",
      "metadata": {
        "id": "WaSO716fTuQk",
        "colab_type": "text"
      },
      "source": [
        "Trying Hyperparameter Tuning by adding extra layers"
      ]
    },
    {
      "cell_type": "code",
      "metadata": {
        "id": "jMXVr1zUTtyd",
        "colab_type": "code",
        "colab": {}
      },
      "source": [
        "def amazon_model_2():\n",
        "  model_2 = Sequential()\n",
        "  model_2.add(Conv2D(64, (3, 3), input_shape=(32, 32, 3),activation='relu'))\n",
        "  model_2.add(MaxPooling2D(pool_size=(2, 2)))\n",
        "  model_2.add(Conv2D(32, (3, 3), activation='relu'))\n",
        "  model_2.add(MaxPooling2D(pool_size=(2, 2)))\n",
        "  model_2.add(Flatten())\n",
        "  model_2.add(Dense(units=128, activation='relu'))\n",
        "  model_2.add(Dropout(0.5))\n",
        "  model_2.add(Dense(units=128, activation='relu'))\n",
        "  model_2.add(Dropout(0.3))\n",
        "  model_2.add(Dense(units=17, activation='sigmoid'))\n",
        "  return model_2"
      ],
      "execution_count": 0,
      "outputs": []
    },
    {
      "cell_type": "code",
      "metadata": {
        "id": "htjSm1rgUbXB",
        "colab_type": "code",
        "colab": {
          "base_uri": "https://localhost:8080/",
          "height": 493
        },
        "outputId": "05b72fcf-d81c-46dd-ac2a-509a5bfb3c8b"
      },
      "source": [
        "model_2 = amazon_model_2()\n",
        "model_2.summary()"
      ],
      "execution_count": 22,
      "outputs": [
        {
          "output_type": "stream",
          "text": [
            "Model: \"sequential_2\"\n",
            "_________________________________________________________________\n",
            "Layer (type)                 Output Shape              Param #   \n",
            "=================================================================\n",
            "conv2d_3 (Conv2D)            (None, 30, 30, 64)        1792      \n",
            "_________________________________________________________________\n",
            "max_pooling2d_2 (MaxPooling2 (None, 15, 15, 64)        0         \n",
            "_________________________________________________________________\n",
            "conv2d_4 (Conv2D)            (None, 13, 13, 32)        18464     \n",
            "_________________________________________________________________\n",
            "max_pooling2d_3 (MaxPooling2 (None, 6, 6, 32)          0         \n",
            "_________________________________________________________________\n",
            "flatten_2 (Flatten)          (None, 1152)              0         \n",
            "_________________________________________________________________\n",
            "dense_3 (Dense)              (None, 128)               147584    \n",
            "_________________________________________________________________\n",
            "dropout_3 (Dropout)          (None, 128)               0         \n",
            "_________________________________________________________________\n",
            "dense_4 (Dense)              (None, 128)               16512     \n",
            "_________________________________________________________________\n",
            "dropout_4 (Dropout)          (None, 128)               0         \n",
            "_________________________________________________________________\n",
            "dense_5 (Dense)              (None, 17)                2193      \n",
            "=================================================================\n",
            "Total params: 186,545\n",
            "Trainable params: 186,545\n",
            "Non-trainable params: 0\n",
            "_________________________________________________________________\n"
          ],
          "name": "stdout"
        }
      ]
    },
    {
      "cell_type": "code",
      "metadata": {
        "id": "g4l_UxP4U9US",
        "colab_type": "code",
        "colab": {
          "base_uri": "https://localhost:8080/",
          "height": 241
        },
        "outputId": "a39738e7-6122-4b26-8782-975a93aaf7a0"
      },
      "source": [
        "model_2.compile(loss='binary_crossentropy', optimizer='sgd', metrics=['accuracy'])\n",
        "model_2.fit(x_train, y_train,batch_size=128,epochs=5,verbose=1,validation_data=(x_valid, y_valid),callbacks=[tensorboard_callback])"
      ],
      "execution_count": 23,
      "outputs": [
        {
          "output_type": "stream",
          "text": [
            "Train on 35000 samples, validate on 5479 samples\n",
            "Epoch 1/5\n",
            "35000/35000 [==============================] - 3s 74us/step - loss: 0.5850 - accuracy: 0.7579 - val_loss: 0.3452 - val_accuracy: 0.9056\n",
            "Epoch 2/5\n",
            "35000/35000 [==============================] - 2s 65us/step - loss: 0.3576 - accuracy: 0.8800 - val_loss: 0.2862 - val_accuracy: 0.9056\n",
            "Epoch 3/5\n",
            "35000/35000 [==============================] - 2s 64us/step - loss: 0.3228 - accuracy: 0.8910 - val_loss: 0.2763 - val_accuracy: 0.9056\n",
            "Epoch 4/5\n",
            "35000/35000 [==============================] - 2s 65us/step - loss: 0.3062 - accuracy: 0.8955 - val_loss: 0.2670 - val_accuracy: 0.9056\n",
            "Epoch 5/5\n",
            "35000/35000 [==============================] - 2s 67us/step - loss: 0.2916 - accuracy: 0.8989 - val_loss: 0.2575 - val_accuracy: 0.9056\n"
          ],
          "name": "stdout"
        },
        {
          "output_type": "execute_result",
          "data": {
            "text/plain": [
              "<keras.callbacks.callbacks.History at 0x7f01d01a36d8>"
            ]
          },
          "metadata": {
            "tags": []
          },
          "execution_count": 23
        }
      ]
    },
    {
      "cell_type": "code",
      "metadata": {
        "id": "uYtJAKd4X65F",
        "colab_type": "code",
        "colab": {
          "base_uri": "https://localhost:8080/",
          "height": 411
        },
        "outputId": "9119e93b-95dd-46c3-c92d-d1689356b256"
      },
      "source": [
        "model_3 = amazon_model_2()\n",
        "model_3.compile(loss='binary_crossentropy', optimizer='adam', metrics=['accuracy'])\n",
        "model_3.fit(x_train, y_train,batch_size=128,epochs=10,verbose=1,validation_data=(x_valid, y_valid),callbacks=[tensorboard_callback])"
      ],
      "execution_count": 24,
      "outputs": [
        {
          "output_type": "stream",
          "text": [
            "Train on 35000 samples, validate on 5479 samples\n",
            "Epoch 1/10\n",
            "35000/35000 [==============================] - 3s 84us/step - loss: 0.2686 - accuracy: 0.8987 - val_loss: 0.2174 - val_accuracy: 0.9164\n",
            "Epoch 2/10\n",
            "35000/35000 [==============================] - 3s 75us/step - loss: 0.2170 - accuracy: 0.9156 - val_loss: 0.2022 - val_accuracy: 0.9194\n",
            "Epoch 3/10\n",
            "35000/35000 [==============================] - 3s 75us/step - loss: 0.2043 - accuracy: 0.9184 - val_loss: 0.1955 - val_accuracy: 0.9223\n",
            "Epoch 4/10\n",
            "35000/35000 [==============================] - 3s 73us/step - loss: 0.1910 - accuracy: 0.9242 - val_loss: 0.1742 - val_accuracy: 0.9311\n",
            "Epoch 5/10\n",
            "35000/35000 [==============================] - 3s 74us/step - loss: 0.1808 - accuracy: 0.9286 - val_loss: 0.1696 - val_accuracy: 0.9333\n",
            "Epoch 6/10\n",
            "35000/35000 [==============================] - 3s 74us/step - loss: 0.1747 - accuracy: 0.9312 - val_loss: 0.1627 - val_accuracy: 0.9362\n",
            "Epoch 7/10\n",
            "35000/35000 [==============================] - 3s 73us/step - loss: 0.1706 - accuracy: 0.9325 - val_loss: 0.1593 - val_accuracy: 0.9372\n",
            "Epoch 8/10\n",
            "35000/35000 [==============================] - 3s 74us/step - loss: 0.1673 - accuracy: 0.9339 - val_loss: 0.1587 - val_accuracy: 0.9375\n",
            "Epoch 9/10\n",
            "35000/35000 [==============================] - 3s 74us/step - loss: 0.1640 - accuracy: 0.9352 - val_loss: 0.1552 - val_accuracy: 0.9387\n",
            "Epoch 10/10\n",
            "35000/35000 [==============================] - 3s 73us/step - loss: 0.1621 - accuracy: 0.9362 - val_loss: 0.1575 - val_accuracy: 0.9373\n"
          ],
          "name": "stdout"
        },
        {
          "output_type": "execute_result",
          "data": {
            "text/plain": [
              "<keras.callbacks.callbacks.History at 0x7f0180248e80>"
            ]
          },
          "metadata": {
            "tags": []
          },
          "execution_count": 24
        }
      ]
    },
    {
      "cell_type": "code",
      "metadata": {
        "id": "mkLHXavoYxaP",
        "colab_type": "code",
        "colab": {}
      },
      "source": [
        "def amazon_model_3():\n",
        "  model_4 = Sequential()\n",
        "  model_4.add(Conv2D(64, (3, 3), input_shape=(32, 32, 3),activation='relu'))\n",
        "  model_4.add(MaxPooling2D(pool_size=(2, 2)))\n",
        "  model_4.add(Conv2D(32, (3, 3), activation='relu'))\n",
        "  model_4.add(MaxPooling2D(pool_size=(2, 2)))\n",
        "  model_4.add(Flatten())\n",
        "  model_4.add(Dense(units=128, activation='selu'))\n",
        "  model_4.add(Dropout(0.5))\n",
        "  model_4.add(Dense(units=128, activation='relu'))\n",
        "  model_4.add(Dropout(0.3))\n",
        "  model_4.add(Dense(units=17, activation='sigmoid'))\n",
        "  return model_4\n"
      ],
      "execution_count": 0,
      "outputs": []
    },
    {
      "cell_type": "code",
      "metadata": {
        "id": "haJbA0uIZJCE",
        "colab_type": "code",
        "colab": {
          "base_uri": "https://localhost:8080/",
          "height": 411
        },
        "outputId": "41cf0784-6bb6-4170-ff2c-ca83f00fac31"
      },
      "source": [
        "model_4 = amazon_model_3()\n",
        "model_4.compile(loss='binary_crossentropy', optimizer='adam', metrics=['accuracy'])\n",
        "model_4.fit(x_train, y_train,batch_size=128,epochs=10,verbose=1,validation_data=(x_valid, y_valid),callbacks=[tensorboard_callback])"
      ],
      "execution_count": 26,
      "outputs": [
        {
          "output_type": "stream",
          "text": [
            "Train on 35000 samples, validate on 5479 samples\n",
            "Epoch 1/10\n",
            "35000/35000 [==============================] - 3s 84us/step - loss: 0.2558 - accuracy: 0.9031 - val_loss: 0.2057 - val_accuracy: 0.9181\n",
            "Epoch 2/10\n",
            "35000/35000 [==============================] - 3s 73us/step - loss: 0.2071 - accuracy: 0.9180 - val_loss: 0.1922 - val_accuracy: 0.9245\n",
            "Epoch 3/10\n",
            "35000/35000 [==============================] - 3s 73us/step - loss: 0.1918 - accuracy: 0.9238 - val_loss: 0.1777 - val_accuracy: 0.9297\n",
            "Epoch 4/10\n",
            "35000/35000 [==============================] - 3s 77us/step - loss: 0.1825 - accuracy: 0.9277 - val_loss: 0.1738 - val_accuracy: 0.9309\n",
            "Epoch 5/10\n",
            "35000/35000 [==============================] - 3s 77us/step - loss: 0.1764 - accuracy: 0.9303 - val_loss: 0.1654 - val_accuracy: 0.9339\n",
            "Epoch 6/10\n",
            "35000/35000 [==============================] - 3s 77us/step - loss: 0.1704 - accuracy: 0.9326 - val_loss: 0.1640 - val_accuracy: 0.9346\n",
            "Epoch 7/10\n",
            "35000/35000 [==============================] - 3s 78us/step - loss: 0.1676 - accuracy: 0.9335 - val_loss: 0.1596 - val_accuracy: 0.9372\n",
            "Epoch 8/10\n",
            "35000/35000 [==============================] - 3s 76us/step - loss: 0.1643 - accuracy: 0.9351 - val_loss: 0.1596 - val_accuracy: 0.9371\n",
            "Epoch 9/10\n",
            "35000/35000 [==============================] - 3s 75us/step - loss: 0.1618 - accuracy: 0.9362 - val_loss: 0.1539 - val_accuracy: 0.9389\n",
            "Epoch 10/10\n",
            "35000/35000 [==============================] - 3s 73us/step - loss: 0.1586 - accuracy: 0.9376 - val_loss: 0.1515 - val_accuracy: 0.9400\n"
          ],
          "name": "stdout"
        },
        {
          "output_type": "execute_result",
          "data": {
            "text/plain": [
              "<keras.callbacks.callbacks.History at 0x7f01698483c8>"
            ]
          },
          "metadata": {
            "tags": []
          },
          "execution_count": 26
        }
      ]
    },
    {
      "cell_type": "code",
      "metadata": {
        "id": "MlRO28qP8qZ0",
        "colab_type": "code",
        "outputId": "aa4377bc-9152-4ca1-8c21-9b98997483db",
        "colab": {
          "base_uri": "https://localhost:8080/",
          "height": 632
        }
      },
      "source": [
        "!tensorboard dev upload --logdir logs"
      ],
      "execution_count": 29,
      "outputs": [
        {
          "output_type": "stream",
          "text": [
            "2020-05-16 07:51:01.952831: I tensorflow/stream_executor/platform/default/dso_loader.cc:44] Successfully opened dynamic library libcudart.so.10.1\n",
            "Data for the \"graphs\" plugin is now uploaded to TensorBoard.dev! Note that uploaded data is public. If you do not want to upload data for this plugin, use the \"--plugins\" command line argument.\n",
            "Upload started and will continue reading any new data as it's added\n",
            "to the logdir. To stop uploading, press Ctrl-C.\n",
            "View your TensorBoard live at: https://tensorboard.dev/experiment/BKgpZs2vT1CjBgC1t5V4iw/\n",
            "E0516 07:51:04.951310 139860142589824 uploader.py:770] Attempted to re-upload existing blob.  Skipping.\n",
            "E0516 07:51:05.951343 139860142589824 uploader.py:770] Attempted to re-upload existing blob.  Skipping.\n",
            "\n",
            "\n",
            "Upload stopped. View your TensorBoard at https://tensorboard.dev/experiment/BKgpZs2vT1CjBgC1t5V4iw/\n",
            "Traceback (most recent call last):\n",
            "  File \"/usr/local/bin/tensorboard\", line 8, in <module>\n",
            "    sys.exit(run_main())\n",
            "  File \"/usr/local/lib/python3.6/dist-packages/tensorboard/main.py\", line 75, in run_main\n",
            "    app.run(tensorboard.main, flags_parser=tensorboard.configure)\n",
            "  File \"/usr/local/lib/python3.6/dist-packages/absl/app.py\", line 299, in run\n",
            "    _run_main(main, args)\n",
            "  File \"/usr/local/lib/python3.6/dist-packages/absl/app.py\", line 250, in _run_main\n",
            "    sys.exit(main(argv))\n",
            "  File \"/usr/local/lib/python3.6/dist-packages/tensorboard/program.py\", line 289, in main\n",
            "    return runner(self.flags) or 0\n",
            "  File \"/usr/local/lib/python3.6/dist-packages/tensorboard/uploader/uploader_main.py\", line 633, in run\n",
            "    return _run(flags)\n",
            "  File \"/usr/local/lib/python3.6/dist-packages/tensorboard/uploader/uploader_main.py\", line 163, in _run\n",
            "    intent.execute(server_info, channel)\n",
            "  File \"/usr/local/lib/python3.6/dist-packages/grpc/_channel.py\", line 1433, in __exit__\n",
            "    self._close()\n",
            "  File \"/usr/local/lib/python3.6/dist-packages/grpc/_channel.py\", line 1421, in _close\n",
            "    self._channel.close(cygrpc.StatusCode.cancelled, 'Channel closed!')\n",
            "  File \"src/python/grpcio/grpc/_cython/_cygrpc/channel.pyx.pxi\", line 513, in grpc._cython.cygrpc.Channel.close\n",
            "  File \"src/python/grpcio/grpc/_cython/_cygrpc/channel.pyx.pxi\", line 397, in grpc._cython.cygrpc._close\n",
            "  File \"src/python/grpcio/grpc/_cython/_cygrpc/channel.pyx.pxi\", line 427, in grpc._cython.cygrpc._close\n",
            "  File \"/usr/lib/python3.6/threading.py\", line 357, in notify_all\n",
            "    def notify_all(self):\n",
            "KeyboardInterrupt\n"
          ],
          "name": "stdout"
        }
      ]
    },
    {
      "cell_type": "code",
      "metadata": {
        "id": "sXs3ympFZpwB",
        "colab_type": "code",
        "colab": {
          "base_uri": "https://localhost:8080/",
          "height": 71
        },
        "outputId": "522f935e-77b1-46dd-ff5b-78bcc1694f76"
      },
      "source": [
        "!tensorboard dev update-metadata --experiment_id 'BKgpZs2vT1CjBgC1t5V4iw' --name \"Keras_amazon_model\" --description \"Model tuning by trying different hyperparameters\""
      ],
      "execution_count": 30,
      "outputs": [
        {
          "output_type": "stream",
          "text": [
            "2020-05-16 07:58:06.534850: I tensorflow/stream_executor/platform/default/dso_loader.cc:44] Successfully opened dynamic library libcudart.so.10.1\n",
            "Data for the \"graphs\" plugin is now uploaded to TensorBoard.dev! Note that uploaded data is public. If you do not want to upload data for this plugin, use the \"--plugins\" command line argument.\n"
          ],
          "name": "stdout"
        }
      ]
    }
  ]
}