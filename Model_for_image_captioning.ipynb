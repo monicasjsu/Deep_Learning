{
  "nbformat": 4,
  "nbformat_minor": 0,
  "metadata": {
    "colab": {
      "name": "Model_for_image_captioning.ipynb",
      "provenance": [],
      "authorship_tag": "ABX9TyO9l8CKtvNq2oh8+0/tOaYz",
      "include_colab_link": true
    },
    "kernelspec": {
      "name": "python3",
      "display_name": "Python 3"
    },
    "accelerator": "GPU"
  },
  "cells": [
    {
      "cell_type": "markdown",
      "metadata": {
        "id": "view-in-github",
        "colab_type": "text"
      },
      "source": [
        "<a href=\"https://colab.research.google.com/github/monicasjsu/deep_learning/blob/master/Model_for_image_captioning.ipynb\" target=\"_parent\"><img src=\"https://colab.research.google.com/assets/colab-badge.svg\" alt=\"Open In Colab\"/></a>"
      ]
    },
    {
      "cell_type": "code",
      "metadata": {
        "id": "wEuxYPGOkS6x",
        "colab_type": "code",
        "colab": {}
      },
      "source": [
        "import tensorflow as tf\n",
        "import matplotlib.pyplot as plt\n",
        "from sklearn.model_selection import train_test_split\n",
        "from sklearn.utils import shuffle\n",
        "\n",
        "import re\n",
        "import numpy as np\n",
        "import os\n",
        "import time\n",
        "import json\n",
        "from glob import glob\n",
        "from PIL import Image\n",
        "import pickle"
      ],
      "execution_count": 0,
      "outputs": []
    },
    {
      "cell_type": "code",
      "metadata": {
        "id": "L5Jm91eilN7E",
        "colab_type": "code",
        "colab": {
          "base_uri": "https://localhost:8080/",
          "height": 85
        },
        "outputId": "d821f7a5-0ff9-4445-c810-eb4a84f05ad4"
      },
      "source": [
        "# Download caption annotation files\n",
        "annotation_folder = '/annotations/'\n",
        "if not os.path.exists(os.path.abspath('.') + annotation_folder):\n",
        "  annotation_zip = tf.keras.utils.get_file('captions.zip',\n",
        "                                          cache_subdir=os.path.abspath('.'),\n",
        "                                          origin = 'http://images.cocodataset.org/annotations/annotations_trainval2014.zip',\n",
        "                                          extract = True)\n",
        "  annotation_file = os.path.dirname(annotation_zip)+'/annotations/captions_train2014.json'\n",
        "  os.remove(annotation_zip)\n",
        "\n",
        "# Download image files\n",
        "image_folder = '/train2014/'\n",
        "if not os.path.exists(os.path.abspath('.') + image_folder):\n",
        "  image_zip = tf.keras.utils.get_file('train2014.zip',\n",
        "                                      cache_subdir=os.path.abspath('.'),\n",
        "                                      origin = 'http://images.cocodataset.org/zips/train2014.zip',\n",
        "                                      extract = True)\n",
        "  PATH = os.path.dirname(image_zip) + image_folder\n",
        "  os.remove(image_zip)\n",
        "else:\n",
        "  PATH = os.path.abspath('.') + image_folder"
      ],
      "execution_count": 3,
      "outputs": [
        {
          "output_type": "stream",
          "text": [
            "Downloading data from http://images.cocodataset.org/annotations/annotations_trainval2014.zip\n",
            "252878848/252872794 [==============================] - 8s 0us/step\n",
            "Downloading data from http://images.cocodataset.org/zips/train2014.zip\n",
            "13510574080/13510573713 [==============================] - 382s 0us/step\n"
          ],
          "name": "stdout"
        }
      ]
    },
    {
      "cell_type": "code",
      "metadata": {
        "id": "QmR1VfD5lXD6",
        "colab_type": "code",
        "colab": {}
      },
      "source": [
        "# Read the json file\n",
        "with open(annotation_file, 'r') as f:\n",
        "    annotations = json.load(f)\n",
        "\n",
        "# Store captions and image names in vectors\n",
        "all_captions = []\n",
        "all_img_name_vector = []\n",
        "\n",
        "for annot in annotations['annotations']:\n",
        "    caption = '<start> ' + annot['caption'] + ' <end>'\n",
        "    image_id = annot['image_id']\n",
        "    full_coco_image_path = PATH + 'COCO_train2014_' + '%012d.jpg' % (image_id)\n",
        "\n",
        "    all_img_name_vector.append(full_coco_image_path)\n",
        "    all_captions.append(caption)\n",
        "\n",
        "# Shuffle captions and image_names together\n",
        "# Set a random state\n",
        "train_captions, img_name_vector = shuffle(all_captions,\n",
        "                                          all_img_name_vector,\n",
        "                                          random_state=1)\n",
        "\n",
        "# Select the first 30000 captions from the shuffled set\n",
        "num_examples = 30000\n",
        "train_captions = train_captions[:num_examples]\n",
        "img_name_vector = img_name_vector[:num_examples]"
      ],
      "execution_count": 0,
      "outputs": []
    },
    {
      "cell_type": "code",
      "metadata": {
        "id": "MjM91MsQlZZm",
        "colab_type": "code",
        "colab": {
          "base_uri": "https://localhost:8080/",
          "height": 34
        },
        "outputId": "8a82497e-f4ec-489e-822a-6e60dfb2d8fc"
      },
      "source": [
        "len(train_captions), len(all_captions)"
      ],
      "execution_count": 5,
      "outputs": [
        {
          "output_type": "execute_result",
          "data": {
            "text/plain": [
              "(30000, 414113)"
            ]
          },
          "metadata": {
            "tags": []
          },
          "execution_count": 5
        }
      ]
    },
    {
      "cell_type": "code",
      "metadata": {
        "id": "5tSmfjV9noKz",
        "colab_type": "code",
        "colab": {}
      },
      "source": [
        "def load_image(image_path):\n",
        "    img = tf.io.read_file(image_path)\n",
        "    img = tf.image.decode_jpeg(img, channels=3)\n",
        "    img = tf.image.resize(img, (299, 299))\n",
        "    img = tf.keras.applications.inception_v3.preprocess_input(img)\n",
        "    return img, image_path"
      ],
      "execution_count": 0,
      "outputs": []
    },
    {
      "cell_type": "code",
      "metadata": {
        "id": "JkofWb3unqYZ",
        "colab_type": "code",
        "colab": {
          "base_uri": "https://localhost:8080/",
          "height": 71
        },
        "outputId": "e040b794-1cdb-40ed-ebab-d23c2a70a081"
      },
      "source": [
        "image_model = tf.keras.applications.InceptionV3(include_top=False,\n",
        "                                                weights='imagenet')\n",
        "new_input = image_model.input\n",
        "hidden_layer = image_model.layers[-1].output\n",
        "\n",
        "image_features_extract_model = tf.keras.Model(new_input, hidden_layer)"
      ],
      "execution_count": 7,
      "outputs": [
        {
          "output_type": "stream",
          "text": [
            "Downloading data from https://storage.googleapis.com/tensorflow/keras-applications/inception_v3/inception_v3_weights_tf_dim_ordering_tf_kernels_notop.h5\n",
            "87916544/87910968 [==============================] - 1s 0us/step\n"
          ],
          "name": "stdout"
        }
      ]
    },
    {
      "cell_type": "code",
      "metadata": {
        "id": "bLOJc_LVntiL",
        "colab_type": "code",
        "colab": {}
      },
      "source": [
        "# Get unique images\n",
        "encode_train = sorted(set(img_name_vector))\n",
        "\n",
        "image_dataset = tf.data.Dataset.from_tensor_slices(encode_train)\n",
        "image_dataset = image_dataset.map(\n",
        "  load_image, num_parallel_calls=tf.data.experimental.AUTOTUNE).batch(16)\n",
        "\n",
        "for img, path in image_dataset:\n",
        "  batch_features = image_features_extract_model(img)\n",
        "  batch_features = tf.reshape(batch_features,\n",
        "                              (batch_features.shape[0], -1, batch_features.shape[3]))\n",
        "\n",
        "  for bf, p in zip(batch_features, path):\n",
        "    path_of_feature = p.numpy().decode(\"utf-8\")\n",
        "    np.save(path_of_feature, bf.numpy())"
      ],
      "execution_count": 0,
      "outputs": []
    },
    {
      "cell_type": "code",
      "metadata": {
        "id": "6eCW_CyxnxPF",
        "colab_type": "code",
        "colab": {}
      },
      "source": [
        "# Find the maximum length of any caption in our dataset\n",
        "def calc_max_length(tensor):\n",
        "    return max(len(t) for t in tensor)"
      ],
      "execution_count": 0,
      "outputs": []
    },
    {
      "cell_type": "code",
      "metadata": {
        "id": "M2EQeSZynzuO",
        "colab_type": "code",
        "colab": {}
      },
      "source": [
        "# Choose the top 5000 words from the vocabulary\n",
        "top_k = 5000\n",
        "tokenizer = tf.keras.preprocessing.text.Tokenizer(num_words=top_k,\n",
        "                                                  oov_token=\"<unk>\",\n",
        "                                                  filters='!\"#$%&()*+.,-/:;=?@[\\]^_`{|}~ ')\n",
        "tokenizer.fit_on_texts(train_captions)\n",
        "train_seqs = tokenizer.texts_to_sequences(train_captions)"
      ],
      "execution_count": 0,
      "outputs": []
    },
    {
      "cell_type": "code",
      "metadata": {
        "id": "ZpniIqZ-n1uq",
        "colab_type": "code",
        "colab": {}
      },
      "source": [
        "tokenizer.word_index['<pad>'] = 0\n",
        "tokenizer.index_word[0] = '<pad>'"
      ],
      "execution_count": 0,
      "outputs": []
    },
    {
      "cell_type": "code",
      "metadata": {
        "id": "VWi9Law7n3vY",
        "colab_type": "code",
        "colab": {}
      },
      "source": [
        "# Create the tokenized vectors\n",
        "train_seqs = tokenizer.texts_to_sequences(train_captions)"
      ],
      "execution_count": 0,
      "outputs": []
    },
    {
      "cell_type": "code",
      "metadata": {
        "id": "Z4DB7RyGn7F0",
        "colab_type": "code",
        "colab": {}
      },
      "source": [
        "# Pad each vector to the max_length of the captions\n",
        "# If you do not provide a max_length value, pad_sequences calculates it automatically\n",
        "cap_vector = tf.keras.preprocessing.sequence.pad_sequences(train_seqs, padding='post')"
      ],
      "execution_count": 0,
      "outputs": []
    },
    {
      "cell_type": "code",
      "metadata": {
        "id": "20LEqzKBn86d",
        "colab_type": "code",
        "colab": {}
      },
      "source": [
        "# Calculates the max_length, which is used to store the attention weights\n",
        "max_length = calc_max_length(train_seqs)"
      ],
      "execution_count": 0,
      "outputs": []
    },
    {
      "cell_type": "code",
      "metadata": {
        "id": "ItJhF0RLn-w9",
        "colab_type": "code",
        "colab": {}
      },
      "source": [
        "# Create training and validation sets using an 80-20 split\n",
        "img_name_train, img_name_val, cap_train, cap_val = train_test_split(img_name_vector,\n",
        "                                                                    cap_vector,\n",
        "                                                                    test_size=0.2,\n",
        "                                                                    random_state=0)"
      ],
      "execution_count": 0,
      "outputs": []
    },
    {
      "cell_type": "code",
      "metadata": {
        "id": "QvZQONP1oCh0",
        "colab_type": "code",
        "colab": {
          "base_uri": "https://localhost:8080/",
          "height": 34
        },
        "outputId": "c8debc79-ed8a-4cea-f708-eb1503e302cf"
      },
      "source": [
        "len(img_name_train), len(cap_train), len(img_name_val), len(cap_val)"
      ],
      "execution_count": 16,
      "outputs": [
        {
          "output_type": "execute_result",
          "data": {
            "text/plain": [
              "(24000, 24000, 6000, 6000)"
            ]
          },
          "metadata": {
            "tags": []
          },
          "execution_count": 16
        }
      ]
    },
    {
      "cell_type": "code",
      "metadata": {
        "id": "0LDBC2W5oPzh",
        "colab_type": "code",
        "colab": {}
      },
      "source": [
        "BATCH_SIZE = 32\n",
        "BUFFER_SIZE = 1000\n",
        "embedding_dim = 256\n",
        "units = 512\n",
        "vocab_size = top_k + 1\n",
        "num_steps = len(img_name_train)\n",
        "# Shape of the vector extracted from InceptionV3 is (64, 2048)\n",
        "# These two variables represent that vector shape\n",
        "features_shape = 2048\n",
        "attention_features_shape = 64"
      ],
      "execution_count": 0,
      "outputs": []
    },
    {
      "cell_type": "code",
      "metadata": {
        "id": "9zInrxlVoT6F",
        "colab_type": "code",
        "colab": {}
      },
      "source": [
        "def map_func(img_name, cap):\n",
        "  img_tensor = np.load(img_name.decode('utf-8')+'.npy')\n",
        "  return img_tensor, cap"
      ],
      "execution_count": 0,
      "outputs": []
    },
    {
      "cell_type": "code",
      "metadata": {
        "id": "0axMhsqloVwy",
        "colab_type": "code",
        "colab": {}
      },
      "source": [
        "dataset = tf.data.Dataset.from_tensor_slices((img_name_train, cap_train))\n",
        "\n",
        "# Use map to load the numpy files in parallel\n",
        "dataset = dataset.map(lambda item1, item2: tf.numpy_function(\n",
        "          map_func, [item1, item2], [tf.float32, tf.int32]),\n",
        "          num_parallel_calls=tf.data.experimental.AUTOTUNE)\n",
        "\n",
        "# Shuffle and batch\n",
        "dataset = dataset.shuffle(BUFFER_SIZE).batch(BATCH_SIZE)\n",
        "dataset = dataset.prefetch(buffer_size=tf.data.experimental.AUTOTUNE)"
      ],
      "execution_count": 0,
      "outputs": []
    },
    {
      "cell_type": "code",
      "metadata": {
        "id": "y_mIpBZg9aN-",
        "colab_type": "code",
        "colab": {}
      },
      "source": [
        "class BahdanauAttention(tf.keras.Model):\n",
        "  def __init__(self, units):\n",
        "    super(BahdanauAttention, self).__init__()\n",
        "    self.W1 = tf.keras.layers.Dense(units)\n",
        "    self.W2 = tf.keras.layers.Dense(units)\n",
        "    self.V = tf.keras.layers.Dense(1)\n",
        "\n",
        "  def call(self, features, hidden):\n",
        "    # features(CNN_encoder output) shape == (batch_size, 64, embedding_dim)\n",
        "\n",
        "    # hidden shape == (batch_size, hidden_size)\n",
        "    # hidden_with_time_axis shape == (batch_size, 1, hidden_size)\n",
        "    hidden_with_time_axis = tf.expand_dims(hidden, 1)\n",
        "\n",
        "    # score shape == (batch_size, 64, hidden_size)\n",
        "    score = tf.nn.tanh(self.W1(features) + self.W2(hidden_with_time_axis))\n",
        "\n",
        "    # attention_weights shape == (batch_size, 64, 1)\n",
        "    # you get 1 at the last axis because you are applying score to self.V\n",
        "    attention_weights = tf.nn.softmax(self.V(score), axis=1)\n",
        "\n",
        "    # context_vector shape after sum == (batch_size, hidden_size)\n",
        "    context_vector = attention_weights * features\n",
        "    context_vector = tf.reduce_sum(context_vector, axis=1)\n",
        "\n",
        "    return context_vector, attention_weights"
      ],
      "execution_count": 0,
      "outputs": []
    },
    {
      "cell_type": "code",
      "metadata": {
        "id": "vV5hgyv69b6v",
        "colab_type": "code",
        "colab": {}
      },
      "source": [
        "class CNN_Encoder(tf.keras.Model):\n",
        "    # Since you have already extracted the features and dumped it using pickle\n",
        "    # This encoder passes those features through a Fully connected layer\n",
        "    def __init__(self, embedding_dim):\n",
        "        super(CNN_Encoder, self).__init__()\n",
        "        # shape after fc == (batch_size, 64, embedding_dim)\n",
        "        self.fc = tf.keras.layers.Dense(embedding_dim)\n",
        "\n",
        "    def call(self, x):\n",
        "        x = self.fc(x)\n",
        "        x = tf.nn.relu(x)\n",
        "        return x"
      ],
      "execution_count": 0,
      "outputs": []
    },
    {
      "cell_type": "code",
      "metadata": {
        "id": "_GsREuta9f2-",
        "colab_type": "code",
        "colab": {}
      },
      "source": [
        "class RNN_Decoder(tf.keras.Model):\n",
        "  def __init__(self, embedding_dim, units, vocab_size):\n",
        "    super(RNN_Decoder, self).__init__()\n",
        "    self.units = units\n",
        "\n",
        "    self.embedding = tf.keras.layers.Embedding(vocab_size, embedding_dim)\n",
        "    self.gru = tf.keras.layers.GRU(self.units,\n",
        "                                   return_sequences=True,\n",
        "                                   return_state=True,\n",
        "                                   recurrent_initializer='glorot_uniform')\n",
        "    self.fc1 = tf.keras.layers.Dense(self.units)\n",
        "    self.fc2 = tf.keras.layers.Dense(vocab_size)\n",
        "\n",
        "    self.attention = BahdanauAttention(self.units)\n",
        "\n",
        "  def call(self, x, features, hidden):\n",
        "    # defining attention as a separate model\n",
        "    context_vector, attention_weights = self.attention(features, hidden)\n",
        "\n",
        "    # x shape after passing through embedding == (batch_size, 1, embedding_dim)\n",
        "    x = self.embedding(x)\n",
        "\n",
        "    # x shape after concatenation == (batch_size, 1, embedding_dim + hidden_size)\n",
        "    x = tf.concat([tf.expand_dims(context_vector, 1), x], axis=-1)\n",
        "\n",
        "    # passing the concatenated vector to the GRU\n",
        "    output, state = self.gru(x)\n",
        "\n",
        "    # shape == (batch_size, max_length, hidden_size)\n",
        "    x = self.fc1(output)\n",
        "\n",
        "    # x shape == (batch_size * max_length, hidden_size)\n",
        "    x = tf.reshape(x, (-1, x.shape[2]))\n",
        "\n",
        "    # output shape == (batch_size * max_length, vocab)\n",
        "    x = self.fc2(x)\n",
        "\n",
        "    return x, state, attention_weights\n",
        "\n",
        "  def reset_state(self, batch_size):\n",
        "    return tf.zeros((batch_size, self.units))"
      ],
      "execution_count": 0,
      "outputs": []
    },
    {
      "cell_type": "code",
      "metadata": {
        "id": "zg85M0Gc9iMq",
        "colab_type": "code",
        "colab": {}
      },
      "source": [
        "encoder = CNN_Encoder(embedding_dim)\n",
        "decoder = RNN_Decoder(embedding_dim, units, vocab_size)"
      ],
      "execution_count": 0,
      "outputs": []
    },
    {
      "cell_type": "code",
      "metadata": {
        "id": "cqtnvccY9kBy",
        "colab_type": "code",
        "colab": {}
      },
      "source": [
        "optimizer = tf.keras.optimizers.Adam()\n",
        "loss_object = tf.keras.losses.SparseCategoricalCrossentropy(\n",
        "    from_logits=True, reduction='none')\n",
        "\n",
        "def loss_function(real, pred):\n",
        "  mask = tf.math.logical_not(tf.math.equal(real, 0))\n",
        "  loss_ = loss_object(real, pred)\n",
        "\n",
        "  mask = tf.cast(mask, dtype=loss_.dtype)\n",
        "  loss_ *= mask\n",
        "\n",
        "  return tf.reduce_mean(loss_)"
      ],
      "execution_count": 0,
      "outputs": []
    },
    {
      "cell_type": "code",
      "metadata": {
        "id": "w8eVBUNg9l9R",
        "colab_type": "code",
        "colab": {}
      },
      "source": [
        "checkpoint_path = \"./checkpoints/train\"\n",
        "ckpt = tf.train.Checkpoint(encoder=encoder,\n",
        "                           decoder=decoder,\n",
        "                           optimizer = optimizer)\n",
        "ckpt_manager = tf.train.CheckpointManager(ckpt, checkpoint_path, max_to_keep=5)"
      ],
      "execution_count": 0,
      "outputs": []
    },
    {
      "cell_type": "code",
      "metadata": {
        "id": "_wNslWQu9nh1",
        "colab_type": "code",
        "colab": {}
      },
      "source": [
        "start_epoch = 0\n",
        "if ckpt_manager.latest_checkpoint:\n",
        "  start_epoch = int(ckpt_manager.latest_checkpoint.split('-')[-1])\n",
        "  # restoring the latest checkpoint in checkpoint_path\n",
        "  ckpt.restore(ckpt_manager.latest_checkpoint)"
      ],
      "execution_count": 0,
      "outputs": []
    },
    {
      "cell_type": "code",
      "metadata": {
        "id": "kwTO_AWY9rrk",
        "colab_type": "code",
        "colab": {}
      },
      "source": [
        "loss_plot = []"
      ],
      "execution_count": 0,
      "outputs": []
    },
    {
      "cell_type": "code",
      "metadata": {
        "id": "RCcCp2Ho9trj",
        "colab_type": "code",
        "colab": {}
      },
      "source": [
        "@tf.function\n",
        "def train_step(img_tensor, target):\n",
        "  loss = 0\n",
        "\n",
        "  # initializing the hidden state for each batch\n",
        "  # because the captions are not related from image to image\n",
        "  hidden = decoder.reset_state(batch_size=target.shape[0])\n",
        "\n",
        "  dec_input = tf.expand_dims([tokenizer.word_index['<start>']] * target.shape[0], 1)\n",
        "\n",
        "  with tf.GradientTape() as tape:\n",
        "      features = encoder(img_tensor)\n",
        "\n",
        "      for i in range(1, target.shape[1]):\n",
        "          # passing the features through the decoder\n",
        "          predictions, hidden, _ = decoder(dec_input, features, hidden)\n",
        "\n",
        "          loss += loss_function(target[:, i], predictions)\n",
        "\n",
        "          # using teacher forcing\n",
        "          dec_input = tf.expand_dims(target[:, i], 1)\n",
        "\n",
        "  total_loss = (loss / int(target.shape[1]))\n",
        "  trainable_variables = encoder.trainable_variables + decoder.trainable_variables\n",
        "  gradients = tape.gradient(loss, trainable_variables)\n",
        "  optimizer.apply_gradients(zip(gradients, trainable_variables))\n",
        "  return loss, total_loss"
      ],
      "execution_count": 0,
      "outputs": []
    },
    {
      "cell_type": "code",
      "metadata": {
        "id": "L9zK8ucT9wz2",
        "colab_type": "code",
        "colab": {
          "base_uri": "https://localhost:8080/",
          "height": 1000
        },
        "outputId": "dec5e528-7521-4461-e91d-37d7a94c7c39"
      },
      "source": [
        "EPOCHS = 20\n",
        "\n",
        "for epoch in range(start_epoch, EPOCHS):\n",
        "    start = time.time()\n",
        "    total_loss = 0\n",
        "\n",
        "    for (batch, (img_tensor, target)) in enumerate(dataset):\n",
        "        batch_loss, t_loss = train_step(img_tensor, target)\n",
        "        total_loss += t_loss\n",
        "\n",
        "        if batch % 100 == 0:\n",
        "            print ('Epoch {} Batch {} Loss {:.4f}'.format(\n",
        "              epoch + 1, batch, batch_loss.numpy() / int(target.shape[1])))\n",
        "    # storing the epoch end loss value to plot later\n",
        "    loss_plot.append(total_loss / num_steps)\n",
        "\n",
        "    if epoch % 5 == 0:\n",
        "      ckpt_manager.save()\n",
        "\n",
        "    print ('Epoch {} Loss {:.6f}'.format(epoch + 1,\n",
        "                                         total_loss/num_steps))\n",
        "    print ('Time taken for 1 epoch {} sec\\n'.format(time.time() - start))"
      ],
      "execution_count": 29,
      "outputs": [
        {
          "output_type": "stream",
          "text": [
            "Epoch 1 Batch 0 Loss 2.1045\n",
            "Epoch 1 Batch 100 Loss 1.0985\n",
            "Epoch 1 Batch 200 Loss 1.0190\n",
            "Epoch 1 Batch 300 Loss 0.9387\n",
            "Epoch 1 Batch 400 Loss 0.8584\n",
            "Epoch 1 Batch 500 Loss 0.7902\n",
            "Epoch 1 Batch 600 Loss 0.8629\n",
            "Epoch 1 Batch 700 Loss 0.7620\n",
            "Epoch 1 Loss 0.967539\n",
            "Time taken for 1 epoch 383.6107985973358 sec\n",
            "\n",
            "Epoch 2 Batch 0 Loss 0.7741\n",
            "Epoch 2 Batch 100 Loss 0.8106\n",
            "Epoch 2 Batch 200 Loss 0.7597\n",
            "Epoch 2 Batch 300 Loss 0.7762\n",
            "Epoch 2 Batch 400 Loss 0.6884\n",
            "Epoch 2 Batch 500 Loss 0.7429\n",
            "Epoch 2 Batch 600 Loss 0.6879\n",
            "Epoch 2 Batch 700 Loss 0.7010\n",
            "Epoch 2 Loss 0.763638\n",
            "Time taken for 1 epoch 363.24363112449646 sec\n",
            "\n",
            "Epoch 3 Batch 0 Loss 0.6640\n",
            "Epoch 3 Batch 100 Loss 0.7014\n",
            "Epoch 3 Batch 200 Loss 0.6589\n",
            "Epoch 3 Batch 300 Loss 0.6698\n",
            "Epoch 3 Batch 400 Loss 0.6667\n",
            "Epoch 3 Batch 500 Loss 0.6173\n",
            "Epoch 3 Batch 600 Loss 0.7698\n",
            "Epoch 3 Batch 700 Loss 0.7084\n",
            "Epoch 3 Loss 0.701228\n",
            "Time taken for 1 epoch 361.00651717185974 sec\n",
            "\n",
            "Epoch 4 Batch 0 Loss 0.6050\n",
            "Epoch 4 Batch 100 Loss 0.7233\n",
            "Epoch 4 Batch 200 Loss 0.7892\n",
            "Epoch 4 Batch 300 Loss 0.6078\n",
            "Epoch 4 Batch 400 Loss 0.6822\n",
            "Epoch 4 Batch 500 Loss 0.6134\n",
            "Epoch 4 Batch 600 Loss 0.6740\n",
            "Epoch 4 Batch 700 Loss 0.6972\n",
            "Epoch 4 Loss 0.657932\n",
            "Time taken for 1 epoch 359.4066479206085 sec\n",
            "\n",
            "Epoch 5 Batch 0 Loss 0.6258\n",
            "Epoch 5 Batch 100 Loss 0.6363\n",
            "Epoch 5 Batch 200 Loss 0.6541\n",
            "Epoch 5 Batch 300 Loss 0.6499\n",
            "Epoch 5 Batch 400 Loss 0.6106\n",
            "Epoch 5 Batch 500 Loss 0.5772\n",
            "Epoch 5 Batch 600 Loss 0.5751\n",
            "Epoch 5 Batch 700 Loss 0.6314\n",
            "Epoch 5 Loss 0.620825\n",
            "Time taken for 1 epoch 359.267053604126 sec\n",
            "\n",
            "Epoch 6 Batch 0 Loss 0.5951\n",
            "Epoch 6 Batch 100 Loss 0.6600\n",
            "Epoch 6 Batch 200 Loss 0.5898\n",
            "Epoch 6 Batch 300 Loss 0.6252\n",
            "Epoch 6 Batch 400 Loss 0.5905\n",
            "Epoch 6 Batch 500 Loss 0.4908\n",
            "Epoch 6 Batch 600 Loss 0.6773\n",
            "Epoch 6 Batch 700 Loss 0.5668\n",
            "Epoch 6 Loss 0.586415\n",
            "Time taken for 1 epoch 358.5806543827057 sec\n",
            "\n",
            "Epoch 7 Batch 0 Loss 0.6087\n",
            "Epoch 7 Batch 100 Loss 0.5827\n",
            "Epoch 7 Batch 200 Loss 0.5489\n",
            "Epoch 7 Batch 300 Loss 0.5893\n",
            "Epoch 7 Batch 400 Loss 0.5289\n",
            "Epoch 7 Batch 500 Loss 0.5393\n",
            "Epoch 7 Batch 600 Loss 0.5630\n",
            "Epoch 7 Batch 700 Loss 0.5190\n",
            "Epoch 7 Loss 0.553402\n",
            "Time taken for 1 epoch 358.6078140735626 sec\n",
            "\n",
            "Epoch 8 Batch 0 Loss 0.5257\n",
            "Epoch 8 Batch 100 Loss 0.5487\n",
            "Epoch 8 Batch 200 Loss 0.5651\n",
            "Epoch 8 Batch 300 Loss 0.4557\n",
            "Epoch 8 Batch 400 Loss 0.5111\n",
            "Epoch 8 Batch 500 Loss 0.5155\n",
            "Epoch 8 Batch 600 Loss 0.5000\n",
            "Epoch 8 Batch 700 Loss 0.5269\n",
            "Epoch 8 Loss 0.523277\n",
            "Time taken for 1 epoch 359.47229623794556 sec\n",
            "\n",
            "Epoch 9 Batch 0 Loss 0.4595\n",
            "Epoch 9 Batch 100 Loss 0.4961\n",
            "Epoch 9 Batch 200 Loss 0.6231\n",
            "Epoch 9 Batch 300 Loss 0.4919\n",
            "Epoch 9 Batch 400 Loss 0.5106\n",
            "Epoch 9 Batch 500 Loss 0.4597\n",
            "Epoch 9 Batch 600 Loss 0.4432\n",
            "Epoch 9 Batch 700 Loss 0.5281\n",
            "Epoch 9 Loss 0.489350\n",
            "Time taken for 1 epoch 359.148597240448 sec\n",
            "\n",
            "Epoch 10 Batch 0 Loss 0.5026\n",
            "Epoch 10 Batch 100 Loss 0.4832\n",
            "Epoch 10 Batch 200 Loss 0.4741\n",
            "Epoch 10 Batch 300 Loss 0.4466\n",
            "Epoch 10 Batch 400 Loss 0.4476\n",
            "Epoch 10 Batch 500 Loss 0.4114\n",
            "Epoch 10 Batch 600 Loss 0.4202\n",
            "Epoch 10 Batch 700 Loss 0.3830\n",
            "Epoch 10 Loss 0.459235\n",
            "Time taken for 1 epoch 359.22160720825195 sec\n",
            "\n",
            "Epoch 11 Batch 0 Loss 0.4493\n",
            "Epoch 11 Batch 100 Loss 0.4642\n",
            "Epoch 11 Batch 200 Loss 0.3611\n",
            "Epoch 11 Batch 300 Loss 0.4280\n",
            "Epoch 11 Batch 400 Loss 0.4301\n",
            "Epoch 11 Batch 500 Loss 0.4318\n",
            "Epoch 11 Batch 600 Loss 0.4576\n",
            "Epoch 11 Batch 700 Loss 0.3876\n",
            "Epoch 11 Loss 0.428489\n",
            "Time taken for 1 epoch 358.9721796512604 sec\n",
            "\n",
            "Epoch 12 Batch 0 Loss 0.4278\n",
            "Epoch 12 Batch 100 Loss 0.3792\n",
            "Epoch 12 Batch 200 Loss 0.4487\n",
            "Epoch 12 Batch 300 Loss 0.3959\n",
            "Epoch 12 Batch 400 Loss 0.4797\n",
            "Epoch 12 Batch 500 Loss 0.3656\n",
            "Epoch 12 Batch 600 Loss 0.4106\n",
            "Epoch 12 Batch 700 Loss 0.4075\n",
            "Epoch 12 Loss 0.401202\n",
            "Time taken for 1 epoch 359.07355785369873 sec\n",
            "\n",
            "Epoch 13 Batch 0 Loss 0.3744\n",
            "Epoch 13 Batch 100 Loss 0.4092\n",
            "Epoch 13 Batch 200 Loss 0.3437\n",
            "Epoch 13 Batch 300 Loss 0.3427\n",
            "Epoch 13 Batch 400 Loss 0.3578\n",
            "Epoch 13 Batch 500 Loss 0.3666\n",
            "Epoch 13 Batch 600 Loss 0.3520\n",
            "Epoch 13 Batch 700 Loss 0.3710\n",
            "Epoch 13 Loss 0.372204\n",
            "Time taken for 1 epoch 358.2355692386627 sec\n",
            "\n",
            "Epoch 14 Batch 0 Loss 0.4139\n",
            "Epoch 14 Batch 100 Loss 0.3584\n",
            "Epoch 14 Batch 200 Loss 0.3600\n",
            "Epoch 14 Batch 300 Loss 0.3315\n",
            "Epoch 14 Batch 400 Loss 0.3363\n",
            "Epoch 14 Batch 500 Loss 0.3405\n",
            "Epoch 14 Batch 600 Loss 0.3439\n",
            "Epoch 14 Batch 700 Loss 0.3188\n",
            "Epoch 14 Loss 0.346583\n",
            "Time taken for 1 epoch 358.5883128643036 sec\n",
            "\n",
            "Epoch 15 Batch 0 Loss 0.3765\n",
            "Epoch 15 Batch 100 Loss 0.2714\n",
            "Epoch 15 Batch 200 Loss 0.3009\n",
            "Epoch 15 Batch 300 Loss 0.3618\n",
            "Epoch 15 Batch 400 Loss 0.3241\n",
            "Epoch 15 Batch 500 Loss 0.2950\n",
            "Epoch 15 Batch 600 Loss 0.2806\n",
            "Epoch 15 Batch 700 Loss 0.3512\n",
            "Epoch 15 Loss 0.322247\n",
            "Time taken for 1 epoch 358.1388840675354 sec\n",
            "\n",
            "Epoch 16 Batch 0 Loss 0.3552\n",
            "Epoch 16 Batch 100 Loss 0.2583\n",
            "Epoch 16 Batch 200 Loss 0.3111\n",
            "Epoch 16 Batch 300 Loss 0.2753\n",
            "Epoch 16 Batch 400 Loss 0.2554\n",
            "Epoch 16 Batch 500 Loss 0.2951\n",
            "Epoch 16 Batch 600 Loss 0.3244\n",
            "Epoch 16 Batch 700 Loss 0.2487\n",
            "Epoch 16 Loss 0.301129\n",
            "Time taken for 1 epoch 358.36342191696167 sec\n",
            "\n",
            "Epoch 17 Batch 0 Loss 0.3140\n",
            "Epoch 17 Batch 100 Loss 0.3033\n",
            "Epoch 17 Batch 200 Loss 0.2846\n",
            "Epoch 17 Batch 300 Loss 0.2598\n",
            "Epoch 17 Batch 400 Loss 0.2950\n",
            "Epoch 17 Batch 500 Loss 0.2813\n",
            "Epoch 17 Batch 600 Loss 0.2419\n",
            "Epoch 17 Batch 700 Loss 0.2696\n",
            "Epoch 17 Loss 0.280421\n",
            "Time taken for 1 epoch 358.1990211009979 sec\n",
            "\n",
            "Epoch 18 Batch 0 Loss 0.2761\n",
            "Epoch 18 Batch 100 Loss 0.2489\n",
            "Epoch 18 Batch 200 Loss 0.2461\n",
            "Epoch 18 Batch 300 Loss 0.2853\n",
            "Epoch 18 Batch 400 Loss 0.2685\n",
            "Epoch 18 Batch 500 Loss 0.2779\n",
            "Epoch 18 Batch 600 Loss 0.2062\n",
            "Epoch 18 Batch 700 Loss 0.2587\n",
            "Epoch 18 Loss 0.262738\n",
            "Time taken for 1 epoch 357.86155700683594 sec\n",
            "\n",
            "Epoch 19 Batch 0 Loss 0.2762\n",
            "Epoch 19 Batch 100 Loss 0.2650\n",
            "Epoch 19 Batch 200 Loss 0.2546\n",
            "Epoch 19 Batch 300 Loss 0.2822\n",
            "Epoch 19 Batch 400 Loss 0.2348\n",
            "Epoch 19 Batch 500 Loss 0.2201\n",
            "Epoch 19 Batch 600 Loss 0.2431\n",
            "Epoch 19 Batch 700 Loss 0.2586\n",
            "Epoch 19 Loss 0.244997\n",
            "Time taken for 1 epoch 357.623108625412 sec\n",
            "\n",
            "Epoch 20 Batch 0 Loss 0.2919\n",
            "Epoch 20 Batch 100 Loss 0.2412\n",
            "Epoch 20 Batch 200 Loss 0.2052\n",
            "Epoch 20 Batch 300 Loss 0.2341\n",
            "Epoch 20 Batch 400 Loss 0.2429\n",
            "Epoch 20 Batch 500 Loss 0.2299\n",
            "Epoch 20 Batch 600 Loss 0.2169\n",
            "Epoch 20 Batch 700 Loss 0.2149\n",
            "Epoch 20 Loss 0.231423\n",
            "Time taken for 1 epoch 357.71596670150757 sec\n",
            "\n"
          ],
          "name": "stdout"
        }
      ]
    },
    {
      "cell_type": "code",
      "metadata": {
        "id": "CxA7Inoy90Mp",
        "colab_type": "code",
        "colab": {
          "base_uri": "https://localhost:8080/",
          "height": 295
        },
        "outputId": "d695cc54-71a4-4139-8190-0b9e207074ac"
      },
      "source": [
        "plt.plot(loss_plot)\n",
        "plt.xlabel('Epochs')\n",
        "plt.ylabel('Loss')\n",
        "plt.title('Loss Plot')\n",
        "plt.show()"
      ],
      "execution_count": 30,
      "outputs": [
        {
          "output_type": "display_data",
          "data": {
            "image/png": "[encoded data removed]",
            "text/plain": [
              "<Figure size 432x288 with 1 Axes>"
            ]
          },
          "metadata": {
            "tags": [],
            "needs_background": "light"
          }
        }
      ]
    }
  ]
}